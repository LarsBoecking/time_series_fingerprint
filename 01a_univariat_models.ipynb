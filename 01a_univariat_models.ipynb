{
 "cells": [
  {
   "cell_type": "code",
   "execution_count": 1,
   "metadata": {},
   "outputs": [],
   "source": [
    "import os\n",
    "\n",
    "import matplotlib.pyplot as plt\n",
    "import numpy as np\n",
    "import pandas as pd\n",
    "from sklearn.linear_model import RidgeClassifierCV\n",
    "from sklearn.metrics import accuracy_score\n",
    "from sklearn.pipeline import make_pipeline\n",
    "from sktime.classification.deep_learning import InceptionTimeClassifier\n",
    "from sktime.classification.deep_learning.cnn import CNNClassifier\n",
    "from sktime.classification.dictionary_based import MUSE, WEASEL, BOSSEnsemble\n",
    "from sktime.classification.distance_based import ProximityForest\n",
    "from sktime.classification.dummy import DummyClassifier\n",
    "from sktime.classification.feature_based import TSFreshClassifier\n",
    "from sktime.classification.hybrid import HIVECOTEV1, HIVECOTEV2\n",
    "from sktime.classification.interval_based import (\n",
    "    RandomIntervalSpectralEnsemble,\n",
    "    TimeSeriesForestClassifier,\n",
    ")\n",
    "from sktime.classification.kernel_based import RocketClassifier\n",
    "from sktime.classification.shapelet_based import MrSEQL, MrSQM\n",
    "from sktime.datasets._data_io import _load_provided_dataset\n",
    "from sktime.transformations.panel import channel_selection\n",
    "from sktime.transformations.panel.rocket import Rocket\n",
    "\n",
    "DATA_PATH = os.path.join(os.getcwd(), \"datasets\", \"Univariate_ts\")"
   ]
  },
  {
   "cell_type": "code",
   "execution_count": 2,
   "metadata": {},
   "outputs": [],
   "source": [
    "data_set_name = \"ArrowHead\"\n",
    "\n",
    "X_train, y_train = _load_provided_dataset(\n",
    "    name=data_set_name,\n",
    "    split=\"train\",\n",
    "    return_X_y=True,\n",
    "    return_type=None,\n",
    "    extract_path=DATA_PATH,\n",
    ")\n",
    "\n",
    "X_test, y_test = _load_provided_dataset(\n",
    "    name=data_set_name,\n",
    "    split=\"test\",\n",
    "    return_X_y=True,\n",
    "    return_type=None,\n",
    "    extract_path=DATA_PATH,\n",
    ")"
   ]
  },
  {
   "cell_type": "code",
   "execution_count": 3,
   "metadata": {},
   "outputs": [],
   "source": [
    "DummyClassifier_model = DummyClassifier()\n",
    "RocketClassifier_model = RocketClassifier(num_kernels=500)\n",
    "CNNClassifier_model = CNNClassifier(n_epochs=50,batch_size=4)\n",
    "InceptionTimeClassifier_model = InceptionTimeClassifier(n_epochs=1, batch_size=64, kernel_size=40, n_filters=32)\n",
    "MUSE_model = MUSE()\n",
    "\n",
    "RandomIntervalSpectralEnsemble_model = RandomIntervalSpectralEnsemble(n_estimators=10) \n",
    "BOSSEnsemble_model = BOSSEnsemble() \n",
    "WEASEL_model = WEASEL() \n",
    "TimeSeriesForestClassifier_model = TimeSeriesForestClassifier(n_estimators=10) \n",
    "\n",
    "\n",
    "# cs = channel_selection.ElbowClassSum()  # ECS\n",
    "cs = channel_selection.ElbowClassPairwise()  # ECP\n",
    "\n",
    "rocket_pipeline = make_pipeline(cs, Rocket(), RidgeClassifierCV())"
   ]
  },
  {
   "cell_type": "code",
   "execution_count": 4,
   "metadata": {},
   "outputs": [
    {
     "data": {
      "text/plain": [
       "0.6742857142857143"
      ]
     },
     "execution_count": 4,
     "metadata": {},
     "output_type": "execute_result"
    }
   ],
   "source": [
    "RandomIntervalSpectralEnsemble_model.fit(X_train, y_train)\n",
    "RandomIntervalSpectralEnsemble_model.score(X_test, y_test)"
   ]
  },
  {
   "cell_type": "code",
   "execution_count": null,
   "metadata": {},
   "outputs": [],
   "source": []
  }
 ],
 "metadata": {
  "kernelspec": {
   "display_name": ".venv",
   "language": "python",
   "name": "python3"
  },
  "language_info": {
   "codemirror_mode": {
    "name": "ipython",
    "version": 3
   },
   "file_extension": ".py",
   "mimetype": "text/x-python",
   "name": "python",
   "nbconvert_exporter": "python",
   "pygments_lexer": "ipython3",
   "version": "3.11.4"
  },
  "orig_nbformat": 4
 },
 "nbformat": 4,
 "nbformat_minor": 2
}
