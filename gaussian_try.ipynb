{
 "cells": [
  {
   "cell_type": "markdown",
   "id": "117d3726",
   "metadata": {},
   "source": [
    "# Gaussian process regression - hands on implementation"
   ]
  },
  {
   "cell_type": "markdown",
   "id": "87a6f995",
   "metadata": {},
   "source": [
    "## Overview"
   ]
  },
  {
   "cell_type": "markdown",
   "id": "dcb462c6",
   "metadata": {},
   "source": [
    "This notebook contains a complete implementation of a Gaussian Process Regressor (GPR) with a squared exponential kernel using Numpy for matrix operations and Plotly for visualisation. \n",
    "\n",
    "The purpose of this notebook is to understand the main components of a GPR and to visualise the effects of certain parameters on the output. \n",
    "It is _not_ intended as a theoretical introduction to GPRs.\n",
    "A good introduction can be found [here](http://www.gaussianprocess.org/gpml/chapters/RW.pdf). \n",
    "\n",
    "Stable and effective implementations of GPR's are available, for example, in the [gpytorch](https://gpytorch.ai) package."
   ]
  },
  {
   "cell_type": "markdown",
   "id": "bfc98796",
   "metadata": {},
   "source": [
    "## Packages"
   ]
  },
  {
   "cell_type": "code",
   "execution_count": 1,
   "id": "b48ebe22",
   "metadata": {},
   "outputs": [],
   "source": [
    "import numpy as np\n",
    "import plotly.graph_objects as go\n",
    "from ipywidgets import interact, widgets"
   ]
  },
  {
   "cell_type": "markdown",
   "id": "4575ccbd",
   "metadata": {},
   "source": [
    "## Plotting helper functions"
   ]
  },
  {
   "cell_type": "markdown",
   "id": "caa8c0bf",
   "metadata": {},
   "source": [
    "To have nice visualizations of the later GPR, we use Plotly and to have structured and lean code, we define a few commonly used 'helpers' here. "
   ]
  },
  {
   "cell_type": "code",
   "execution_count": 2,
   "id": "ad8a0219",
   "metadata": {
    "code_folding": [
     0
    ]
   },
   "outputs": [],
   "source": [
    "def update_layout_of_graph(fig: go.Figure,title: str = 'Plot')->go.Figure:\n",
    "    fig.update_layout(\n",
    "        width=800,\n",
    "        height=600,\n",
    "        autosize=False,\n",
    "        plot_bgcolor='rgba(0,0,0,0)',\n",
    "        title=title,\n",
    "        \n",
    "    )\n",
    "    fig.update_layout(plot_bgcolor='rgba(0,0,0,0)',\n",
    "                      xaxis_title = 'input values',\n",
    "                      yaxis_title = 'output values',\n",
    "                      legend=dict(yanchor=\"top\",\n",
    "                                  y=0.9,\n",
    "                                  xanchor=\"right\",\n",
    "                                  x=0.95),\n",
    "                      title={\n",
    "                          'x': 0.5,\n",
    "                          'xanchor': 'center'\n",
    "                      })\n",
    "    fig.update_xaxes(showline=True, linewidth=1, linecolor='black')\n",
    "    fig.update_yaxes(showline=True, linewidth=1, linecolor='black')\n",
    "    return fig"
   ]
  },
  {
   "cell_type": "code",
   "execution_count": 3,
   "id": "66e5a661",
   "metadata": {
    "code_folding": [
     0,
     6
    ]
   },
   "outputs": [],
   "source": [
    "def line_scatter(\n",
    "    visible: bool = True,\n",
    "    x_lines: np.array = np.array([]),\n",
    "    y_lines: np.array = np.array([]),\n",
    "    name_line: str = 'Predicted function',\n",
    "    showlegend: bool = True,\n",
    ") -> go.Scatter:\n",
    "    # Adding the lines\n",
    "    return go.Scatter(\n",
    "        visible=visible,\n",
    "        line=dict(color=\"blue\", width=2),\n",
    "        x=x_lines,\n",
    "        y=y_lines,\n",
    "        name=name_line,\n",
    "        showlegend= showlegend\n",
    "    )"
   ]
  },
  {
   "cell_type": "code",
   "execution_count": 4,
   "id": "f0b4e5ac",
   "metadata": {
    "code_folding": [
     0,
     6
    ]
   },
   "outputs": [],
   "source": [
    "def dot_scatter(\n",
    "    visible: bool = True,\n",
    "    x_dots: np.array = np.array([]),\n",
    "    y_dots: np.array = np.array([]),\n",
    "    name_dots: str = 'Observed points',\n",
    "    showlegend: bool = True\n",
    ") -> go.Scatter:\n",
    "    # Adding the dots\n",
    "    return go.Scatter(\n",
    "        x=x_dots,\n",
    "        visible=visible,\n",
    "        y=y_dots,\n",
    "        mode=\"markers\",\n",
    "        name=name_dots,\n",
    "        marker=dict(color='red', size=8),\n",
    "        showlegend=showlegend\n",
    "    )"
   ]
  },
  {
   "cell_type": "code",
   "execution_count": 5,
   "id": "8dda25c4",
   "metadata": {
    "code_folding": [
     0,
     6
    ]
   },
   "outputs": [],
   "source": [
    "def uncertainty_area_scatter(\n",
    "        visible: bool = True,\n",
    "        x_lines: np.array = np.array([]),\n",
    "        y_upper: np.array = np.array([]),\n",
    "        y_lower: np.array = np.array([]),\n",
    "        name: str = \"mean plus/minus standard deviation\",\n",
    ") -> go.Scatter:\n",
    "\n",
    "    return go.Scatter(\n",
    "        visible=visible,\n",
    "        x=np.concatenate((x_lines, x_lines[::-1])),  # x, then x reversed\n",
    "        # upper, then lower reversed\n",
    "        y=np.concatenate((y_upper, y_lower[::-1])),\n",
    "        fill='toself',\n",
    "        fillcolor='rgba(189,195,199,0.5)',\n",
    "        line=dict(color='rgba(200,200,200,0)'),\n",
    "        hoverinfo=\"skip\",\n",
    "        showlegend=True,\n",
    "        name= name,\n",
    "    )"
   ]
  },
  {
   "cell_type": "code",
   "execution_count": 6,
   "id": "6a0be169",
   "metadata": {
    "code_folding": [
     0
    ]
   },
   "outputs": [],
   "source": [
    "def add_slider_GPR(figure: go.Figure, parameters):\n",
    "    figure.data[0].visible = True\n",
    "    figure.data[1].visible = True\n",
    "\n",
    "    # Create and add slider\n",
    "    steps = []\n",
    "    for i in range(int((len(figure.data) - 1) / 2)):\n",
    "        step = dict(\n",
    "            method=\"update\",\n",
    "            label=f'{parameters[i]: .2f}',\n",
    "            args=[{\n",
    "                \"visible\": [False] * (len(figure.data) - 1) + [True]\n",
    "            }],\n",
    "        )\n",
    "        step[\"args\"][0][\"visible\"][2 *\n",
    "                                   i] = True  # Toggle i'th trace to \"visible\"\n",
    "        step[\"args\"][0][\"visible\"][2 * i + 1] = True\n",
    "        steps.append(step)\n",
    "\n",
    "    sliders = [dict(\n",
    "        active=0,\n",
    "        pad={\"t\": 50},\n",
    "        steps=steps,\n",
    "    )]\n",
    "    figure.update_layout(sliders=sliders, )\n",
    "    return figure"
   ]
  },
  {
   "cell_type": "code",
   "execution_count": 7,
   "id": "cf44e383",
   "metadata": {
    "code_folding": [
     0
    ]
   },
   "outputs": [],
   "source": [
    "def add_slider_to_function(figure:go.Figure, parameters):\n",
    "    figure.data[0].visible = True\n",
    "\n",
    "    # Create and add slider\n",
    "    steps = []\n",
    "    for i in range(len(figure.data)):\n",
    "        step = dict(\n",
    "            method=\"update\",\n",
    "            label=f'{parameters[i]: .2f}',\n",
    "            args=[{\n",
    "                \"visible\": [False] *len(figure.data) \n",
    "            }],\n",
    "        )\n",
    "        step[\"args\"][0][\"visible\"][i] = True  # Toggle i'th trace to \"visible\"\n",
    "        steps.append(step)\n",
    "\n",
    "    sliders = [dict(\n",
    "        active=0,\n",
    "        pad={\"t\": 50},\n",
    "        steps=steps,\n",
    "    )]\n",
    "    figure.update_layout(sliders=sliders, )\n",
    "    return figure"
   ]
  },
  {
   "cell_type": "markdown",
   "id": "9058664e",
   "metadata": {},
   "source": [
    "## Implementation of GPR with squared exponential kernel"
   ]
  },
  {
   "cell_type": "markdown",
   "id": "fa792ab3",
   "metadata": {},
   "source": [
    "In order to define a gaussian process regressor (GPR) we need a covariance function (also called kernel). The choice of this function will determine the 'shape' of the later GPR. \n",
    "\n",
    "In this notebook we choose the popular _squared exponential_ kernel:\n",
    "$$ k(x_1,x_2):= \\sigma^2*\\exp(-\\|x_1-x_2\\|^2_2)/(2*l^2))$$\n",
    "with $$l>0$$ the lengthscale and $$\\sigma^2>0$$ the signal variance. \n",
    "You are encouraged to implement a different kernel and see the difference in the resulting GPR!\n",
    "\n"
   ]
  },
  {
   "cell_type": "code",
   "execution_count": 8,
   "id": "cbc55090",
   "metadata": {},
   "outputs": [],
   "source": [
    "class SquaredExponentialKernel:\n",
    "    def __init__(self, sigma_f: float = 1, length: float = 1):\n",
    "        self.sigma_f = sigma_f\n",
    "        self.length = length\n",
    "\n",
    "    def __call__(self, argument_1: np.array, argument_2: np.array) -> float:\n",
    "        return float(self.sigma_f *\n",
    "                     np.exp(-(np.linalg.norm(argument_1 - argument_2)**2) /\n",
    "                            (2 * self.length**2)))"
   ]
  },
  {
   "cell_type": "markdown",
   "id": "b23258da",
   "metadata": {},
   "source": [
    "Let us visualize this kernel."
   ]
  },
  {
   "cell_type": "code",
   "execution_count": 9,
   "id": "e1cd79c0",
   "metadata": {},
   "outputs": [
    {
     "data": {
      "application/vnd.jupyter.widget-view+json": {
       "model_id": "ca746734af3345e6be654e1ced59fe63",
       "version_major": 2,
       "version_minor": 0
      },
      "text/plain": [
       "interactive(children=(FloatSlider(value=1.0, description='length', max=3.0, min=0.1), FloatSlider(value=0.0, d…"
      ]
     },
     "metadata": {},
     "output_type": "display_data"
    },
    {
     "data": {
      "application/vnd.jupyter.widget-view+json": {
       "model_id": "a00f9cbbbdc74e3182219a8bf6b31b0f",
       "version_major": 2,
       "version_minor": 0
      },
      "text/plain": [
       "FigureWidget({\n",
       "    'data': [{'line': {'color': 'blue', 'width': 2},\n",
       "              'name': 'Predicted function',\n",
       "              'showlegend': True,\n",
       "              'type': 'scatter',\n",
       "              'uid': '29d4947a-f9d6-4795-9698-605468577e94',\n",
       "              'visible': True,\n",
       "              'x': array([-1.00000000e+01, -9.90000000e+00, -9.80000000e+00, -9.70000000e+00,\n",
       "                          -9.60000000e+00, -9.50000000e+00, -9.40000000e+00, -9.30000000e+00,\n",
       "                          -9.20000000e+00, -9.10000000e+00, -9.00000000e+00, -8.90000000e+00,\n",
       "                          -8.80000000e+00, -8.70000000e+00, -8.60000000e+00, -8.50000000e+00,\n",
       "                          -8.40000000e+00, -8.30000000e+00, -8.20000000e+00, -8.10000000e+00,\n",
       "                          -8.00000000e+00, -7.90000000e+00, -7.80000000e+00, -7.70000000e+00,\n",
       "                          -7.60000000e+00, -7.50000000e+00, -7.40000000e+00, -7.30000000e+00,\n",
       "                          -7.20000000e+00, -7.10000000e+00, -7.00000000e+00, -6.90000000e+00,\n",
       "                          -6.80000000e+00, -6.70000000e+00, -6.60000000e+00, -6.50000000e+00,\n",
       "                          -6.40000000e+00, -6.30000000e+00, -6.20000000e+00, -6.10000000e+00,\n",
       "                          -6.00000000e+00, -5.90000000e+00, -5.80000000e+00, -5.70000000e+00,\n",
       "                          -5.60000000e+00, -5.50000000e+00, -5.40000000e+00, -5.30000000e+00,\n",
       "                          -5.20000000e+00, -5.10000000e+00, -5.00000000e+00, -4.90000000e+00,\n",
       "                          -4.80000000e+00, -4.70000000e+00, -4.60000000e+00, -4.50000000e+00,\n",
       "                          -4.40000000e+00, -4.30000000e+00, -4.20000000e+00, -4.10000000e+00,\n",
       "                          -4.00000000e+00, -3.90000000e+00, -3.80000000e+00, -3.70000000e+00,\n",
       "                          -3.60000000e+00, -3.50000000e+00, -3.40000000e+00, -3.30000000e+00,\n",
       "                          -3.20000000e+00, -3.10000000e+00, -3.00000000e+00, -2.90000000e+00,\n",
       "                          -2.80000000e+00, -2.70000000e+00, -2.60000000e+00, -2.50000000e+00,\n",
       "                          -2.40000000e+00, -2.30000000e+00, -2.20000000e+00, -2.10000000e+00,\n",
       "                          -2.00000000e+00, -1.90000000e+00, -1.80000000e+00, -1.70000000e+00,\n",
       "                          -1.60000000e+00, -1.50000000e+00, -1.40000000e+00, -1.30000000e+00,\n",
       "                          -1.20000000e+00, -1.10000000e+00, -1.00000000e+00, -9.00000000e-01,\n",
       "                          -8.00000000e-01, -7.00000000e-01, -6.00000000e-01, -5.00000000e-01,\n",
       "                          -4.00000000e-01, -3.00000000e-01, -2.00000000e-01, -1.00000000e-01,\n",
       "                          -3.55271368e-14,  1.00000000e-01,  2.00000000e-01,  3.00000000e-01,\n",
       "                           4.00000000e-01,  5.00000000e-01,  6.00000000e-01,  7.00000000e-01,\n",
       "                           8.00000000e-01,  9.00000000e-01,  1.00000000e+00,  1.10000000e+00,\n",
       "                           1.20000000e+00,  1.30000000e+00,  1.40000000e+00,  1.50000000e+00,\n",
       "                           1.60000000e+00,  1.70000000e+00,  1.80000000e+00,  1.90000000e+00,\n",
       "                           2.00000000e+00,  2.10000000e+00,  2.20000000e+00,  2.30000000e+00,\n",
       "                           2.40000000e+00,  2.50000000e+00,  2.60000000e+00,  2.70000000e+00,\n",
       "                           2.80000000e+00,  2.90000000e+00,  3.00000000e+00,  3.10000000e+00,\n",
       "                           3.20000000e+00,  3.30000000e+00,  3.40000000e+00,  3.50000000e+00,\n",
       "                           3.60000000e+00,  3.70000000e+00,  3.80000000e+00,  3.90000000e+00,\n",
       "                           4.00000000e+00,  4.10000000e+00,  4.20000000e+00,  4.30000000e+00,\n",
       "                           4.40000000e+00,  4.50000000e+00,  4.60000000e+00,  4.70000000e+00,\n",
       "                           4.80000000e+00,  4.90000000e+00,  5.00000000e+00,  5.10000000e+00,\n",
       "                           5.20000000e+00,  5.30000000e+00,  5.40000000e+00,  5.50000000e+00,\n",
       "                           5.60000000e+00,  5.70000000e+00,  5.80000000e+00,  5.90000000e+00,\n",
       "                           6.00000000e+00,  6.10000000e+00,  6.20000000e+00,  6.30000000e+00,\n",
       "                           6.40000000e+00,  6.50000000e+00,  6.60000000e+00,  6.70000000e+00,\n",
       "                           6.80000000e+00,  6.90000000e+00,  7.00000000e+00,  7.10000000e+00,\n",
       "                           7.20000000e+00,  7.30000000e+00,  7.40000000e+00,  7.50000000e+00,\n",
       "                           7.60000000e+00,  7.70000000e+00,  7.80000000e+00,  7.90000000e+00,\n",
       "                           8.00000000e+00,  8.10000000e+00,  8.20000000e+00,  8.30000000e+00,\n",
       "                           8.40000000e+00,  8.50000000e+00,  8.60000000e+00,  8.70000000e+00,\n",
       "                           8.80000000e+00,  8.90000000e+00,  9.00000000e+00,  9.10000000e+00,\n",
       "                           9.20000000e+00,  9.30000000e+00,  9.40000000e+00,  9.50000000e+00,\n",
       "                           9.60000000e+00,  9.70000000e+00,  9.80000000e+00,  9.90000000e+00]),\n",
       "              'y': array([1.92874985e-22, 5.21673666e-22, 1.39694394e-21, 3.70353198e-21,\n",
       "                          9.72098502e-21, 2.52616378e-20, 6.49934797e-20, 1.65552266e-19,\n",
       "                          4.17501006e-19, 1.04240618e-18, 2.57675711e-18, 6.30618989e-18,\n",
       "                          1.52797997e-17, 3.66543340e-17, 8.70542662e-17, 2.04697171e-16,\n",
       "                          4.76530474e-16, 1.09831413e-15, 2.50622189e-15, 5.66199552e-15,\n",
       "                          1.26641655e-14, 2.80440474e-14, 6.14839641e-14, 1.33456608e-13,\n",
       "                          2.86797501e-13, 6.10193668e-13, 1.28533723e-12, 2.68054764e-12,\n",
       "                          5.53461007e-12, 1.13137762e-11, 2.28973485e-11, 4.58796249e-11,\n",
       "                          9.10147076e-11, 1.78755887e-10, 3.47589128e-10, 6.69158609e-10,\n",
       "                          1.27540763e-09, 2.40672244e-09, 4.49634946e-09, 8.31670246e-09,\n",
       "                          1.52299797e-08, 2.76124246e-08, 4.95640532e-08, 8.80817920e-08,\n",
       "                          1.54975314e-07, 2.69957850e-07, 4.65571572e-07, 7.94939362e-07,\n",
       "                          1.34381228e-06, 2.24905597e-06, 3.72665317e-06, 6.11356797e-06,\n",
       "                          9.92950431e-06, 1.59667839e-05, 2.54193465e-05, 4.00652974e-05,\n",
       "                          6.25215038e-05, 9.65934137e-05, 1.47748360e-04, 2.23745794e-04,\n",
       "                          3.35462628e-04, 4.97955422e-04, 7.31802419e-04, 1.06476624e-03,\n",
       "                          1.53381068e-03, 2.18749112e-03, 3.08871541e-03, 4.31784001e-03,\n",
       "                          5.97602290e-03, 8.18870101e-03, 1.11089965e-02, 1.49207861e-02,\n",
       "                          1.98410947e-02, 2.61214099e-02, 3.40474547e-02, 4.39369336e-02,\n",
       "                          5.61347628e-02, 7.10053537e-02, 8.89216175e-02, 1.10250525e-01,\n",
       "                          1.35335283e-01, 1.64474457e-01, 1.97898699e-01, 2.35746077e-01,\n",
       "                          2.78037300e-01, 3.24652467e-01, 3.75311099e-01, 4.29557358e-01,\n",
       "                          4.86752256e-01, 5.46074427e-01, 6.06530660e-01, 6.66976811e-01,\n",
       "                          7.26149037e-01, 7.82704538e-01, 8.35270211e-01, 8.82496903e-01,\n",
       "                          9.23116346e-01, 9.55997482e-01, 9.80198673e-01, 9.95012479e-01,\n",
       "                          1.00000000e+00, 9.95012479e-01, 9.80198673e-01, 9.55997482e-01,\n",
       "                          9.23116346e-01, 8.82496903e-01, 8.35270211e-01, 7.82704538e-01,\n",
       "                          7.26149037e-01, 6.66976811e-01, 6.06530660e-01, 5.46074427e-01,\n",
       "                          4.86752256e-01, 4.29557358e-01, 3.75311099e-01, 3.24652467e-01,\n",
       "                          2.78037300e-01, 2.35746077e-01, 1.97898699e-01, 1.64474457e-01,\n",
       "                          1.35335283e-01, 1.10250525e-01, 8.89216175e-02, 7.10053537e-02,\n",
       "                          5.61347628e-02, 4.39369336e-02, 3.40474547e-02, 2.61214099e-02,\n",
       "                          1.98410947e-02, 1.49207861e-02, 1.11089965e-02, 8.18870101e-03,\n",
       "                          5.97602290e-03, 4.31784001e-03, 3.08871541e-03, 2.18749112e-03,\n",
       "                          1.53381068e-03, 1.06476624e-03, 7.31802419e-04, 4.97955422e-04,\n",
       "                          3.35462628e-04, 2.23745794e-04, 1.47748360e-04, 9.65934137e-05,\n",
       "                          6.25215038e-05, 4.00652974e-05, 2.54193465e-05, 1.59667839e-05,\n",
       "                          9.92950431e-06, 6.11356797e-06, 3.72665317e-06, 2.24905597e-06,\n",
       "                          1.34381228e-06, 7.94939362e-07, 4.65571572e-07, 2.69957850e-07,\n",
       "                          1.54975314e-07, 8.80817920e-08, 4.95640532e-08, 2.76124246e-08,\n",
       "                          1.52299797e-08, 8.31670246e-09, 4.49634946e-09, 2.40672244e-09,\n",
       "                          1.27540763e-09, 6.69158609e-10, 3.47589128e-10, 1.78755887e-10,\n",
       "                          9.10147076e-11, 4.58796249e-11, 2.28973485e-11, 1.13137762e-11,\n",
       "                          5.53461007e-12, 2.68054764e-12, 1.28533723e-12, 6.10193668e-13,\n",
       "                          2.86797501e-13, 1.33456608e-13, 6.14839641e-14, 2.80440474e-14,\n",
       "                          1.26641655e-14, 5.66199552e-15, 2.50622189e-15, 1.09831413e-15,\n",
       "                          4.76530474e-16, 2.04697171e-16, 8.70542662e-17, 3.66543340e-17,\n",
       "                          1.52797997e-17, 6.30618989e-18, 2.57675711e-18, 1.04240618e-18,\n",
       "                          4.17501006e-19, 1.65552266e-19, 6.49934797e-20, 2.52616378e-20,\n",
       "                          9.72098502e-21, 3.70353198e-21, 1.39694394e-21, 5.21673666e-22])}],\n",
       "    'layout': {'autosize': False,\n",
       "               'height': 600,\n",
       "               'legend': {'x': 0.95, 'xanchor': 'right', 'y': 0.9, 'yanchor': 'top'},\n",
       "               'plot_bgcolor': 'rgba(0,0,0,0)',\n",
       "               'template': '...',\n",
       "               'title': {'text': 'Squared exponential kernel', 'x': 0.5, 'xanchor': 'center'},\n",
       "               'width': 800,\n",
       "               'xaxis': {'linecolor': 'black', 'linewidth': 1, 'showline': True, 'title': {'text': 'input values'}},\n",
       "               'yaxis': {'linecolor': 'black', 'linewidth': 1, 'showline': True, 'title': {'text': 'output values'}}}\n",
       "})"
      ]
     },
     "execution_count": 9,
     "metadata": {},
     "output_type": "execute_result"
    }
   ],
   "source": [
    "x_lines = np.arange(-10, 10, 0.1)\n",
    "kernel = SquaredExponentialKernel(length=1)\n",
    "\n",
    "fig0 = go.FigureWidget(data=[\n",
    "    line_scatter(\n",
    "        x_lines=x_lines,\n",
    "        y_lines=np.array([kernel(x, 0) for x in x_lines]),\n",
    "    )\n",
    "])\n",
    "\n",
    "fig0 = update_layout_of_graph(fig0, title='Squared exponential kernel')\n",
    "\n",
    "\n",
    "@interact(length=(0.1, 3, 0.1), argument_2=(-10, 10, 0.1))\n",
    "def update(length=1, argument_2=0):\n",
    "    with fig0.batch_update():\n",
    "        kernel = SquaredExponentialKernel(length=length)\n",
    "        fig0.data[0].y = np.array([kernel(x, argument_2) for x in x_lines])\n",
    "\n",
    "\n",
    "fig0"
   ]
  },
  {
   "cell_type": "markdown",
   "id": "613a3946",
   "metadata": {},
   "source": [
    "In the practical implementation of the GPR you will face a couple of stability problems. Among others, numeric approximations in dealing with matrix (operations) may lead to non-invertible/non-positive-semi-definite covariance matrices which result in errors when calculating the GPR. \n",
    "\n",
    "In order to prevent this error we add the _machine epsilon_ to the diagonal of the later covariance matrix:"
   ]
  },
  {
   "cell_type": "code",
   "execution_count": 10,
   "id": "517a082d",
   "metadata": {},
   "outputs": [
    {
     "name": "stdout",
     "output_type": "stream",
     "text": [
      "2.220446049250313e-16\n",
      "1.1920929e-07\n"
     ]
    }
   ],
   "source": [
    "print(np.finfo(float).eps)\n",
    "# 2.22044604925e-16\n",
    "\n",
    "print(np.finfo(np.float32).eps)\n",
    "# 1.19209e-07"
   ]
  },
  {
   "cell_type": "markdown",
   "id": "18f81bfc",
   "metadata": {},
   "source": [
    "Let us shortly recall the formula:\n",
    "Given training points $x_1,...,x_n\\in \\mathbb{R}^m$ with values $y_1,...,y_n\\in \\mathbb{R}$, $y = (y_i)\\in \\mathbb{R}^n$ with noise in each point $\\mathcal{N}_{0,\\sigma}$  and points $x_{n+1},...,x_k\\in \\mathbb{R}^m$ for which we want to predict the output, adapting our probability distribution leads to:\n",
    "\n",
    "$$\\mathcal{N}(K_*K^{-1}y,K_{**}-K_*K^{-1}K_*^T)$$\n",
    "with \n",
    "$$K= (k(x_i,x_j))_{i,j\\leq n}+\\sigma^2*\\mathbb{1}_n$$\n",
    "$$K_*= (k(x_i,x_j))_{n+1\\leq i, j\\leq n}$$\n",
    "$$K_{**}= (k(x_i,x_j))_{n+1\\leq i,j}$$"
   ]
  },
  {
   "cell_type": "code",
   "execution_count": 11,
   "id": "06c65a7a",
   "metadata": {},
   "outputs": [],
   "source": [
    "# Helper function to calculate the respective covariance matrices\n",
    "def cov_matrix(x1, x2, cov_function) -> np.array:\n",
    "    return np.array([[cov_function(a, b) for a in x1] for b in x2])"
   ]
  },
  {
   "cell_type": "code",
   "execution_count": 12,
   "id": "d9bdfc5b",
   "metadata": {},
   "outputs": [],
   "source": [
    "class GPR:\n",
    "    def __init__(self,\n",
    "                 data_x: np.array,\n",
    "                 data_y: np.array,\n",
    "                 covariance_function=SquaredExponentialKernel(),\n",
    "                 white_noise_sigma: float = 0):\n",
    "        self.noise = white_noise_sigma\n",
    "        self.data_x = data_x\n",
    "        self.data_y = data_y\n",
    "        self.covariance_function = covariance_function\n",
    "\n",
    "        # Store the inverse of covariance matrix of input (+ machine epsilon on diagonal) since it is needed for every prediction\n",
    "        self._inverse_of_covariance_matrix_of_input = np.linalg.inv(\n",
    "            cov_matrix(data_x, data_x, covariance_function) +\n",
    "            (3e-7 + self.noise) * np.identity(len(self.data_x)))\n",
    "\n",
    "        self._memory = None\n",
    "\n",
    "    # function to predict output at new input values. Store the mean and covariance matrix in memory.\n",
    "\n",
    "    def predict(self, at_values: np.array) -> np.array:\n",
    "        k_lower_left = cov_matrix(self.data_x, at_values,\n",
    "                                  self.covariance_function)\n",
    "        k_lower_right = cov_matrix(at_values, at_values,\n",
    "                                   self.covariance_function)\n",
    "\n",
    "        # Mean.\n",
    "        mean_at_values = np.dot(\n",
    "            k_lower_left,\n",
    "            np.dot(self.data_y,\n",
    "                   self._inverse_of_covariance_matrix_of_input.T).T).flatten()\n",
    "\n",
    "        # Covariance.\n",
    "        cov_at_values = k_lower_right - \\\n",
    "            np.dot(k_lower_left, np.dot(\n",
    "                self._inverse_of_covariance_matrix_of_input, k_lower_left.T))\n",
    "\n",
    "        # Adding value larger than machine epsilon to ensure positive semi definite\n",
    "        cov_at_values = cov_at_values + 3e-7 * np.ones(\n",
    "            np.shape(cov_at_values)[0])\n",
    "\n",
    "        var_at_values = np.diag(cov_at_values)\n",
    "\n",
    "        self._memory = {\n",
    "            'mean': mean_at_values,\n",
    "            'covariance_matrix': cov_at_values,\n",
    "            'variance': var_at_values\n",
    "        }\n",
    "        return mean_at_values"
   ]
  },
  {
   "cell_type": "markdown",
   "id": "9e6b586e",
   "metadata": {},
   "source": [
    "That's it. The GPR is ready to be used! "
   ]
  },
  {
   "cell_type": "markdown",
   "id": "a5e2f744",
   "metadata": {},
   "source": [
    "## Testing"
   ]
  },
  {
   "cell_type": "markdown",
   "id": "decbe1a4",
   "metadata": {},
   "source": [
    "Let us initialize our GPR on a random training set and visualize the GPR. "
   ]
  },
  {
   "cell_type": "markdown",
   "id": "4a9aa377",
   "metadata": {},
   "source": [
    "### Initializing training data"
   ]
  },
  {
   "cell_type": "code",
   "execution_count": 14,
   "id": "99df1ffe",
   "metadata": {},
   "outputs": [
    {
     "name": "stdout",
     "output_type": "stream",
     "text": [
      "Number of rows not matched: 12 from total of 124\n"
     ]
    }
   ],
   "source": [
    "import pandas as pd\n",
    "from scripts.get_root import PROJECT_ROOT\n",
    "from sklearn.model_selection import train_test_split\n",
    "\n",
    "from src.utils_performance import (\n",
    "    _all_algorithms_all_datasets_performance,\n",
    ")\n",
    "from src.utils_data_centric import _get_all_data_set_characteristics\n",
    "\n",
    "# get the characteristic statistics on all data sets\n",
    "normalized_data_set_characteristics = _get_all_data_set_characteristics(\n",
    "    multivariate=False, number_data_sets=None, normalize_each_characteristic=True\n",
    ")\n",
    "X = pd.DataFrame(normalized_data_set_characteristics)\n",
    "\n",
    "# get the mean performance of all algorithms on all data sets\n",
    "algorithm_data_set_performance = _all_algorithms_all_datasets_performance(\n",
    "    performance_of_interest=\"$\\\\hat{\\\\mu}$\", multivariate=False\n",
    ")\n",
    "Y = pd.DataFrame(algorithm_data_set_performance).T\n",
    "\n",
    "# inner join x and y on index\n",
    "matched_data_sets = X.join(Y, how=\"inner\")\n",
    "# document how many rows were not matched\n",
    "num_rows_not_matched = len(X) - len(matched_data_sets)\n",
    "print(f\"Number of rows not matched: {num_rows_not_matched} from total of {len(X)}\")"
   ]
  },
  {
   "cell_type": "code",
   "execution_count": 19,
   "id": "12f59452",
   "metadata": {},
   "outputs": [],
   "source": [
    "applied_algorithm = Y.columns[0]\n",
    "feature_dimension = ['$||x_{train}^{i}||$'] # X.columns[0]\n",
    "\n",
    "X_train, X_test, y_train, y_test = train_test_split(\n",
    "    matched_data_sets[feature_dimension],\n",
    "    matched_data_sets[applied_algorithm],\n",
    "    test_size=0.3,\n",
    "    random_state=42,\n",
    ")\n",
    "\n",
    "x_values = X_train.values.flatten()\n",
    "y_values = y_train.values.flatten()"
   ]
  },
  {
   "cell_type": "code",
   "execution_count": 20,
   "id": "d984f3be",
   "metadata": {},
   "outputs": [
    {
     "data": {
      "text/plain": [
       "array([0.09013786, 0.35666313, 0.02439024, 0.02863203, 0.24920467,\n",
       "       0.17568045, 0.07741251, 0.35666313, 0.04772004, 0.17143867,\n",
       "       0.10074231, 0.10604454, 0.15835984, 0.31283139, 0.03994344,\n",
       "       0.14704843, 0.1456345 , 0.02368328, 0.17568045, 0.02297632,\n",
       "       0.0194415 , 0.13538353, 0.43655002, 0.19865677, 0.52492047,\n",
       "       0.20714033, 0.24920467, 0.02297632, 0.0427713 , 0.03994344,\n",
       "       0.01095794, 0.10109579, 0.04772004, 0.17568045, 0.70166136,\n",
       "       0.09261223, 0.        , 0.21986568, 0.20714033, 0.52492047,\n",
       "       0.17568045, 0.02297632, 0.02297632, 0.09013786, 0.31283139,\n",
       "       0.04772004, 0.02969247, 0.65995051, 0.01590668, 0.15305762,\n",
       "       0.04559915, 0.04100389, 0.10604454, 0.02297632, 0.35666313,\n",
       "       0.03994344, 0.10109579, 0.6136444 , 0.09190527, 0.05691057,\n",
       "       0.00318134, 0.02297632, 0.0834217 , 0.04418522, 0.24920467,\n",
       "       0.03994344, 0.04559915, 0.17568045, 0.52492047, 0.14528102,\n",
       "       0.02297632, 0.02297632, 0.70166136, 0.04842701, 0.10074231,\n",
       "       0.077766  , 0.08518911, 0.32873807])"
      ]
     },
     "execution_count": 20,
     "metadata": {},
     "output_type": "execute_result"
    }
   ],
   "source": [
    "x_values"
   ]
  },
  {
   "cell_type": "code",
   "execution_count": 21,
   "id": "baf9cac1",
   "metadata": {},
   "outputs": [],
   "source": [
    "x = np.arange(0,1,0.1)"
   ]
  },
  {
   "cell_type": "markdown",
   "id": "8410f233",
   "metadata": {},
   "source": [
    "### Plot the output"
   ]
  },
  {
   "cell_type": "markdown",
   "id": "fe426230",
   "metadata": {},
   "source": [
    "Let us define a helper function which returns a list of all plots of data points, mean, etc. needed to plot a GPR."
   ]
  },
  {
   "cell_type": "code",
   "execution_count": 22,
   "id": "b99b06c2",
   "metadata": {},
   "outputs": [],
   "source": [
    "def plot_GPR(data_x, data_y, model, x, visible=True) -> list:\n",
    "    mean = model.predict(x)\n",
    "\n",
    "    std = np.sqrt(model._memory['variance'])\n",
    "    data = []\n",
    "\n",
    "    for i in range(1, 4):\n",
    "        data.append(\n",
    "            uncertainty_area_scatter(\n",
    "                x_lines=x,\n",
    "                y_lower=mean - i * std,\n",
    "                y_upper=mean + i * std,\n",
    "                name=f\"mean plus/minus {i}*standard deviation\",\n",
    "                visible=visible))\n",
    "\n",
    "    data.append(line_scatter(x_lines=x, y_lines=mean, visible=visible))\n",
    "    data.append(dot_scatter(x_dots=data_x, y_dots=data_y, visible=visible))\n",
    "    return data"
   ]
  },
  {
   "cell_type": "markdown",
   "id": "51cd9df1",
   "metadata": {},
   "source": [
    "Now, we can visualize our first GPR."
   ]
  },
  {
   "cell_type": "code",
   "execution_count": 23,
   "id": "9a82c61f",
   "metadata": {},
   "outputs": [
    {
     "data": {
      "application/vnd.plotly.v1+json": {
       "config": {
        "plotlyServerURL": "https://plot.ly"
       },
       "data": [
        {
         "fill": "toself",
         "fillcolor": "rgba(189,195,199,0.5)",
         "hoverinfo": "skip",
         "line": {
          "color": "rgba(200,200,200,0)"
         },
         "name": "mean plus/minus 1*standard deviation",
         "showlegend": true,
         "type": "scatter",
         "visible": true,
         "x": [
          0,
          0.1,
          0.2,
          0.30000000000000004,
          0.4,
          0.5,
          0.6000000000000001,
          0.7000000000000001,
          0.8,
          0.9,
          0.9,
          0.8,
          0.7000000000000001,
          0.6000000000000001,
          0.5,
          0.4,
          0.30000000000000004,
          0.2,
          0.1,
          0
         ],
         "y": [
          0.878491259232871,
          0.8631467916848581,
          0.8344666746006768,
          0.7896943725583273,
          0.7314645239503754,
          0.6715936860144663,
          0.6335102563309367,
          0.6529293148296376,
          0.7771147729167079,
          1.060354976737946,
          1.0516897044449316,
          0.7739454970775151,
          0.6516305567843814,
          0.6322922027795084,
          0.6704011831185571,
          0.7303024946078394,
          0.7885647852148875,
          0.8333756194698008,
          0.8620271051823347,
          0.8773345922416439
         ]
        },
        {
         "fill": "toself",
         "fillcolor": "rgba(189,195,199,0.5)",
         "hoverinfo": "skip",
         "line": {
          "color": "rgba(200,200,200,0)"
         },
         "name": "mean plus/minus 2*standard deviation",
         "showlegend": true,
         "type": "scatter",
         "visible": true,
         "x": [
          0,
          0.1,
          0.2,
          0.30000000000000004,
          0.4,
          0.5,
          0.6000000000000001,
          0.7000000000000001,
          0.8,
          0.9,
          0.9,
          0.8,
          0.7000000000000001,
          0.6000000000000001,
          0.5,
          0.4,
          0.30000000000000004,
          0.2,
          0.1,
          0
         ],
         "y": [
          0.8790695927284845,
          0.8637066349361199,
          0.8350122021661147,
          0.7902591662300473,
          0.7320455386216435,
          0.672189937462421,
          0.634119283106651,
          0.6535786938522656,
          0.7786994108363043,
          1.0646876128844531,
          1.0473570682984246,
          0.7723608591579187,
          0.6509811777617533,
          0.6316831760037941,
          0.6698049316706025,
          0.7297214799365713,
          0.7879999915431675,
          0.8328300919043629,
          0.8614672619310729,
          0.8767562587460304
         ]
        },
        {
         "fill": "toself",
         "fillcolor": "rgba(189,195,199,0.5)",
         "hoverinfo": "skip",
         "line": {
          "color": "rgba(200,200,200,0)"
         },
         "name": "mean plus/minus 3*standard deviation",
         "showlegend": true,
         "type": "scatter",
         "visible": true,
         "x": [
          0,
          0.1,
          0.2,
          0.30000000000000004,
          0.4,
          0.5,
          0.6000000000000001,
          0.7000000000000001,
          0.8,
          0.9,
          0.9,
          0.8,
          0.7000000000000001,
          0.6000000000000001,
          0.5,
          0.4,
          0.30000000000000004,
          0.2,
          0.1,
          0
         ],
         "y": [
          0.879647926224098,
          0.8642664781873816,
          0.8355577297315527,
          0.7908239599017672,
          0.7326265532929115,
          0.6727861889103754,
          0.6347283098823652,
          0.6542280728748937,
          0.7802840487559006,
          1.0690202490309604,
          1.0430244321519173,
          0.7707762212383225,
          0.6503317987391253,
          0.6310741492280799,
          0.669208680222648,
          0.7291404652653033,
          0.7874351978714476,
          0.8322845643389248,
          0.8609074186798112,
          0.8761779252504168
         ]
        },
        {
         "line": {
          "color": "blue",
          "width": 2
         },
         "name": "Predicted function",
         "showlegend": true,
         "type": "scatter",
         "visible": true,
         "x": [
          0,
          0.1,
          0.2,
          0.30000000000000004,
          0.4,
          0.5,
          0.6000000000000001,
          0.7000000000000001,
          0.8,
          0.9
         ],
         "y": [
          0.8779129257372574,
          0.8625869484335964,
          0.8339211470352388,
          0.7891295788866074,
          0.7308835092791074,
          0.6709974345665117,
          0.6329012295552225,
          0.6522799358070095,
          0.7755301349971115,
          1.0560223405914388
         ]
        },
        {
         "marker": {
          "color": "red",
          "size": 8
         },
         "mode": "markers",
         "name": "Observed points",
         "showlegend": true,
         "type": "scatter",
         "visible": true,
         "x": [
          0.0901378579003181,
          0.3566631318487098,
          0.024390243902439,
          0.0286320254506892,
          0.2492046659597031,
          0.1756804524566984,
          0.0774125132555673,
          0.3566631318487098,
          0.0477200424178154,
          0.1714386709084482,
          0.1007423117709438,
          0.1060445387062566,
          0.1583598444680099,
          0.312831389183457,
          0.0399434429126899,
          0.1470484270060092,
          0.1456344998232591,
          0.0236832803110639,
          0.1756804524566984,
          0.0229763167196889,
          0.0194414987628137,
          0.1353835277483209,
          0.4365500176740898,
          0.1986567691763874,
          0.5249204665959704,
          0.2071403322728879,
          0.2492046659597031,
          0.0229763167196889,
          0.0427712972781901,
          0.0399434429126899,
          0.0109579356663131,
          0.1010957935666313,
          0.0477200424178154,
          0.1756804524566984,
          0.7016613644397314,
          0.0926122304701307,
          0,
          0.2198656769176387,
          0.2071403322728879,
          0.5249204665959704,
          0.1756804524566984,
          0.0229763167196889,
          0.0229763167196889,
          0.0901378579003181,
          0.312831389183457,
          0.0477200424178154,
          0.0296924708377518,
          0.6599505125486037,
          0.0159066808059384,
          0.153057617532697,
          0.0455991516436903,
          0.0410038882997525,
          0.1060445387062566,
          0.0229763167196889,
          0.3566631318487098,
          0.0399434429126899,
          0.1010957935666313,
          0.6136443973135384,
          0.0919052668787557,
          0.056910569105691,
          0.0031813361611876,
          0.0229763167196889,
          0.0834217037822552,
          0.0441852244609402,
          0.2492046659597031,
          0.0399434429126899,
          0.0455991516436903,
          0.1756804524566984,
          0.5249204665959704,
          0.1452810180275715,
          0.0229763167196889,
          0.0229763167196889,
          0.7016613644397314,
          0.0484270060091905,
          0.1007423117709438,
          0.0777659950512548,
          0.0851891127606928,
          0.3287380699893955
         ],
         "y": [
          0.7239560439560442,
          0.9689694385216773,
          0.903115015974441,
          0.8883802360264558,
          0.7868444444444445,
          0.8533333333333333,
          0.8561728395061728,
          0.34567510548523206,
          0.9908888888888889,
          0.9315151515151515,
          0.8132478632478631,
          0.7513865624418388,
          0.9699047619047618,
          0.767965367965368,
          0.9882222222222221,
          0.8073015873015875,
          0.9746556473829201,
          0.9994439566871525,
          0.7170263788968825,
          0.776019184652278,
          0.9603993344425956,
          0.9467001675041876,
          0.8647329650092079,
          0.9083333333333334,
          0.4209629629629629,
          1,
          0.8603999999999999,
          0.7894308943089432,
          0.951025938830817,
          0.9991111111111111,
          0.7638015873015874,
          0.9494736842105264,
          0.9525462962962964,
          0.945,
          0.9536858974358972,
          0.9542397660818712,
          0.9928888888888888,
          0.8005464480874317,
          0.3962516733601071,
          0.5547407407407408,
          0.596875,
          0.8173983739837399,
          0.5311688311688312,
          0.6133228840125392,
          0.7588744588744588,
          0.9900843881856539,
          0.7922368421052631,
          0.4101212121212121,
          0.9944444444444442,
          0.993888888888889,
          0.886111111111111,
          0.964260162601626,
          0.675851479620324,
          0.5965367965367965,
          0.9162474226804124,
          0.9585600000000001,
          0.9967368421052634,
          0.8525333333333333,
          1,
          0.8154305200341007,
          0.957110463232912,
          0.6671462829736208,
          0.8586666666666667,
          0.9370222222222221,
          0.7966222222222223,
          0.999775,
          1,
          0.9330555555555555,
          0.808888888888889,
          0.877211111111111,
          0.8091787439613526,
          0.8235967926689578,
          0.43701923076923077,
          0.9988805970149254,
          0.8081196581196582,
          0.9748648648648647,
          0.4913804713804713,
          0.8689931137167317
         ]
        }
       ],
       "layout": {
        "autosize": false,
        "height": 600,
        "legend": {
         "x": 0.95,
         "xanchor": "right",
         "y": 0.9,
         "yanchor": "top"
        },
        "plot_bgcolor": "rgba(0,0,0,0)",
        "template": {
         "data": {
          "bar": [
           {
            "error_x": {
             "color": "#2a3f5f"
            },
            "error_y": {
             "color": "#2a3f5f"
            },
            "marker": {
             "line": {
              "color": "#E5ECF6",
              "width": 0.5
             },
             "pattern": {
              "fillmode": "overlay",
              "size": 10,
              "solidity": 0.2
             }
            },
            "type": "bar"
           }
          ],
          "barpolar": [
           {
            "marker": {
             "line": {
              "color": "#E5ECF6",
              "width": 0.5
             },
             "pattern": {
              "fillmode": "overlay",
              "size": 10,
              "solidity": 0.2
             }
            },
            "type": "barpolar"
           }
          ],
          "carpet": [
           {
            "aaxis": {
             "endlinecolor": "#2a3f5f",
             "gridcolor": "white",
             "linecolor": "white",
             "minorgridcolor": "white",
             "startlinecolor": "#2a3f5f"
            },
            "baxis": {
             "endlinecolor": "#2a3f5f",
             "gridcolor": "white",
             "linecolor": "white",
             "minorgridcolor": "white",
             "startlinecolor": "#2a3f5f"
            },
            "type": "carpet"
           }
          ],
          "choropleth": [
           {
            "colorbar": {
             "outlinewidth": 0,
             "ticks": ""
            },
            "type": "choropleth"
           }
          ],
          "contour": [
           {
            "colorbar": {
             "outlinewidth": 0,
             "ticks": ""
            },
            "colorscale": [
             [
              0,
              "#0d0887"
             ],
             [
              0.1111111111111111,
              "#46039f"
             ],
             [
              0.2222222222222222,
              "#7201a8"
             ],
             [
              0.3333333333333333,
              "#9c179e"
             ],
             [
              0.4444444444444444,
              "#bd3786"
             ],
             [
              0.5555555555555556,
              "#d8576b"
             ],
             [
              0.6666666666666666,
              "#ed7953"
             ],
             [
              0.7777777777777778,
              "#fb9f3a"
             ],
             [
              0.8888888888888888,
              "#fdca26"
             ],
             [
              1,
              "#f0f921"
             ]
            ],
            "type": "contour"
           }
          ],
          "contourcarpet": [
           {
            "colorbar": {
             "outlinewidth": 0,
             "ticks": ""
            },
            "type": "contourcarpet"
           }
          ],
          "heatmap": [
           {
            "colorbar": {
             "outlinewidth": 0,
             "ticks": ""
            },
            "colorscale": [
             [
              0,
              "#0d0887"
             ],
             [
              0.1111111111111111,
              "#46039f"
             ],
             [
              0.2222222222222222,
              "#7201a8"
             ],
             [
              0.3333333333333333,
              "#9c179e"
             ],
             [
              0.4444444444444444,
              "#bd3786"
             ],
             [
              0.5555555555555556,
              "#d8576b"
             ],
             [
              0.6666666666666666,
              "#ed7953"
             ],
             [
              0.7777777777777778,
              "#fb9f3a"
             ],
             [
              0.8888888888888888,
              "#fdca26"
             ],
             [
              1,
              "#f0f921"
             ]
            ],
            "type": "heatmap"
           }
          ],
          "heatmapgl": [
           {
            "colorbar": {
             "outlinewidth": 0,
             "ticks": ""
            },
            "colorscale": [
             [
              0,
              "#0d0887"
             ],
             [
              0.1111111111111111,
              "#46039f"
             ],
             [
              0.2222222222222222,
              "#7201a8"
             ],
             [
              0.3333333333333333,
              "#9c179e"
             ],
             [
              0.4444444444444444,
              "#bd3786"
             ],
             [
              0.5555555555555556,
              "#d8576b"
             ],
             [
              0.6666666666666666,
              "#ed7953"
             ],
             [
              0.7777777777777778,
              "#fb9f3a"
             ],
             [
              0.8888888888888888,
              "#fdca26"
             ],
             [
              1,
              "#f0f921"
             ]
            ],
            "type": "heatmapgl"
           }
          ],
          "histogram": [
           {
            "marker": {
             "pattern": {
              "fillmode": "overlay",
              "size": 10,
              "solidity": 0.2
             }
            },
            "type": "histogram"
           }
          ],
          "histogram2d": [
           {
            "colorbar": {
             "outlinewidth": 0,
             "ticks": ""
            },
            "colorscale": [
             [
              0,
              "#0d0887"
             ],
             [
              0.1111111111111111,
              "#46039f"
             ],
             [
              0.2222222222222222,
              "#7201a8"
             ],
             [
              0.3333333333333333,
              "#9c179e"
             ],
             [
              0.4444444444444444,
              "#bd3786"
             ],
             [
              0.5555555555555556,
              "#d8576b"
             ],
             [
              0.6666666666666666,
              "#ed7953"
             ],
             [
              0.7777777777777778,
              "#fb9f3a"
             ],
             [
              0.8888888888888888,
              "#fdca26"
             ],
             [
              1,
              "#f0f921"
             ]
            ],
            "type": "histogram2d"
           }
          ],
          "histogram2dcontour": [
           {
            "colorbar": {
             "outlinewidth": 0,
             "ticks": ""
            },
            "colorscale": [
             [
              0,
              "#0d0887"
             ],
             [
              0.1111111111111111,
              "#46039f"
             ],
             [
              0.2222222222222222,
              "#7201a8"
             ],
             [
              0.3333333333333333,
              "#9c179e"
             ],
             [
              0.4444444444444444,
              "#bd3786"
             ],
             [
              0.5555555555555556,
              "#d8576b"
             ],
             [
              0.6666666666666666,
              "#ed7953"
             ],
             [
              0.7777777777777778,
              "#fb9f3a"
             ],
             [
              0.8888888888888888,
              "#fdca26"
             ],
             [
              1,
              "#f0f921"
             ]
            ],
            "type": "histogram2dcontour"
           }
          ],
          "mesh3d": [
           {
            "colorbar": {
             "outlinewidth": 0,
             "ticks": ""
            },
            "type": "mesh3d"
           }
          ],
          "parcoords": [
           {
            "line": {
             "colorbar": {
              "outlinewidth": 0,
              "ticks": ""
             }
            },
            "type": "parcoords"
           }
          ],
          "pie": [
           {
            "automargin": true,
            "type": "pie"
           }
          ],
          "scatter": [
           {
            "fillpattern": {
             "fillmode": "overlay",
             "size": 10,
             "solidity": 0.2
            },
            "type": "scatter"
           }
          ],
          "scatter3d": [
           {
            "line": {
             "colorbar": {
              "outlinewidth": 0,
              "ticks": ""
             }
            },
            "marker": {
             "colorbar": {
              "outlinewidth": 0,
              "ticks": ""
             }
            },
            "type": "scatter3d"
           }
          ],
          "scattercarpet": [
           {
            "marker": {
             "colorbar": {
              "outlinewidth": 0,
              "ticks": ""
             }
            },
            "type": "scattercarpet"
           }
          ],
          "scattergeo": [
           {
            "marker": {
             "colorbar": {
              "outlinewidth": 0,
              "ticks": ""
             }
            },
            "type": "scattergeo"
           }
          ],
          "scattergl": [
           {
            "marker": {
             "colorbar": {
              "outlinewidth": 0,
              "ticks": ""
             }
            },
            "type": "scattergl"
           }
          ],
          "scattermapbox": [
           {
            "marker": {
             "colorbar": {
              "outlinewidth": 0,
              "ticks": ""
             }
            },
            "type": "scattermapbox"
           }
          ],
          "scatterpolar": [
           {
            "marker": {
             "colorbar": {
              "outlinewidth": 0,
              "ticks": ""
             }
            },
            "type": "scatterpolar"
           }
          ],
          "scatterpolargl": [
           {
            "marker": {
             "colorbar": {
              "outlinewidth": 0,
              "ticks": ""
             }
            },
            "type": "scatterpolargl"
           }
          ],
          "scatterternary": [
           {
            "marker": {
             "colorbar": {
              "outlinewidth": 0,
              "ticks": ""
             }
            },
            "type": "scatterternary"
           }
          ],
          "surface": [
           {
            "colorbar": {
             "outlinewidth": 0,
             "ticks": ""
            },
            "colorscale": [
             [
              0,
              "#0d0887"
             ],
             [
              0.1111111111111111,
              "#46039f"
             ],
             [
              0.2222222222222222,
              "#7201a8"
             ],
             [
              0.3333333333333333,
              "#9c179e"
             ],
             [
              0.4444444444444444,
              "#bd3786"
             ],
             [
              0.5555555555555556,
              "#d8576b"
             ],
             [
              0.6666666666666666,
              "#ed7953"
             ],
             [
              0.7777777777777778,
              "#fb9f3a"
             ],
             [
              0.8888888888888888,
              "#fdca26"
             ],
             [
              1,
              "#f0f921"
             ]
            ],
            "type": "surface"
           }
          ],
          "table": [
           {
            "cells": {
             "fill": {
              "color": "#EBF0F8"
             },
             "line": {
              "color": "white"
             }
            },
            "header": {
             "fill": {
              "color": "#C8D4E3"
             },
             "line": {
              "color": "white"
             }
            },
            "type": "table"
           }
          ]
         },
         "layout": {
          "annotationdefaults": {
           "arrowcolor": "#2a3f5f",
           "arrowhead": 0,
           "arrowwidth": 1
          },
          "autotypenumbers": "strict",
          "coloraxis": {
           "colorbar": {
            "outlinewidth": 0,
            "ticks": ""
           }
          },
          "colorscale": {
           "diverging": [
            [
             0,
             "#8e0152"
            ],
            [
             0.1,
             "#c51b7d"
            ],
            [
             0.2,
             "#de77ae"
            ],
            [
             0.3,
             "#f1b6da"
            ],
            [
             0.4,
             "#fde0ef"
            ],
            [
             0.5,
             "#f7f7f7"
            ],
            [
             0.6,
             "#e6f5d0"
            ],
            [
             0.7,
             "#b8e186"
            ],
            [
             0.8,
             "#7fbc41"
            ],
            [
             0.9,
             "#4d9221"
            ],
            [
             1,
             "#276419"
            ]
           ],
           "sequential": [
            [
             0,
             "#0d0887"
            ],
            [
             0.1111111111111111,
             "#46039f"
            ],
            [
             0.2222222222222222,
             "#7201a8"
            ],
            [
             0.3333333333333333,
             "#9c179e"
            ],
            [
             0.4444444444444444,
             "#bd3786"
            ],
            [
             0.5555555555555556,
             "#d8576b"
            ],
            [
             0.6666666666666666,
             "#ed7953"
            ],
            [
             0.7777777777777778,
             "#fb9f3a"
            ],
            [
             0.8888888888888888,
             "#fdca26"
            ],
            [
             1,
             "#f0f921"
            ]
           ],
           "sequentialminus": [
            [
             0,
             "#0d0887"
            ],
            [
             0.1111111111111111,
             "#46039f"
            ],
            [
             0.2222222222222222,
             "#7201a8"
            ],
            [
             0.3333333333333333,
             "#9c179e"
            ],
            [
             0.4444444444444444,
             "#bd3786"
            ],
            [
             0.5555555555555556,
             "#d8576b"
            ],
            [
             0.6666666666666666,
             "#ed7953"
            ],
            [
             0.7777777777777778,
             "#fb9f3a"
            ],
            [
             0.8888888888888888,
             "#fdca26"
            ],
            [
             1,
             "#f0f921"
            ]
           ]
          },
          "colorway": [
           "#636efa",
           "#EF553B",
           "#00cc96",
           "#ab63fa",
           "#FFA15A",
           "#19d3f3",
           "#FF6692",
           "#B6E880",
           "#FF97FF",
           "#FECB52"
          ],
          "font": {
           "color": "#2a3f5f"
          },
          "geo": {
           "bgcolor": "white",
           "lakecolor": "white",
           "landcolor": "#E5ECF6",
           "showlakes": true,
           "showland": true,
           "subunitcolor": "white"
          },
          "hoverlabel": {
           "align": "left"
          },
          "hovermode": "closest",
          "mapbox": {
           "style": "light"
          },
          "paper_bgcolor": "white",
          "plot_bgcolor": "#E5ECF6",
          "polar": {
           "angularaxis": {
            "gridcolor": "white",
            "linecolor": "white",
            "ticks": ""
           },
           "bgcolor": "#E5ECF6",
           "radialaxis": {
            "gridcolor": "white",
            "linecolor": "white",
            "ticks": ""
           }
          },
          "scene": {
           "xaxis": {
            "backgroundcolor": "#E5ECF6",
            "gridcolor": "white",
            "gridwidth": 2,
            "linecolor": "white",
            "showbackground": true,
            "ticks": "",
            "zerolinecolor": "white"
           },
           "yaxis": {
            "backgroundcolor": "#E5ECF6",
            "gridcolor": "white",
            "gridwidth": 2,
            "linecolor": "white",
            "showbackground": true,
            "ticks": "",
            "zerolinecolor": "white"
           },
           "zaxis": {
            "backgroundcolor": "#E5ECF6",
            "gridcolor": "white",
            "gridwidth": 2,
            "linecolor": "white",
            "showbackground": true,
            "ticks": "",
            "zerolinecolor": "white"
           }
          },
          "shapedefaults": {
           "line": {
            "color": "#2a3f5f"
           }
          },
          "ternary": {
           "aaxis": {
            "gridcolor": "white",
            "linecolor": "white",
            "ticks": ""
           },
           "baxis": {
            "gridcolor": "white",
            "linecolor": "white",
            "ticks": ""
           },
           "bgcolor": "#E5ECF6",
           "caxis": {
            "gridcolor": "white",
            "linecolor": "white",
            "ticks": ""
           }
          },
          "title": {
           "x": 0.05
          },
          "xaxis": {
           "automargin": true,
           "gridcolor": "white",
           "linecolor": "white",
           "ticks": "",
           "title": {
            "standoff": 15
           },
           "zerolinecolor": "white",
           "zerolinewidth": 2
          },
          "yaxis": {
           "automargin": true,
           "gridcolor": "white",
           "linecolor": "white",
           "ticks": "",
           "title": {
            "standoff": 15
           },
           "zerolinecolor": "white",
           "zerolinewidth": 2
          }
         }
        },
        "title": {
         "text": "GPR with length 1, sigma 0 and noise 0",
         "x": 0.5,
         "xanchor": "center"
        },
        "width": 800,
        "xaxis": {
         "linecolor": "black",
         "linewidth": 1,
         "showline": true,
         "title": {
          "text": "input values"
         }
        },
        "yaxis": {
         "linecolor": "black",
         "linewidth": 1,
         "showline": true,
         "title": {
          "text": "output values"
         }
        }
       }
      }
     },
     "metadata": {},
     "output_type": "display_data"
    }
   ],
   "source": [
    "model = GPR(x_values, y_values)\n",
    "data = plot_GPR(data_x=x_values, data_y=y_values, x=x, model=model)\n",
    "fig4 = go.Figure(data=data)\n",
    "fig4 = update_layout_of_graph(fig=fig4,\n",
    "                              title='GPR with length 1, sigma 0 and noise 0')\n",
    "\n",
    "fig4.show()"
   ]
  },
  {
   "cell_type": "markdown",
   "id": "b409d823",
   "metadata": {},
   "source": [
    "A cool feature of the GPR is that it is sort of a probability distribution over function - so we can literally 'draw' random functions!"
   ]
  },
  {
   "cell_type": "code",
   "execution_count": 24,
   "id": "045e7091",
   "metadata": {},
   "outputs": [
    {
     "data": {
      "application/vnd.jupyter.widget-view+json": {
       "model_id": "3b5c1425da7a43a7beb128a6a627c567",
       "version_major": 2,
       "version_minor": 0
      },
      "text/plain": [
       "VBox(children=(FigureWidget({\n",
       "    'data': [{'marker': {'color': 'red', 'size': 8},\n",
       "              'mode': 'mark…"
      ]
     },
     "execution_count": 24,
     "metadata": {},
     "output_type": "execute_result"
    },
    {
     "name": "stderr",
     "output_type": "stream",
     "text": [
      "/var/folders/ct/qpfxjbdn1xx4fvb2v099sg_00000gn/T/ipykernel_92066/88230017.py:18: RuntimeWarning:\n",
      "\n",
      "covariance is not symmetric positive-semidefinite.\n",
      "\n",
      "/var/folders/ct/qpfxjbdn1xx4fvb2v099sg_00000gn/T/ipykernel_92066/88230017.py:18: RuntimeWarning:\n",
      "\n",
      "covariance is not symmetric positive-semidefinite.\n",
      "\n",
      "/var/folders/ct/qpfxjbdn1xx4fvb2v099sg_00000gn/T/ipykernel_92066/88230017.py:18: RuntimeWarning:\n",
      "\n",
      "covariance is not symmetric positive-semidefinite.\n",
      "\n",
      "/var/folders/ct/qpfxjbdn1xx4fvb2v099sg_00000gn/T/ipykernel_92066/88230017.py:18: RuntimeWarning:\n",
      "\n",
      "covariance is not symmetric positive-semidefinite.\n",
      "\n",
      "/var/folders/ct/qpfxjbdn1xx4fvb2v099sg_00000gn/T/ipykernel_92066/88230017.py:18: RuntimeWarning:\n",
      "\n",
      "covariance is not symmetric positive-semidefinite.\n",
      "\n",
      "/var/folders/ct/qpfxjbdn1xx4fvb2v099sg_00000gn/T/ipykernel_92066/88230017.py:18: RuntimeWarning:\n",
      "\n",
      "covariance is not symmetric positive-semidefinite.\n",
      "\n",
      "/var/folders/ct/qpfxjbdn1xx4fvb2v099sg_00000gn/T/ipykernel_92066/88230017.py:18: RuntimeWarning:\n",
      "\n",
      "covariance is not symmetric positive-semidefinite.\n",
      "\n",
      "/var/folders/ct/qpfxjbdn1xx4fvb2v099sg_00000gn/T/ipykernel_92066/88230017.py:18: RuntimeWarning:\n",
      "\n",
      "covariance is not symmetric positive-semidefinite.\n",
      "\n",
      "/var/folders/ct/qpfxjbdn1xx4fvb2v099sg_00000gn/T/ipykernel_92066/88230017.py:18: RuntimeWarning:\n",
      "\n",
      "covariance is not symmetric positive-semidefinite.\n",
      "\n"
     ]
    }
   ],
   "source": [
    "model = GPR(x_values, y_values)\n",
    "\n",
    "mean = model.predict(x)\n",
    "covariance_matrix = model._memory['covariance_matrix']\n",
    "\n",
    "fig1 = go.FigureWidget(data=[dot_scatter(x_dots=x_values, y_dots=y_values)])\n",
    "fig1 = update_layout_of_graph(\n",
    "    fig1,\n",
    "    title='Random drawings (i.e. random functions) of the Gaussian process')\n",
    "\n",
    "button = widgets.Button(description='Add random drawing')\n",
    "\n",
    "\n",
    "def update(_):\n",
    "    with fig1.batch_update():\n",
    "        fig1.add_trace(\n",
    "            line_scatter(x_lines=x,\n",
    "                         y_lines=np.random.multivariate_normal(\n",
    "                             mean, covariance_matrix),\n",
    "                         name_line='random function',\n",
    "                         showlegend=False))\n",
    "        fig1.add_trace(\n",
    "            dot_scatter(x_dots=x_values, y_dots=y_values, showlegend=False))\n",
    "\n",
    "\n",
    "button.on_click(update)\n",
    "widgets.VBox([fig1, button])"
   ]
  },
  {
   "cell_type": "markdown",
   "id": "876ee73f",
   "metadata": {},
   "source": [
    "Doing predictions with a GPR is usually done by taking the mean function as our best guess. Since GPR's are a probabilistic model, we get in addition some sort of certainty of our prediction. (But be careful how to interpret this uncertainty area! Believing that every 'new' point must be in the uncertainty area is simply wrong!)"
   ]
  },
  {
   "cell_type": "code",
   "execution_count": 25,
   "id": "36354bda",
   "metadata": {},
   "outputs": [
    {
     "data": {
      "application/vnd.jupyter.widget-view+json": {
       "model_id": "7a47a674787b40889251db285626a192",
       "version_major": 2,
       "version_minor": 0
      },
      "text/plain": [
       "VBox(children=(FigureWidget({\n",
       "    'data': [{'fill': 'toself',\n",
       "              'fillcolor': 'rgba(189,195,199,0.5…"
      ]
     },
     "execution_count": 25,
     "metadata": {},
     "output_type": "execute_result"
    }
   ],
   "source": [
    "model = GPR(x_values[:1], y_values[:1])\n",
    "\n",
    "data = plot_GPR(data_x=x_values[:1], data_y=y_values[:1], x=x, model=model)\n",
    "\n",
    "fig2 = go.FigureWidget(data=data)\n",
    "fig2 = update_layout_of_graph(fig2, title='Prediction (i.e. mean) of GPR')\n",
    "\n",
    "button = widgets.Button(description='Add data point')\n",
    "\n",
    "number_of_points = 1\n",
    "\n",
    "# we update the y values of our 4 scatter plots \n",
    "def update(_):\n",
    "    with fig2.batch_update():\n",
    "        global number_of_points\n",
    "        if number_of_points < len(x_values):\n",
    "            number_of_points += 1\n",
    "            model = GPR(x_values[:number_of_points],\n",
    "                        y_values[:number_of_points])\n",
    "            mean = model.predict(x)\n",
    "            fig2.data[3].y = mean\n",
    "            for i in range(1, 4):\n",
    "                y_upper = mean + i * np.sqrt(model._memory['variance'])\n",
    "                y_lower = mean - i * np.sqrt(model._memory['variance'])\n",
    "                fig2.data[i - 1].y = np.concatenate((y_upper, y_lower[::-1]))\n",
    "\n",
    "            fig2.data[4].x = x_values[:number_of_points]\n",
    "            fig2.data[4].y = y_values[:number_of_points]\n",
    "\n",
    "\n",
    "button.on_click(update)\n",
    "widgets.VBox([fig2, button])"
   ]
  },
  {
   "cell_type": "markdown",
   "id": "ce23fd04",
   "metadata": {},
   "source": [
    "You can test the GPR with different data. Try using multi-dimensional input!"
   ]
  },
  {
   "cell_type": "markdown",
   "id": "1d17146a",
   "metadata": {},
   "source": [
    "### Visualization of effect of free parameters"
   ]
  },
  {
   "cell_type": "markdown",
   "id": "e7e03650",
   "metadata": {},
   "source": [
    "Awesome! Now that we can make predictions with our GPR, lets visualize how the GPR changes if we change the free parameters, i.e. length-scale, variance and white noise."
   ]
  },
  {
   "cell_type": "code",
   "execution_count": 26,
   "id": "cd6e6019",
   "metadata": {},
   "outputs": [
    {
     "data": {
      "application/vnd.jupyter.widget-view+json": {
       "model_id": "ba0ede11e68e4b819f35b7d815f6bf4f",
       "version_major": 2,
       "version_minor": 0
      },
      "text/plain": [
       "interactive(children=(FloatSlider(value=1.0, description='sigma', max=3.0, min=0.01, step=0.01), FloatSlider(v…"
      ]
     },
     "metadata": {},
     "output_type": "display_data"
    },
    {
     "data": {
      "application/vnd.jupyter.widget-view+json": {
       "model_id": "767292e9db514aa58069242596263547",
       "version_major": 2,
       "version_minor": 0
      },
      "text/plain": [
       "FigureWidget({\n",
       "    'data': [{'fill': 'toself',\n",
       "              'fillcolor': 'rgba(189,195,199,0.5)',\n",
       "              'hoverinfo': 'skip',\n",
       "              'line': {'color': 'rgba(200,200,200,0)'},\n",
       "              'name': 'mean plus/minus 1*standard deviation',\n",
       "              'showlegend': True,\n",
       "              'type': 'scatter',\n",
       "              'uid': '8b181e41-6db4-46da-8346-a470a93324f5',\n",
       "              'visible': True,\n",
       "              'x': array([0. , 0.1, 0.2, 0.3, 0.4, 0.5, 0.6, 0.7, 0.8, 0.9, 0.9, 0.8, 0.7, 0.6,\n",
       "                          0.5, 0.4, 0.3, 0.2, 0.1, 0. ]),\n",
       "              'y': array([0.93497874, 0.90355154, 0.88856089, 0.86022553, 0.82309171, 0.7844427 ,\n",
       "                          0.75559412, 0.75580828, 0.79302175, 0.85698734, 0.1776294 , 0.32976944,\n",
       "                          0.45112416, 0.5373425 , 0.60054715, 0.65981345, 0.72035876, 0.77776751,\n",
       "                          0.8215535 , 0.80719383])},\n",
       "             {'fill': 'toself',\n",
       "              'fillcolor': 'rgba(189,195,199,0.5)',\n",
       "              'hoverinfo': 'skip',\n",
       "              'line': {'color': 'rgba(200,200,200,0)'},\n",
       "              'name': 'mean plus/minus 2*standard deviation',\n",
       "              'showlegend': True,\n",
       "              'type': 'scatter',\n",
       "              'uid': '0332ee5f-767a-4534-bb62-9ff1bc49ffa6',\n",
       "              'visible': True,\n",
       "              'x': array([0. , 0.1, 0.2, 0.3, 0.4, 0.5, 0.6, 0.7, 0.8, 0.9, 0.9, 0.8, 0.7, 0.6,\n",
       "                          0.5, 0.4, 0.3, 0.2, 0.1, 0. ]),\n",
       "              'y': array([ 0.9988712 ,  0.94455056,  0.94395758,  0.93015891,  0.90473084,\n",
       "                           0.87639047,  0.86471992,  0.90815034,  1.02464791,  1.19666631,\n",
       "                          -0.16204958,  0.09814328,  0.2987821 ,  0.4282167 ,  0.50859938,\n",
       "                           0.57817433,  0.65042537,  0.72237082,  0.78055448,  0.74330138])},\n",
       "             {'fill': 'toself',\n",
       "              'fillcolor': 'rgba(189,195,199,0.5)',\n",
       "              'hoverinfo': 'skip',\n",
       "              'line': {'color': 'rgba(200,200,200,0)'},\n",
       "              'name': 'mean plus/minus 3*standard deviation',\n",
       "              'showlegend': True,\n",
       "              'type': 'scatter',\n",
       "              'uid': '4a581c82-05d8-48eb-92b7-c18d7578fde8',\n",
       "              'visible': True,\n",
       "              'x': array([0. , 0.1, 0.2, 0.3, 0.4, 0.5, 0.6, 0.7, 0.8, 0.9, 0.9, 0.8, 0.7, 0.6,\n",
       "                          0.5, 0.4, 0.3, 0.2, 0.1, 0. ]),\n",
       "              'y': array([ 1.06276366,  0.98554958,  0.99935427,  1.0000923 ,  0.98636996,\n",
       "                           0.96833825,  0.97384573,  1.0604924 ,  1.25627407,  1.53634529,\n",
       "                          -0.50172855, -0.13348288,  0.14644004,  0.31909089,  0.4166516 ,\n",
       "                           0.4965352 ,  0.58049199,  0.66697413,  0.73955546,  0.67940892])},\n",
       "             {'line': {'color': 'blue', 'width': 2},\n",
       "              'name': 'Predicted function',\n",
       "              'showlegend': True,\n",
       "              'type': 'scatter',\n",
       "              'uid': '5d1a06f9-0bc5-4e81-b8c2-7a94966c9361',\n",
       "              'visible': True,\n",
       "              'x': array([0. , 0.1, 0.2, 0.3, 0.4, 0.5, 0.6, 0.7, 0.8, 0.9]),\n",
       "              'y': array([0.87108629, 0.86255252, 0.8331642 , 0.79029214, 0.74145258, 0.69249492,\n",
       "                          0.64646831, 0.60346622, 0.5613956 , 0.51730837])},\n",
       "             {'marker': {'color': 'red', 'size': 8},\n",
       "              'mode': 'markers',\n",
       "              'name': 'Observed points',\n",
       "              'showlegend': True,\n",
       "              'type': 'scatter',\n",
       "              'uid': '672469d6-47c4-4fec-9f27-79ba7f0cd074',\n",
       "              'visible': True,\n",
       "              'x': array([0.09013786, 0.35666313, 0.02439024, 0.02863203, 0.24920467, 0.17568045,\n",
       "                          0.07741251, 0.35666313, 0.04772004, 0.17143867, 0.10074231, 0.10604454,\n",
       "                          0.15835984, 0.31283139, 0.03994344, 0.14704843, 0.1456345 , 0.02368328,\n",
       "                          0.17568045, 0.02297632, 0.0194415 , 0.13538353, 0.43655002, 0.19865677,\n",
       "                          0.52492047, 0.20714033, 0.24920467, 0.02297632, 0.0427713 , 0.03994344,\n",
       "                          0.01095794, 0.10109579, 0.04772004, 0.17568045, 0.70166136, 0.09261223,\n",
       "                          0.        , 0.21986568, 0.20714033, 0.52492047, 0.17568045, 0.02297632,\n",
       "                          0.02297632, 0.09013786, 0.31283139, 0.04772004, 0.02969247, 0.65995051,\n",
       "                          0.01590668, 0.15305762, 0.04559915, 0.04100389, 0.10604454, 0.02297632,\n",
       "                          0.35666313, 0.03994344, 0.10109579, 0.6136444 , 0.09190527, 0.05691057,\n",
       "                          0.00318134, 0.02297632, 0.0834217 , 0.04418522, 0.24920467, 0.03994344,\n",
       "                          0.04559915, 0.17568045, 0.52492047, 0.14528102, 0.02297632, 0.02297632,\n",
       "                          0.70166136, 0.04842701, 0.10074231, 0.077766  , 0.08518911, 0.32873807]),\n",
       "              'y': array([0.72395604, 0.96896944, 0.90311502, 0.88838024, 0.78684444, 0.85333333,\n",
       "                          0.85617284, 0.34567511, 0.99088889, 0.93151515, 0.81324786, 0.75138656,\n",
       "                          0.96990476, 0.76796537, 0.98822222, 0.80730159, 0.97465565, 0.99944396,\n",
       "                          0.71702638, 0.77601918, 0.96039933, 0.94670017, 0.86473297, 0.90833333,\n",
       "                          0.42096296, 1.        , 0.8604    , 0.78943089, 0.95102594, 0.99911111,\n",
       "                          0.76380159, 0.94947368, 0.9525463 , 0.945     , 0.9536859 , 0.95423977,\n",
       "                          0.99288889, 0.80054645, 0.39625167, 0.55474074, 0.596875  , 0.81739837,\n",
       "                          0.53116883, 0.61332288, 0.75887446, 0.99008439, 0.79223684, 0.41012121,\n",
       "                          0.99444444, 0.99388889, 0.88611111, 0.96426016, 0.67585148, 0.5965368 ,\n",
       "                          0.91624742, 0.95856   , 0.99673684, 0.85253333, 1.        , 0.81543052,\n",
       "                          0.95711046, 0.66714628, 0.85866667, 0.93702222, 0.79662222, 0.999775  ,\n",
       "                          1.        , 0.93305556, 0.80888889, 0.87721111, 0.80917874, 0.82359679,\n",
       "                          0.43701923, 0.9988806 , 0.80811966, 0.97486486, 0.49138047, 0.86899311])}],\n",
       "    'layout': {'autosize': False,\n",
       "               'height': 600,\n",
       "               'legend': {'x': 0.95, 'xanchor': 'right', 'y': 0.9, 'yanchor': 'top'},\n",
       "               'plot_bgcolor': 'rgba(0,0,0,0)',\n",
       "               'template': '...',\n",
       "               'title': {'text': 'GPR with varying length, sigma and white noise', 'x': 0.5, 'xanchor': 'center'},\n",
       "               'width': 800,\n",
       "               'xaxis': {'linecolor': 'black', 'linewidth': 1, 'showline': True, 'title': {'text': 'input values'}},\n",
       "               'yaxis': {'linecolor': 'black', 'linewidth': 1, 'showline': True, 'title': {'text': 'output values'}}}\n",
       "})"
      ]
     },
     "execution_count": 26,
     "metadata": {},
     "output_type": "execute_result"
    }
   ],
   "source": [
    "model = GPR(x_values,\n",
    "            y_values,\n",
    "            covariance_function=SquaredExponentialKernel(length=0.5),\n",
    "            white_noise_sigma=0.1)\n",
    "\n",
    "data = plot_GPR(x_values, y_values, model=model, x=x)\n",
    "\n",
    "fig3 = go.FigureWidget(data=data)\n",
    "\n",
    "\n",
    "# we update the y values of our 4 scatter plots \n",
    "@interact(sigma=(0.01, 3, 0.01), length=(0.01, 3, 0.01), noise=(0, 3, 0.1))\n",
    "def update(sigma=1, length=0.5, noise=0.1):\n",
    "    with fig3.batch_update():\n",
    "        model = GPR(x_values,\n",
    "                    y_values,\n",
    "                    covariance_function=SquaredExponentialKernel(\n",
    "                        sigma_f=sigma, length=length),\n",
    "                    white_noise_sigma=noise)\n",
    "\n",
    "        mean = model.predict(x)\n",
    "        y_upper = mean + np.sqrt(model._memory['variance'])\n",
    "        y_lower = mean - np.sqrt(model._memory['variance'])\n",
    "\n",
    "        \n",
    "        for i in range(1, 4):\n",
    "            y_upper = mean + i * np.sqrt(model._memory['variance'])\n",
    "            y_lower = mean - i * np.sqrt(model._memory['variance'])\n",
    "            fig3.data[i-1].y = np.concatenate((y_upper, y_lower[::-1]))\n",
    "        \n",
    "        fig3.data[3].y = mean\n",
    "\n",
    "\n",
    "fig3 = update_layout_of_graph(\n",
    "    fig3, title=\"GPR with varying length, sigma and white noise\")\n",
    "fig3"
   ]
  },
  {
   "cell_type": "markdown",
   "id": "188b1f24",
   "metadata": {},
   "source": [
    "Pretty impressive how many function 'shapes' we can generate with a GPR!\n",
    "\n",
    "But now we naturally raise the question:\n",
    "\n",
    "_What are the best parameters for our GPR and problem?_"
   ]
  }
 ],
 "metadata": {
  "kernelspec": {
   "display_name": "Python 3 (ipykernel)",
   "language": "python",
   "name": "python3"
  },
  "language_info": {
   "codemirror_mode": {
    "name": "ipython",
    "version": 3
   },
   "file_extension": ".py",
   "mimetype": "text/x-python",
   "name": "python",
   "nbconvert_exporter": "python",
   "pygments_lexer": "ipython3",
   "version": "3.11.4"
  },
  "toc": {
   "base_numbering": 1,
   "nav_menu": {},
   "number_sections": true,
   "sideBar": true,
   "skip_h1_title": false,
   "title_cell": "Table of Contents",
   "title_sidebar": "Contents",
   "toc_cell": false,
   "toc_position": {},
   "toc_section_display": true,
   "toc_window_display": false
  },
  "varInspector": {
   "cols": {
    "lenName": 16,
    "lenType": 16,
    "lenVar": 40
   },
   "kernels_config": {
    "python": {
     "delete_cmd_postfix": "",
     "delete_cmd_prefix": "del ",
     "library": "var_list.py",
     "varRefreshCmd": "print(var_dic_list())"
    },
    "r": {
     "delete_cmd_postfix": ") ",
     "delete_cmd_prefix": "rm(",
     "library": "var_list.r",
     "varRefreshCmd": "cat(var_dic_list()) "
    }
   },
   "types_to_exclude": [
    "module",
    "function",
    "builtin_function_or_method",
    "instance",
    "_Feature"
   ],
   "window_display": false
  }
 },
 "nbformat": 4,
 "nbformat_minor": 5
}
