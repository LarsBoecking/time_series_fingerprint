{
 "cells": [
  {
   "cell_type": "markdown",
   "metadata": {},
   "source": [
    "# Benchmarking with sktime\n",
    "\n",
    "The benchmarking modules allows you to easily orchestrate benchmarking experiments in which you want to compare the performance of one or more algorithms over one or more data sets. It also provides a number of statistical tests to check if observed performance differences are statistically significant.\n",
    "\n",
    "The benchmarking modules is based on [mlaut](https://github.com/alan-turing-institute/mlaut).\n",
    "\n",
    "## Preliminaries"
   ]
  },
  {
   "cell_type": "code",
   "execution_count": 4,
   "metadata": {
    "execution": {
     "iopub.execute_input": "2021-04-09T13:57:12.800774Z",
     "iopub.status.busy": "2021-04-09T13:57:12.800145Z",
     "iopub.status.idle": "2021-04-09T13:57:13.736550Z",
     "shell.execute_reply": "2021-04-09T13:57:13.736911Z"
    },
    "pycharm": {
     "name": "#%%\n"
    }
   },
   "outputs": [],
   "source": [
    "# import required functions and classes\n",
    "import os\n",
    "import warnings\n",
    "\n",
    "from sklearn.metrics import accuracy_score\n",
    "from sktime.benchmarking.data import UEADataset, make_datasets\n",
    "from sktime.benchmarking.evaluation import Evaluator\n",
    "from sktime.benchmarking.metrics import PairwiseMetric\n",
    "from sktime.benchmarking.orchestration import Orchestrator\n",
    "from sktime.benchmarking.results import HDDResults\n",
    "from sktime.benchmarking.strategies import TSCStrategy\n",
    "from sktime.benchmarking.tasks import TSCTask\n",
    "from sktime.classification.deep_learning import InceptionTimeClassifier\n",
    "from sktime.classification.deep_learning.cnn import CNNClassifier\n",
    "from sktime.classification.dictionary_based import MUSE, WEASEL, BOSSEnsemble\n",
    "from sktime.classification.distance_based import ProximityForest\n",
    "from sktime.classification.dummy import DummyClassifier\n",
    "from sktime.classification.feature_based import TSFreshClassifier\n",
    "from sktime.classification.hybrid import HIVECOTEV1, HIVECOTEV2\n",
    "from sktime.classification.interval_based import (\n",
    "    RandomIntervalSpectralEnsemble, TimeSeriesForestClassifier)\n",
    "from sktime.classification.kernel_based import RocketClassifier\n",
    "from sktime.classification.shapelet_based import MrSEQL, MrSQM\n",
    "from sktime.series_as_features.model_selection import PresplitFilesCV\n",
    "import pandas as pd \n",
    "\n",
    "# hide warnings\n",
    "warnings.filterwarnings(\"ignore\")\n",
    "\n",
    "# set up paths to data and results folder\n",
    "import sktime\n",
    "\n",
    "\n",
    "DATA_PATH = os.path.join(os.path.dirname(sktime.__file__), \"datasets/data\")\n",
    "RESULTS_PATH = \"results\"\n",
    "\n",
    "# Create individual pointers to dataset on the disk\n",
    "datasets = [\n",
    "    UEADataset(path=DATA_PATH, name=\"ArrowHead\"),\n",
    "    UEADataset(path=DATA_PATH, name=\"ItalyPowerDemand\"),\n",
    "    UEADataset(path=DATA_PATH, name=\"PLAID\"),\n",
    "    UEADataset(path=DATA_PATH, name=\"JapaneseVowels\"),\n",
    "    \n",
    "]\n",
    "\n",
    "# Alternatively, we can use a helper function to create them automatically\n",
    "datasets = make_datasets(\n",
    "    path=DATA_PATH, dataset_cls=UEADataset, names=[\"ArrowHead\", \"ItalyPowerDemand\",\"PLAID\",\"JapaneseVowels\"]\n",
    ")\n",
    "\n",
    "tasks = [TSCTask(target=\"target\") for _ in range(len(datasets))]"
   ]
  },
  {
   "cell_type": "code",
   "execution_count": 5,
   "metadata": {
    "execution": {
     "iopub.execute_input": "2021-04-09T13:57:13.759621Z",
     "iopub.status.busy": "2021-04-09T13:57:13.759162Z",
     "iopub.status.idle": "2021-04-09T13:57:13.760646Z",
     "shell.execute_reply": "2021-04-09T13:57:13.761135Z"
    },
    "pycharm": {
     "name": "#%%\n"
    }
   },
   "outputs": [],
   "source": [
    "# Specify learning strategies\n",
    "strategies = [\n",
    "    TSCStrategy(TimeSeriesForestClassifier(n_estimators=10), name=\"tsf\"),\n",
    "    TSCStrategy(RandomIntervalSpectralEnsemble(n_estimators=10), name=\"rise\"),\n",
    "    TSCStrategy(RocketClassifier(num_kernels=500), name=\"rocket\"),\n",
    "    TSCStrategy(CNNClassifier(n_epochs=1,batch_size=4), name=\"CNN\"),\n",
    "    TSCStrategy(InceptionTimeClassifier(n_epochs=1, batch_size=64, kernel_size=40, n_filters=32), name=\"Inception\"),\n",
    "    TSCStrategy(BOSSEnsemble(), name=\"BOSS\"),\n",
    "    TSCStrategy(MUSE(), name=\"MUSE\"),\n",
    "    TSCStrategy(WEASEL(), name=\"WEASEL\"),\n",
    "    TSCStrategy(DummyClassifier(), name=\"Dummy\"),\n",
    "    \n",
    "    # TSCStrategy(ProximityForest(), name=\"ProximityForest\"), #! TypeError: '<' not supported\n",
    "    # TSCStrategy(HIVECOTEV1(), name=\"HiveV1\"), #? time consuming\n",
    "    # TSCStrategy(HIVECOTEV2(), name=\"HiveV2\"), #? time consuming\n",
    "    # TSCStrategy(MrSEQL(), name=\"MrSEQL\"), #? time consuming\n",
    "    \n",
    "    # TSCStrategy(TSFreshClassifier(), name=\"TSfresh\"), #! TSFreshClassifier requires python version to be <3.10\n",
    "    # TSCStrategy(MrSQM(), name=\"MrSQM\"),  #! Could not build wheels for mrsqm\n",
    "]\n",
    "\n",
    "# Specify results object which manages the output of the benchmarking\n",
    "results = HDDResults(path=RESULTS_PATH)"
   ]
  },
  {
   "cell_type": "code",
   "execution_count": 6,
   "metadata": {
    "execution": {
     "iopub.execute_input": "2021-04-09T13:57:13.773449Z",
     "iopub.status.busy": "2021-04-09T13:57:13.770564Z",
     "iopub.status.idle": "2021-04-09T13:57:22.021177Z",
     "shell.execute_reply": "2021-04-09T13:57:22.021696Z"
    }
   },
   "outputs": [
    {
     "name": "stdout",
     "output_type": "stream",
     "text": [
      "Number of Datasets: 4\n",
      "Number of Strategies: 9\n",
      "Number of CV Splits: 1\n",
      "Total Iterations: 36\n"
     ]
    },
    {
     "name": "stderr",
     "output_type": "stream",
     "text": [
      "Fitting & Predicting:   8%|▊         | 3/36 [00:01<00:20,  1.64it/s]"
     ]
    },
    {
     "name": "stdout",
     "output_type": "stream",
     "text": [
      "44/44 [==============================] - 0s 333us/step\n"
     ]
    },
    {
     "name": "stderr",
     "output_type": "stream",
     "text": [
      "Fitting & Predicting:  11%|█         | 4/36 [00:02<00:18,  1.78it/s]"
     ]
    },
    {
     "name": "stdout",
     "output_type": "stream",
     "text": [
      "3/3 [==============================] - 0s 42ms/step\n"
     ]
    },
    {
     "name": "stderr",
     "output_type": "stream",
     "text": [
      "Fitting & Predicting:  14%|█▍        | 5/36 [00:04<00:31,  1.02s/it]"
     ]
    }
   ],
   "source": [
    "# run orchestrator\n",
    "orchestrator = Orchestrator(\n",
    "    datasets=datasets,\n",
    "    tasks=tasks,\n",
    "    strategies=strategies,\n",
    "    cv=PresplitFilesCV(),\n",
    "    results=results,\n",
    ")\n",
    "orchestrator.fit_predict(save_fitted_strategies=False, overwrite_predictions=True)"
   ]
  },
  {
   "cell_type": "code",
   "execution_count": 4,
   "metadata": {
    "execution": {
     "iopub.execute_input": "2021-04-09T13:57:22.029271Z",
     "iopub.status.busy": "2021-04-09T13:57:22.028770Z",
     "iopub.status.idle": "2021-04-09T13:57:22.275525Z",
     "shell.execute_reply": "2021-04-09T13:57:22.276001Z"
    }
   },
   "outputs": [
    {
     "data": {
      "text/html": [
       "<div>\n",
       "<style scoped>\n",
       "    .dataframe tbody tr th:only-of-type {\n",
       "        vertical-align: middle;\n",
       "    }\n",
       "\n",
       "    .dataframe tbody tr th {\n",
       "        vertical-align: top;\n",
       "    }\n",
       "\n",
       "    .dataframe thead th {\n",
       "        text-align: right;\n",
       "    }\n",
       "</style>\n",
       "<table border=\"1\" class=\"dataframe\">\n",
       "  <thead>\n",
       "    <tr style=\"text-align: right;\">\n",
       "      <th></th>\n",
       "      <th>strategy</th>\n",
       "      <th>accuracy_mean</th>\n",
       "      <th>accuracy_stderr</th>\n",
       "    </tr>\n",
       "  </thead>\n",
       "  <tbody>\n",
       "    <tr>\n",
       "      <th>0</th>\n",
       "      <td>BOSS</td>\n",
       "      <td>0.834391</td>\n",
       "      <td>0.035426</td>\n",
       "    </tr>\n",
       "    <tr>\n",
       "      <th>1</th>\n",
       "      <td>CNN</td>\n",
       "      <td>0.372375</td>\n",
       "      <td>0.055593</td>\n",
       "    </tr>\n",
       "    <tr>\n",
       "      <th>2</th>\n",
       "      <td>Dummy</td>\n",
       "      <td>0.369042</td>\n",
       "      <td>0.055307</td>\n",
       "    </tr>\n",
       "    <tr>\n",
       "      <th>3</th>\n",
       "      <td>Inception</td>\n",
       "      <td>0.337053</td>\n",
       "      <td>0.054864</td>\n",
       "    </tr>\n",
       "    <tr>\n",
       "      <th>4</th>\n",
       "      <td>MUSE</td>\n",
       "      <td>0.895874</td>\n",
       "      <td>0.030034</td>\n",
       "    </tr>\n",
       "  </tbody>\n",
       "</table>\n",
       "</div>"
      ],
      "text/plain": [
       "    strategy  accuracy_mean  accuracy_stderr\n",
       "0       BOSS       0.834391         0.035426\n",
       "1        CNN       0.372375         0.055593\n",
       "2      Dummy       0.369042         0.055307\n",
       "3  Inception       0.337053         0.054864\n",
       "4       MUSE       0.895874         0.030034"
      ]
     },
     "execution_count": 4,
     "metadata": {},
     "output_type": "execute_result"
    }
   ],
   "source": [
    "evaluator = Evaluator(results)\n",
    "metric = PairwiseMetric(func=accuracy_score, name=\"accuracy\")\n",
    "metrics_by_strategy = evaluator.evaluate(metric=metric)\n",
    "metrics_by_strategy.head()"
   ]
  },
  {
   "cell_type": "code",
   "execution_count": 5,
   "metadata": {},
   "outputs": [
    {
     "data": {
      "text/plain": [
       "(<Figure size 640x480 with 1 Axes>,\n",
       " <Axes: title={'center': 'accuracy by strategy'}, xlabel='strategies', ylabel='accuracy'>)"
      ]
     },
     "execution_count": 5,
     "metadata": {},
     "output_type": "execute_result"
    },
    {
     "data": {
      "image/png": "[encoded data removed]",
      "text/plain": [
       "<Figure size 640x480 with 1 Axes>"
      ]
     },
     "metadata": {},
     "output_type": "display_data"
    }
   ],
   "source": [
    "evaluator.plot_boxplots(metric_name=\"accuracy\")"
   ]
  },
  {
   "cell_type": "code",
   "execution_count": 6,
   "metadata": {},
   "outputs": [
    {
     "data": {
      "text/html": [
       "<div>\n",
       "<style scoped>\n",
       "    .dataframe tbody tr th:only-of-type {\n",
       "        vertical-align: middle;\n",
       "    }\n",
       "\n",
       "    .dataframe tbody tr th {\n",
       "        vertical-align: top;\n",
       "    }\n",
       "\n",
       "    .dataframe thead th {\n",
       "        text-align: right;\n",
       "    }\n",
       "</style>\n",
       "<table border=\"1\" class=\"dataframe\">\n",
       "  <thead>\n",
       "    <tr style=\"text-align: right;\">\n",
       "      <th></th>\n",
       "      <th>strategy</th>\n",
       "      <th>accuracy_mean_rank</th>\n",
       "    </tr>\n",
       "  </thead>\n",
       "  <tbody>\n",
       "    <tr>\n",
       "      <th>7</th>\n",
       "      <td>rocket</td>\n",
       "      <td>2.2</td>\n",
       "    </tr>\n",
       "    <tr>\n",
       "      <th>5</th>\n",
       "      <td>WEASEL</td>\n",
       "      <td>2.3</td>\n",
       "    </tr>\n",
       "    <tr>\n",
       "      <th>4</th>\n",
       "      <td>MUSE</td>\n",
       "      <td>2.8</td>\n",
       "    </tr>\n",
       "    <tr>\n",
       "      <th>0</th>\n",
       "      <td>BOSS</td>\n",
       "      <td>3.9</td>\n",
       "    </tr>\n",
       "    <tr>\n",
       "      <th>8</th>\n",
       "      <td>tsf</td>\n",
       "      <td>4.6</td>\n",
       "    </tr>\n",
       "    <tr>\n",
       "      <th>6</th>\n",
       "      <td>rise</td>\n",
       "      <td>5.2</td>\n",
       "    </tr>\n",
       "    <tr>\n",
       "      <th>1</th>\n",
       "      <td>CNN</td>\n",
       "      <td>7.7</td>\n",
       "    </tr>\n",
       "    <tr>\n",
       "      <th>2</th>\n",
       "      <td>Dummy</td>\n",
       "      <td>8.0</td>\n",
       "    </tr>\n",
       "    <tr>\n",
       "      <th>3</th>\n",
       "      <td>Inception</td>\n",
       "      <td>8.3</td>\n",
       "    </tr>\n",
       "  </tbody>\n",
       "</table>\n",
       "</div>"
      ],
      "text/plain": [
       "    strategy  accuracy_mean_rank\n",
       "7     rocket                 2.2\n",
       "5     WEASEL                 2.3\n",
       "4       MUSE                 2.8\n",
       "0       BOSS                 3.9\n",
       "8        tsf                 4.6\n",
       "6       rise                 5.2\n",
       "1        CNN                 7.7\n",
       "2      Dummy                 8.0\n",
       "3  Inception                 8.3"
      ]
     },
     "execution_count": 6,
     "metadata": {},
     "output_type": "execute_result"
    }
   ],
   "source": [
    "evaluator.rank(metric_name=\"accuracy\").sort_values(by=\"accuracy_mean_rank\")"
   ]
  },
  {
   "cell_type": "code",
   "execution_count": 28,
   "metadata": {},
   "outputs": [
    {
     "data": {
      "image/png": "[encoded data removed]",
      "text/plain": [
       "<Figure size 900x205 with 1 Axes>"
      ]
     },
     "metadata": {},
     "output_type": "display_data"
    }
   ],
   "source": [
    "from utils import draw_cd_diagram\n",
    "\n",
    "draw_cd_diagram(df_perf=evaluator.metrics_by_strategy_dataset.copy().rename(columns={\"dataset\":\"dataset_name\",\n",
    "                                                             \"strategy\":\"classifier_name\",\n",
    "                                                             \"accuracy_mean\":\"accuracy\"}), alpha=2.5, title=None, labels=True)"
   ]
  }
 ],
 "metadata": {
  "kernelspec": {
   "display_name": "Python 3.7.11 ('sktime37')",
   "language": "python",
   "name": "python3"
  },
  "language_info": {
   "codemirror_mode": {
    "name": "ipython",
    "version": 3
   },
   "file_extension": ".py",
   "mimetype": "text/x-python",
   "name": "python",
   "nbconvert_exporter": "python",
   "pygments_lexer": "ipython3",
   "version": "3.11.4"
  },
  "vscode": {
   "interpreter": {
    "hash": "cb6287e4e3b26a4dcfcac85940452e8817d1be7d6015acaeb8af47f9065ee767"
   }
  }
 },
 "nbformat": 4,
 "nbformat_minor": 4
}
