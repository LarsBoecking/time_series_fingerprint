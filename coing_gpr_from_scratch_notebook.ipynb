{
 "cells": [
  {
   "cell_type": "markdown",
   "id": "117d3726",
   "metadata": {},
   "source": [
    "# Gaussian process regression - hands on implementation"
   ]
  },
  {
   "cell_type": "markdown",
   "id": "87a6f995",
   "metadata": {},
   "source": [
    "## Overview"
   ]
  },
  {
   "cell_type": "markdown",
   "id": "dcb462c6",
   "metadata": {},
   "source": [
    "This notebook contains a complete implementation of a Gaussian Process Regressor (GPR) with a squared exponential kernel using Numpy for matrix operations and Plotly for visualisation. \n",
    "\n",
    "The purpose of this notebook is to understand the main components of a GPR and to visualise the effects of certain parameters on the output. \n",
    "It is _not_ intended as a theoretical introduction to GPRs.\n",
    "A good introduction can be found [here](http://www.gaussianprocess.org/gpml/chapters/RW.pdf). \n",
    "\n",
    "Stable and effective implementations of GPR's are available, for example, in the [gpytorch](https://gpytorch.ai) package."
   ]
  },
  {
   "cell_type": "markdown",
   "id": "bfc98796",
   "metadata": {},
   "source": [
    "## Packages"
   ]
  },
  {
   "cell_type": "code",
   "execution_count": 1,
   "id": "b48ebe22",
   "metadata": {},
   "outputs": [],
   "source": [
    "import numpy as np\n",
    "import plotly.graph_objects as go\n",
    "from ipywidgets import interact, widgets"
   ]
  },
  {
   "cell_type": "markdown",
   "id": "4575ccbd",
   "metadata": {},
   "source": [
    "## Plotting helper functions"
   ]
  },
  {
   "cell_type": "markdown",
   "id": "caa8c0bf",
   "metadata": {},
   "source": [
    "To have nice visualizations of the later GPR, we use Plotly and to have structured and lean code, we define a few commonly used 'helpers' here. "
   ]
  },
  {
   "cell_type": "code",
   "execution_count": 2,
   "id": "ad8a0219",
   "metadata": {
    "code_folding": [
     0
    ]
   },
   "outputs": [],
   "source": [
    "def update_layout_of_graph(fig: go.Figure,title: str = 'Plot')->go.Figure:\n",
    "    fig.update_layout(\n",
    "        width=800,\n",
    "        height=600,\n",
    "        autosize=False,\n",
    "        plot_bgcolor='rgba(0,0,0,0)',\n",
    "        title=title,\n",
    "        \n",
    "    )\n",
    "    fig.update_layout(plot_bgcolor='rgba(0,0,0,0)',\n",
    "                      xaxis_title = 'input values',\n",
    "                      yaxis_title = 'output values',\n",
    "                      legend=dict(yanchor=\"top\",\n",
    "                                  y=0.9,\n",
    "                                  xanchor=\"right\",\n",
    "                                  x=0.95),\n",
    "                      title={\n",
    "                          'x': 0.5,\n",
    "                          'xanchor': 'center'\n",
    "                      })\n",
    "    fig.update_xaxes(showline=True, linewidth=1, linecolor='black')\n",
    "    fig.update_yaxes(showline=True, linewidth=1, linecolor='black')\n",
    "    return fig"
   ]
  },
  {
   "cell_type": "code",
   "execution_count": 3,
   "id": "66e5a661",
   "metadata": {
    "code_folding": [
     0,
     6
    ]
   },
   "outputs": [],
   "source": [
    "def line_scatter(\n",
    "    visible: bool = True,\n",
    "    x_lines: np.array = np.array([]),\n",
    "    y_lines: np.array = np.array([]),\n",
    "    name_line: str = 'Predicted function',\n",
    "    showlegend: bool = True,\n",
    ") -> go.Scatter:\n",
    "    # Adding the lines\n",
    "    return go.Scatter(\n",
    "        visible=visible,\n",
    "        line=dict(color=\"blue\", width=2),\n",
    "        x=x_lines,\n",
    "        y=y_lines,\n",
    "        name=name_line,\n",
    "        showlegend= showlegend\n",
    "    )"
   ]
  },
  {
   "cell_type": "code",
   "execution_count": 4,
   "id": "f0b4e5ac",
   "metadata": {
    "code_folding": [
     0,
     6
    ]
   },
   "outputs": [],
   "source": [
    "def dot_scatter(\n",
    "    visible: bool = True,\n",
    "    x_dots: np.array = np.array([]),\n",
    "    y_dots: np.array = np.array([]),\n",
    "    name_dots: str = 'Observed points',\n",
    "    showlegend: bool = True\n",
    ") -> go.Scatter:\n",
    "    # Adding the dots\n",
    "    return go.Scatter(\n",
    "        x=x_dots,\n",
    "        visible=visible,\n",
    "        y=y_dots,\n",
    "        mode=\"markers\",\n",
    "        name=name_dots,\n",
    "        marker=dict(color='red', size=8),\n",
    "        showlegend=showlegend\n",
    "    )"
   ]
  },
  {
   "cell_type": "code",
   "execution_count": 5,
   "id": "8dda25c4",
   "metadata": {
    "code_folding": [
     0,
     6
    ]
   },
   "outputs": [],
   "source": [
    "def uncertainty_area_scatter(\n",
    "        visible: bool = True,\n",
    "        x_lines: np.array = np.array([]),\n",
    "        y_upper: np.array = np.array([]),\n",
    "        y_lower: np.array = np.array([]),\n",
    "        name: str = \"mean plus/minus standard deviation\",\n",
    ") -> go.Scatter:\n",
    "\n",
    "    return go.Scatter(\n",
    "        visible=visible,\n",
    "        x=np.concatenate((x_lines, x_lines[::-1])),  # x, then x reversed\n",
    "        # upper, then lower reversed\n",
    "        y=np.concatenate((y_upper, y_lower[::-1])),\n",
    "        fill='toself',\n",
    "        fillcolor='rgba(189,195,199,0.5)',\n",
    "        line=dict(color='rgba(200,200,200,0)'),\n",
    "        hoverinfo=\"skip\",\n",
    "        showlegend=True,\n",
    "        name= name,\n",
    "    )"
   ]
  },
  {
   "cell_type": "code",
   "execution_count": 6,
   "id": "6a0be169",
   "metadata": {
    "code_folding": [
     0
    ]
   },
   "outputs": [],
   "source": [
    "def add_slider_GPR(figure: go.Figure, parameters):\n",
    "    figure.data[0].visible = True\n",
    "    figure.data[1].visible = True\n",
    "\n",
    "    # Create and add slider\n",
    "    steps = []\n",
    "    for i in range(int((len(figure.data) - 1) / 2)):\n",
    "        step = dict(\n",
    "            method=\"update\",\n",
    "            label=f'{parameters[i]: .2f}',\n",
    "            args=[{\n",
    "                \"visible\": [False] * (len(figure.data) - 1) + [True]\n",
    "            }],\n",
    "        )\n",
    "        step[\"args\"][0][\"visible\"][2 *\n",
    "                                   i] = True  # Toggle i'th trace to \"visible\"\n",
    "        step[\"args\"][0][\"visible\"][2 * i + 1] = True\n",
    "        steps.append(step)\n",
    "\n",
    "    sliders = [dict(\n",
    "        active=0,\n",
    "        pad={\"t\": 50},\n",
    "        steps=steps,\n",
    "    )]\n",
    "    figure.update_layout(sliders=sliders, )\n",
    "    return figure"
   ]
  },
  {
   "cell_type": "code",
   "execution_count": 7,
   "id": "cf44e383",
   "metadata": {
    "code_folding": [
     0
    ]
   },
   "outputs": [],
   "source": [
    "def add_slider_to_function(figure:go.Figure, parameters):\n",
    "    figure.data[0].visible = True\n",
    "\n",
    "    # Create and add slider\n",
    "    steps = []\n",
    "    for i in range(len(figure.data)):\n",
    "        step = dict(\n",
    "            method=\"update\",\n",
    "            label=f'{parameters[i]: .2f}',\n",
    "            args=[{\n",
    "                \"visible\": [False] *len(figure.data) \n",
    "            }],\n",
    "        )\n",
    "        step[\"args\"][0][\"visible\"][i] = True  # Toggle i'th trace to \"visible\"\n",
    "        steps.append(step)\n",
    "\n",
    "    sliders = [dict(\n",
    "        active=0,\n",
    "        pad={\"t\": 50},\n",
    "        steps=steps,\n",
    "    )]\n",
    "    figure.update_layout(sliders=sliders, )\n",
    "    return figure"
   ]
  },
  {
   "cell_type": "markdown",
   "id": "9058664e",
   "metadata": {},
   "source": [
    "## Implementation of GPR with squared exponential kernel"
   ]
  },
  {
   "cell_type": "markdown",
   "id": "fa792ab3",
   "metadata": {},
   "source": [
    "In order to define a gaussian process regressor (GPR) we need a covariance function (also called kernel). The choice of this function will determine the 'shape' of the later GPR. \n",
    "\n",
    "In this notebook we choose the popular _squared exponential_ kernel:\n",
    "$$ k(x_1,x_2):= \\sigma^2*\\exp(-\\|x_1-x_2\\|^2_2)/(2*l^2))$$\n",
    "with $$l>0$$ the lengthscale and $$\\sigma^2>0$$ the signal variance. \n",
    "You are encouraged to implement a different kernel and see the difference in the resulting GPR!\n",
    "\n"
   ]
  },
  {
   "cell_type": "code",
   "execution_count": 8,
   "id": "cbc55090",
   "metadata": {},
   "outputs": [],
   "source": [
    "class SquaredExponentialKernel:\n",
    "    def __init__(self, sigma_f: float = 1, length: float = 1):\n",
    "        self.sigma_f = sigma_f\n",
    "        self.length = length\n",
    "\n",
    "    def __call__(self, argument_1: np.array, argument_2: np.array) -> float:\n",
    "        return float(self.sigma_f *\n",
    "                     np.exp(-(np.linalg.norm(argument_1 - argument_2)**2) /\n",
    "                            (2 * self.length**2)))"
   ]
  },
  {
   "cell_type": "markdown",
   "id": "b23258da",
   "metadata": {},
   "source": [
    "Let us visualize this kernel."
   ]
  },
  {
   "cell_type": "code",
   "execution_count": 9,
   "id": "e1cd79c0",
   "metadata": {},
   "outputs": [
    {
     "data": {
      "application/vnd.jupyter.widget-view+json": {
       "model_id": "80b0a031433b4144a45dce52c3003888",
       "version_major": 2,
       "version_minor": 0
      },
      "text/plain": [
       "interactive(children=(FloatSlider(value=1.0, description='length', max=3.0, min=0.1), FloatSlider(value=0.0, d…"
      ]
     },
     "metadata": {},
     "output_type": "display_data"
    },
    {
     "data": {
      "application/vnd.jupyter.widget-view+json": {
       "model_id": "57941667c0c34b268c20d8f1a34e1cd4",
       "version_major": 2,
       "version_minor": 0
      },
      "text/plain": [
       "FigureWidget({\n",
       "    'data': [{'line': {'color': 'blue', 'width': 2},\n",
       "              'name': 'Predicted function',\n",
       "              'showlegend': True,\n",
       "              'type': 'scatter',\n",
       "              'uid': '0291c5eb-0984-49ab-a3bc-e72f65b17d98',\n",
       "              'visible': True,\n",
       "              'x': array([-1.00000000e+01, -9.90000000e+00, -9.80000000e+00, -9.70000000e+00,\n",
       "                          -9.60000000e+00, -9.50000000e+00, -9.40000000e+00, -9.30000000e+00,\n",
       "                          -9.20000000e+00, -9.10000000e+00, -9.00000000e+00, -8.90000000e+00,\n",
       "                          -8.80000000e+00, -8.70000000e+00, -8.60000000e+00, -8.50000000e+00,\n",
       "                          -8.40000000e+00, -8.30000000e+00, -8.20000000e+00, -8.10000000e+00,\n",
       "                          -8.00000000e+00, -7.90000000e+00, -7.80000000e+00, -7.70000000e+00,\n",
       "                          -7.60000000e+00, -7.50000000e+00, -7.40000000e+00, -7.30000000e+00,\n",
       "                          -7.20000000e+00, -7.10000000e+00, -7.00000000e+00, -6.90000000e+00,\n",
       "                          -6.80000000e+00, -6.70000000e+00, -6.60000000e+00, -6.50000000e+00,\n",
       "                          -6.40000000e+00, -6.30000000e+00, -6.20000000e+00, -6.10000000e+00,\n",
       "                          -6.00000000e+00, -5.90000000e+00, -5.80000000e+00, -5.70000000e+00,\n",
       "                          -5.60000000e+00, -5.50000000e+00, -5.40000000e+00, -5.30000000e+00,\n",
       "                          -5.20000000e+00, -5.10000000e+00, -5.00000000e+00, -4.90000000e+00,\n",
       "                          -4.80000000e+00, -4.70000000e+00, -4.60000000e+00, -4.50000000e+00,\n",
       "                          -4.40000000e+00, -4.30000000e+00, -4.20000000e+00, -4.10000000e+00,\n",
       "                          -4.00000000e+00, -3.90000000e+00, -3.80000000e+00, -3.70000000e+00,\n",
       "                          -3.60000000e+00, -3.50000000e+00, -3.40000000e+00, -3.30000000e+00,\n",
       "                          -3.20000000e+00, -3.10000000e+00, -3.00000000e+00, -2.90000000e+00,\n",
       "                          -2.80000000e+00, -2.70000000e+00, -2.60000000e+00, -2.50000000e+00,\n",
       "                          -2.40000000e+00, -2.30000000e+00, -2.20000000e+00, -2.10000000e+00,\n",
       "                          -2.00000000e+00, -1.90000000e+00, -1.80000000e+00, -1.70000000e+00,\n",
       "                          -1.60000000e+00, -1.50000000e+00, -1.40000000e+00, -1.30000000e+00,\n",
       "                          -1.20000000e+00, -1.10000000e+00, -1.00000000e+00, -9.00000000e-01,\n",
       "                          -8.00000000e-01, -7.00000000e-01, -6.00000000e-01, -5.00000000e-01,\n",
       "                          -4.00000000e-01, -3.00000000e-01, -2.00000000e-01, -1.00000000e-01,\n",
       "                          -3.55271368e-14,  1.00000000e-01,  2.00000000e-01,  3.00000000e-01,\n",
       "                           4.00000000e-01,  5.00000000e-01,  6.00000000e-01,  7.00000000e-01,\n",
       "                           8.00000000e-01,  9.00000000e-01,  1.00000000e+00,  1.10000000e+00,\n",
       "                           1.20000000e+00,  1.30000000e+00,  1.40000000e+00,  1.50000000e+00,\n",
       "                           1.60000000e+00,  1.70000000e+00,  1.80000000e+00,  1.90000000e+00,\n",
       "                           2.00000000e+00,  2.10000000e+00,  2.20000000e+00,  2.30000000e+00,\n",
       "                           2.40000000e+00,  2.50000000e+00,  2.60000000e+00,  2.70000000e+00,\n",
       "                           2.80000000e+00,  2.90000000e+00,  3.00000000e+00,  3.10000000e+00,\n",
       "                           3.20000000e+00,  3.30000000e+00,  3.40000000e+00,  3.50000000e+00,\n",
       "                           3.60000000e+00,  3.70000000e+00,  3.80000000e+00,  3.90000000e+00,\n",
       "                           4.00000000e+00,  4.10000000e+00,  4.20000000e+00,  4.30000000e+00,\n",
       "                           4.40000000e+00,  4.50000000e+00,  4.60000000e+00,  4.70000000e+00,\n",
       "                           4.80000000e+00,  4.90000000e+00,  5.00000000e+00,  5.10000000e+00,\n",
       "                           5.20000000e+00,  5.30000000e+00,  5.40000000e+00,  5.50000000e+00,\n",
       "                           5.60000000e+00,  5.70000000e+00,  5.80000000e+00,  5.90000000e+00,\n",
       "                           6.00000000e+00,  6.10000000e+00,  6.20000000e+00,  6.30000000e+00,\n",
       "                           6.40000000e+00,  6.50000000e+00,  6.60000000e+00,  6.70000000e+00,\n",
       "                           6.80000000e+00,  6.90000000e+00,  7.00000000e+00,  7.10000000e+00,\n",
       "                           7.20000000e+00,  7.30000000e+00,  7.40000000e+00,  7.50000000e+00,\n",
       "                           7.60000000e+00,  7.70000000e+00,  7.80000000e+00,  7.90000000e+00,\n",
       "                           8.00000000e+00,  8.10000000e+00,  8.20000000e+00,  8.30000000e+00,\n",
       "                           8.40000000e+00,  8.50000000e+00,  8.60000000e+00,  8.70000000e+00,\n",
       "                           8.80000000e+00,  8.90000000e+00,  9.00000000e+00,  9.10000000e+00,\n",
       "                           9.20000000e+00,  9.30000000e+00,  9.40000000e+00,  9.50000000e+00,\n",
       "                           9.60000000e+00,  9.70000000e+00,  9.80000000e+00,  9.90000000e+00]),\n",
       "              'y': array([1.92874985e-22, 5.21673666e-22, 1.39694394e-21, 3.70353198e-21,\n",
       "                          9.72098502e-21, 2.52616378e-20, 6.49934797e-20, 1.65552266e-19,\n",
       "                          4.17501006e-19, 1.04240618e-18, 2.57675711e-18, 6.30618989e-18,\n",
       "                          1.52797997e-17, 3.66543340e-17, 8.70542662e-17, 2.04697171e-16,\n",
       "                          4.76530474e-16, 1.09831413e-15, 2.50622189e-15, 5.66199552e-15,\n",
       "                          1.26641655e-14, 2.80440474e-14, 6.14839641e-14, 1.33456608e-13,\n",
       "                          2.86797501e-13, 6.10193668e-13, 1.28533723e-12, 2.68054764e-12,\n",
       "                          5.53461007e-12, 1.13137762e-11, 2.28973485e-11, 4.58796249e-11,\n",
       "                          9.10147076e-11, 1.78755887e-10, 3.47589128e-10, 6.69158609e-10,\n",
       "                          1.27540763e-09, 2.40672244e-09, 4.49634946e-09, 8.31670246e-09,\n",
       "                          1.52299797e-08, 2.76124246e-08, 4.95640532e-08, 8.80817920e-08,\n",
       "                          1.54975314e-07, 2.69957850e-07, 4.65571572e-07, 7.94939362e-07,\n",
       "                          1.34381228e-06, 2.24905597e-06, 3.72665317e-06, 6.11356797e-06,\n",
       "                          9.92950431e-06, 1.59667839e-05, 2.54193465e-05, 4.00652974e-05,\n",
       "                          6.25215038e-05, 9.65934137e-05, 1.47748360e-04, 2.23745794e-04,\n",
       "                          3.35462628e-04, 4.97955422e-04, 7.31802419e-04, 1.06476624e-03,\n",
       "                          1.53381068e-03, 2.18749112e-03, 3.08871541e-03, 4.31784001e-03,\n",
       "                          5.97602290e-03, 8.18870101e-03, 1.11089965e-02, 1.49207861e-02,\n",
       "                          1.98410947e-02, 2.61214099e-02, 3.40474547e-02, 4.39369336e-02,\n",
       "                          5.61347628e-02, 7.10053537e-02, 8.89216175e-02, 1.10250525e-01,\n",
       "                          1.35335283e-01, 1.64474457e-01, 1.97898699e-01, 2.35746077e-01,\n",
       "                          2.78037300e-01, 3.24652467e-01, 3.75311099e-01, 4.29557358e-01,\n",
       "                          4.86752256e-01, 5.46074427e-01, 6.06530660e-01, 6.66976811e-01,\n",
       "                          7.26149037e-01, 7.82704538e-01, 8.35270211e-01, 8.82496903e-01,\n",
       "                          9.23116346e-01, 9.55997482e-01, 9.80198673e-01, 9.95012479e-01,\n",
       "                          1.00000000e+00, 9.95012479e-01, 9.80198673e-01, 9.55997482e-01,\n",
       "                          9.23116346e-01, 8.82496903e-01, 8.35270211e-01, 7.82704538e-01,\n",
       "                          7.26149037e-01, 6.66976811e-01, 6.06530660e-01, 5.46074427e-01,\n",
       "                          4.86752256e-01, 4.29557358e-01, 3.75311099e-01, 3.24652467e-01,\n",
       "                          2.78037300e-01, 2.35746077e-01, 1.97898699e-01, 1.64474457e-01,\n",
       "                          1.35335283e-01, 1.10250525e-01, 8.89216175e-02, 7.10053537e-02,\n",
       "                          5.61347628e-02, 4.39369336e-02, 3.40474547e-02, 2.61214099e-02,\n",
       "                          1.98410947e-02, 1.49207861e-02, 1.11089965e-02, 8.18870101e-03,\n",
       "                          5.97602290e-03, 4.31784001e-03, 3.08871541e-03, 2.18749112e-03,\n",
       "                          1.53381068e-03, 1.06476624e-03, 7.31802419e-04, 4.97955422e-04,\n",
       "                          3.35462628e-04, 2.23745794e-04, 1.47748360e-04, 9.65934137e-05,\n",
       "                          6.25215038e-05, 4.00652974e-05, 2.54193465e-05, 1.59667839e-05,\n",
       "                          9.92950431e-06, 6.11356797e-06, 3.72665317e-06, 2.24905597e-06,\n",
       "                          1.34381228e-06, 7.94939362e-07, 4.65571572e-07, 2.69957850e-07,\n",
       "                          1.54975314e-07, 8.80817920e-08, 4.95640532e-08, 2.76124246e-08,\n",
       "                          1.52299797e-08, 8.31670246e-09, 4.49634946e-09, 2.40672244e-09,\n",
       "                          1.27540763e-09, 6.69158609e-10, 3.47589128e-10, 1.78755887e-10,\n",
       "                          9.10147076e-11, 4.58796249e-11, 2.28973485e-11, 1.13137762e-11,\n",
       "                          5.53461007e-12, 2.68054764e-12, 1.28533723e-12, 6.10193668e-13,\n",
       "                          2.86797501e-13, 1.33456608e-13, 6.14839641e-14, 2.80440474e-14,\n",
       "                          1.26641655e-14, 5.66199552e-15, 2.50622189e-15, 1.09831413e-15,\n",
       "                          4.76530474e-16, 2.04697171e-16, 8.70542662e-17, 3.66543340e-17,\n",
       "                          1.52797997e-17, 6.30618989e-18, 2.57675711e-18, 1.04240618e-18,\n",
       "                          4.17501006e-19, 1.65552266e-19, 6.49934797e-20, 2.52616378e-20,\n",
       "                          9.72098502e-21, 3.70353198e-21, 1.39694394e-21, 5.21673666e-22])}],\n",
       "    'layout': {'autosize': False,\n",
       "               'height': 600,\n",
       "               'legend': {'x': 0.95, 'xanchor': 'right', 'y': 0.9, 'yanchor': 'top'},\n",
       "               'plot_bgcolor': 'rgba(0,0,0,0)',\n",
       "               'template': '...',\n",
       "               'title': {'text': 'Squared exponential kernel', 'x': 0.5, 'xanchor': 'center'},\n",
       "               'width': 800,\n",
       "               'xaxis': {'linecolor': 'black', 'linewidth': 1, 'showline': True, 'title': {'text': 'input values'}},\n",
       "               'yaxis': {'linecolor': 'black', 'linewidth': 1, 'showline': True, 'title': {'text': 'output values'}}}\n",
       "})"
      ]
     },
     "execution_count": 9,
     "metadata": {},
     "output_type": "execute_result"
    }
   ],
   "source": [
    "x_lines = np.arange(-10, 10, 0.1)\n",
    "kernel = SquaredExponentialKernel(length=1)\n",
    "\n",
    "fig0 = go.FigureWidget(data=[\n",
    "    line_scatter(\n",
    "        x_lines=x_lines,\n",
    "        y_lines=np.array([kernel(x, 0) for x in x_lines]),\n",
    "    )\n",
    "])\n",
    "\n",
    "fig0 = update_layout_of_graph(fig0, title='Squared exponential kernel')\n",
    "\n",
    "\n",
    "@interact(length=(0.1, 3, 0.1), argument_2=(-10, 10, 0.1))\n",
    "def update(length=1, argument_2=0):\n",
    "    with fig0.batch_update():\n",
    "        kernel = SquaredExponentialKernel(length=length)\n",
    "        fig0.data[0].y = np.array([kernel(x, argument_2) for x in x_lines])\n",
    "\n",
    "\n",
    "fig0"
   ]
  },
  {
   "cell_type": "markdown",
   "id": "613a3946",
   "metadata": {},
   "source": [
    "In the practical implementation of the GPR you will face a couple of stability problems. Among others, numeric approximations in dealing with matrix (operations) may lead to non-invertible/non-positive-semi-definite covariance matrices which result in errors when calculating the GPR. \n",
    "\n",
    "In order to prevent this error we add the _machine epsilon_ to the diagonal of the later covariance matrix:"
   ]
  },
  {
   "cell_type": "code",
   "execution_count": 10,
   "id": "517a082d",
   "metadata": {},
   "outputs": [
    {
     "name": "stdout",
     "output_type": "stream",
     "text": [
      "2.220446049250313e-16\n",
      "1.1920929e-07\n"
     ]
    }
   ],
   "source": [
    "print(np.finfo(float).eps)\n",
    "# 2.22044604925e-16\n",
    "\n",
    "print(np.finfo(np.float32).eps)\n",
    "# 1.19209e-07"
   ]
  },
  {
   "cell_type": "markdown",
   "id": "18f81bfc",
   "metadata": {},
   "source": [
    "Let us shortly recall the formula:\n",
    "Given training points $x_1,...,x_n\\in \\mathbb{R}^m$ with values $y_1,...,y_n\\in \\mathbb{R}$, $y = (y_i)\\in \\mathbb{R}^n$ with noise in each point $\\mathcal{N}_{0,\\sigma}$  and points $x_{n+1},...,x_k\\in \\mathbb{R}^m$ for which we want to predict the output, adapting our probability distribution leads to:\n",
    "\n",
    "$$\\mathcal{N}(K_*K^{-1}y,K_{**}-K_*K^{-1}K_*^T)$$\n",
    "with \n",
    "$$K= (k(x_i,x_j))_{i,j\\leq n}+\\sigma^2*\\mathbb{1}_n$$\n",
    "$$K_*= (k(x_i,x_j))_{n+1\\leq i, j\\leq n}$$\n",
    "$$K_{**}= (k(x_i,x_j))_{n+1\\leq i,j}$$"
   ]
  },
  {
   "cell_type": "code",
   "execution_count": 11,
   "id": "06c65a7a",
   "metadata": {},
   "outputs": [],
   "source": [
    "# Helper function to calculate the respective covariance matrices\n",
    "def cov_matrix(x1, x2, cov_function) -> np.array:\n",
    "    return np.array([[cov_function(a, b) for a in x1] for b in x2])"
   ]
  },
  {
   "cell_type": "code",
   "execution_count": 12,
   "id": "d9bdfc5b",
   "metadata": {},
   "outputs": [],
   "source": [
    "class GPR:\n",
    "    def __init__(self,\n",
    "                 data_x: np.array,\n",
    "                 data_y: np.array,\n",
    "                 covariance_function=SquaredExponentialKernel(),\n",
    "                 white_noise_sigma: float = 0):\n",
    "        self.noise = white_noise_sigma\n",
    "        self.data_x = data_x\n",
    "        self.data_y = data_y\n",
    "        self.covariance_function = covariance_function\n",
    "\n",
    "        # Store the inverse of covariance matrix of input (+ machine epsilon on diagonal) since it is needed for every prediction\n",
    "        self._inverse_of_covariance_matrix_of_input = np.linalg.inv(\n",
    "            cov_matrix(data_x, data_x, covariance_function) +\n",
    "            (3e-7 + self.noise) * np.identity(len(self.data_x)))\n",
    "\n",
    "        self._memory = None\n",
    "\n",
    "    # function to predict output at new input values. Store the mean and covariance matrix in memory.\n",
    "\n",
    "    def predict(self, at_values: np.array) -> np.array:\n",
    "        k_lower_left = cov_matrix(self.data_x, at_values,\n",
    "                                  self.covariance_function)\n",
    "        k_lower_right = cov_matrix(at_values, at_values,\n",
    "                                   self.covariance_function)\n",
    "\n",
    "        # Mean.\n",
    "        mean_at_values = np.dot(\n",
    "            k_lower_left,\n",
    "            np.dot(self.data_y,\n",
    "                   self._inverse_of_covariance_matrix_of_input.T).T).flatten()\n",
    "\n",
    "        # Covariance.\n",
    "        cov_at_values = k_lower_right - \\\n",
    "            np.dot(k_lower_left, np.dot(\n",
    "                self._inverse_of_covariance_matrix_of_input, k_lower_left.T))\n",
    "\n",
    "        # Adding value larger than machine epsilon to ensure positive semi definite\n",
    "        cov_at_values = cov_at_values + 3e-7 * np.ones(\n",
    "            np.shape(cov_at_values)[0])\n",
    "\n",
    "        var_at_values = np.diag(cov_at_values)\n",
    "\n",
    "        self._memory = {\n",
    "            'mean': mean_at_values,\n",
    "            'covariance_matrix': cov_at_values,\n",
    "            'variance': var_at_values\n",
    "        }\n",
    "        return mean_at_values"
   ]
  },
  {
   "cell_type": "markdown",
   "id": "9e6b586e",
   "metadata": {},
   "source": [
    "That's it. The GPR is ready to be used! "
   ]
  },
  {
   "cell_type": "markdown",
   "id": "a5e2f744",
   "metadata": {},
   "source": [
    "## Testing"
   ]
  },
  {
   "cell_type": "markdown",
   "id": "decbe1a4",
   "metadata": {},
   "source": [
    "Let us initialize our GPR on a random training set and visualize the GPR. "
   ]
  },
  {
   "cell_type": "markdown",
   "id": "4a9aa377",
   "metadata": {},
   "source": [
    "### Initializing training data"
   ]
  },
  {
   "cell_type": "code",
   "execution_count": 13,
   "id": "12f59452",
   "metadata": {},
   "outputs": [],
   "source": [
    "x_values = np.array([0, 0.3, 1, 3.1, 4.7])\n",
    "\n",
    "y_values = np.array([1, 0, 1.4, 0, -0.9])"
   ]
  },
  {
   "cell_type": "code",
   "execution_count": 14,
   "id": "baf9cac1",
   "metadata": {},
   "outputs": [],
   "source": [
    "x = np.arange(-1,7,0.1)"
   ]
  },
  {
   "cell_type": "markdown",
   "id": "8410f233",
   "metadata": {},
   "source": [
    "### Plot the output"
   ]
  },
  {
   "cell_type": "markdown",
   "id": "fe426230",
   "metadata": {},
   "source": [
    "Let us define a helper function which returns a list of all plots of data points, mean, etc. needed to plot a GPR."
   ]
  },
  {
   "cell_type": "code",
   "execution_count": 15,
   "id": "b99b06c2",
   "metadata": {},
   "outputs": [],
   "source": [
    "def plot_GPR(data_x, data_y, model, x, visible=True) -> list:\n",
    "    mean = model.predict(x)\n",
    "\n",
    "    std = np.sqrt(model._memory['variance'])\n",
    "    data = []\n",
    "\n",
    "    for i in range(1, 4):\n",
    "        data.append(\n",
    "            uncertainty_area_scatter(\n",
    "                x_lines=x,\n",
    "                y_lower=mean - i * std,\n",
    "                y_upper=mean + i * std,\n",
    "                name=f\"mean plus/minus {i}*standard deviation\",\n",
    "                visible=visible))\n",
    "\n",
    "    data.append(line_scatter(x_lines=x, y_lines=mean, visible=visible))\n",
    "    data.append(dot_scatter(x_dots=data_x, y_dots=data_y, visible=visible))\n",
    "    return data"
   ]
  },
  {
   "cell_type": "markdown",
   "id": "51cd9df1",
   "metadata": {},
   "source": [
    "Now, we can visualize our first GPR."
   ]
  },
  {
   "cell_type": "code",
   "execution_count": 16,
   "id": "9a82c61f",
   "metadata": {},
   "outputs": [
    {
     "data": {
      "application/vnd.plotly.v1+json": {
       "config": {
        "plotlyServerURL": "https://plot.ly"
       },
       "data": [
        {
         "fill": "toself",
         "fillcolor": "rgba(189,195,199,0.5)",
         "hoverinfo": "skip",
         "line": {
          "color": "rgba(200,200,200,0)"
         },
         "name": "mean plus/minus 1*standard deviation",
         "showlegend": true,
         "type": "scatter",
         "visible": true,
         "x": [
          -1,
          -0.9,
          -0.8,
          -0.7000000000000001,
          -0.6000000000000001,
          -0.5000000000000001,
          -0.40000000000000013,
          -0.30000000000000016,
          -0.20000000000000018,
          -0.1000000000000002,
          -2.220446049250313e-16,
          0.09999999999999964,
          0.19999999999999973,
          0.2999999999999998,
          0.3999999999999997,
          0.49999999999999956,
          0.5999999999999996,
          0.6999999999999997,
          0.7999999999999996,
          0.8999999999999995,
          0.9999999999999996,
          1.0999999999999996,
          1.1999999999999993,
          1.2999999999999994,
          1.3999999999999995,
          1.4999999999999996,
          1.5999999999999996,
          1.6999999999999993,
          1.7999999999999994,
          1.8999999999999995,
          1.9999999999999991,
          2.099999999999999,
          2.1999999999999993,
          2.2999999999999994,
          2.3999999999999995,
          2.499999999999999,
          2.599999999999999,
          2.6999999999999993,
          2.799999999999999,
          2.899999999999999,
          2.999999999999999,
          3.0999999999999988,
          3.1999999999999993,
          3.299999999999999,
          3.3999999999999986,
          3.499999999999999,
          3.5999999999999988,
          3.6999999999999993,
          3.799999999999999,
          3.8999999999999986,
          3.999999999999999,
          4.099999999999999,
          4.199999999999999,
          4.299999999999999,
          4.399999999999999,
          4.499999999999999,
          4.599999999999999,
          4.699999999999998,
          4.799999999999999,
          4.899999999999999,
          4.999999999999998,
          5.099999999999999,
          5.199999999999998,
          5.299999999999999,
          5.399999999999999,
          5.499999999999998,
          5.599999999999999,
          5.699999999999998,
          5.799999999999999,
          5.899999999999999,
          5.999999999999998,
          6.099999999999999,
          6.199999999999998,
          6.299999999999998,
          6.399999999999999,
          6.499999999999998,
          6.599999999999998,
          6.699999999999998,
          6.799999999999998,
          6.899999999999999,
          6.899999999999999,
          6.799999999999998,
          6.699999999999998,
          6.599999999999998,
          6.499999999999998,
          6.399999999999999,
          6.299999999999998,
          6.199999999999998,
          6.099999999999999,
          5.999999999999998,
          5.899999999999999,
          5.799999999999999,
          5.699999999999998,
          5.599999999999999,
          5.499999999999998,
          5.399999999999999,
          5.299999999999999,
          5.199999999999998,
          5.099999999999999,
          4.999999999999998,
          4.899999999999999,
          4.799999999999999,
          4.699999999999998,
          4.599999999999999,
          4.499999999999999,
          4.399999999999999,
          4.299999999999999,
          4.199999999999999,
          4.099999999999999,
          3.999999999999999,
          3.8999999999999986,
          3.799999999999999,
          3.6999999999999993,
          3.5999999999999988,
          3.499999999999999,
          3.3999999999999986,
          3.299999999999999,
          3.1999999999999993,
          3.0999999999999988,
          2.999999999999999,
          2.899999999999999,
          2.799999999999999,
          2.6999999999999993,
          2.599999999999999,
          2.499999999999999,
          2.3999999999999995,
          2.2999999999999994,
          2.1999999999999993,
          2.099999999999999,
          1.9999999999999991,
          1.8999999999999995,
          1.7999999999999994,
          1.6999999999999993,
          1.5999999999999996,
          1.4999999999999996,
          1.3999999999999995,
          1.2999999999999994,
          1.1999999999999993,
          1.0999999999999996,
          0.9999999999999996,
          0.8999999999999995,
          0.7999999999999996,
          0.6999999999999997,
          0.5999999999999996,
          0.49999999999999956,
          0.3999999999999997,
          0.2999999999999998,
          0.19999999999999973,
          0.09999999999999964,
          -2.220446049250313e-16,
          -0.1000000000000002,
          -0.20000000000000018,
          -0.30000000000000016,
          -0.40000000000000013,
          -0.5000000000000001,
          -0.6000000000000001,
          -0.7000000000000001,
          -0.8,
          -0.9,
          -1
         ],
         "y": [
          5.262247180378366,
          5.13293157950175,
          4.907301926119228,
          4.588303984214417,
          4.184093431283845,
          3.708022041159987,
          3.178242850707107,
          2.6169294968280683,
          2.049140033766518,
          1.50139350209546,
          1.0007610617545013,
          0.5832881893394285,
          0.24330982130037812,
          0.0007923226765380994,
          -0.11287861389593422,
          -0.10478859172431503,
          0.02053273652844253,
          0.25251061430669114,
          0.5745792567788769,
          0.96533750328026,
          1.400768465106728,
          1.9085389821330103,
          2.425297828458336,
          2.9232361536604667,
          3.3772057975576684,
          3.7653506603718667,
          4.070173325318336,
          4.279240071939241,
          4.385502285677297,
          4.387246936170397,
          4.287717693502859,
          4.094470152243092,
          3.8185382605380456,
          3.473494096877495,
          3.074480239134772,
          2.6372845268314338,
          2.177512920311314,
          1.709899506419415,
          1.2477755208694217,
          0.8027033178574227,
          0.3842681526877336,
          0.0007749850159943917,
          -0.18451847594818627,
          -0.33299554189448455,
          -0.4487103760091329,
          -0.5359642901445338,
          -0.599664758872732,
          -0.6449480701398562,
          -0.676847920200077,
          -0.7000222230996833,
          -0.7185447986563289,
          -0.7357639113308729,
          -0.7542256504588662,
          -0.7756569035088544,
          -0.8010001844104371,
          -0.8304907957860329,
          -0.8637653833963143,
          -0.8992252357511615,
          -0.758385095432824,
          -0.6135194953276519,
          -0.4681297025150037,
          -0.3246641566603764,
          -0.18526115216127204,
          -0.0517305535950251,
          0.07445804464591166,
          0.19217886652041483,
          0.30064416426694657,
          0.3993886878104306,
          0.488244731401244,
          0.5673088139968471,
          0.6369017264811656,
          0.6975242145427529,
          0.7498108939981222,
          0.7944850688123333,
          0.8323169232155271,
          0.8640871069690199,
          0.8905570857532825,
          0.9124468803338946,
          0.9304200811657819,
          0.9450754072048752,
          -1.0463496528479332,
          -1.0563932158353904,
          -1.067668231619064,
          -1.0800349355184535,
          -1.09324965348065,
          -1.1069534951530462,
          -1.120668050452744,
          -1.1338002086567358,
          -1.1456576355155552,
          -1.1554755848063554,
          -1.1624546713140518,
          -1.1658080993789652,
          -1.1648157342143657,
          -1.1588814208882185,
          -1.1475891810800403,
          -1.130753417724065,
          -1.1084580854797927,
          -1.0810799791318155,
          -1.049291873827117,
          -1.014042222505801,
          -0.9765094742491509,
          -0.9380310751130962,
          -0.9007744289634544,
          -1.0353685172699523,
          -1.1612691607735344,
          -1.274297506357512,
          -1.3708839501688015,
          -1.447340851623161,
          -1.4999079425332194,
          -1.5248080983695342,
          -1.5183171967598859,
          -1.4768525371827685,
          -1.3970841909499108,
          -1.2760728637518404,
          -1.1114362948760181,
          -0.9015438199551775,
          -0.6457355043705233,
          -0.34455862820968,
          -0.0007742081909951873,
          0.22242550901677405,
          0.48280197493111776,
          0.7790046995329919,
          1.1065077544650217,
          1.4582472195645015,
          1.8246466498592566,
          2.1938207962176053,
          2.551973467244842,
          2.8839917490956024,
          3.1742226488067233,
          3.4074003186310633,
          3.5696738383186912,
          3.6496689471432573,
          3.6395041901999496,
          3.5356746953159726,
          3.339716931789287,
          3.058576423403109,
          2.704617744176926,
          2.295241376516188,
          1.8521022130939284,
          1.3992192725617763,
          0.9270525771471527,
          0.5157135918243078,
          0.1888567167214006,
          -0.035214528420072576,
          -0.144044807613862,
          -0.13188232648777903,
          -0.0007568649695556503,
          0.23076425222264355,
          0.5694388781058807,
          0.9992118718885187,
          1.469519979938144,
          1.9656996257835535,
          2.4616598573760857,
          2.931682038924285,
          3.3526468091169797,
          3.7052784050831367,
          3.975035845787016,
          4.152613396583487,
          4.234045982846502,
          4.220448458983985
         ]
        },
        {
         "fill": "toself",
         "fillcolor": "rgba(189,195,199,0.5)",
         "hoverinfo": "skip",
         "line": {
          "color": "rgba(200,200,200,0)"
         },
         "name": "mean plus/minus 2*standard deviation",
         "showlegend": true,
         "type": "scatter",
         "visible": true,
         "x": [
          -1,
          -0.9,
          -0.8,
          -0.7000000000000001,
          -0.6000000000000001,
          -0.5000000000000001,
          -0.40000000000000013,
          -0.30000000000000016,
          -0.20000000000000018,
          -0.1000000000000002,
          -2.220446049250313e-16,
          0.09999999999999964,
          0.19999999999999973,
          0.2999999999999998,
          0.3999999999999997,
          0.49999999999999956,
          0.5999999999999996,
          0.6999999999999997,
          0.7999999999999996,
          0.8999999999999995,
          0.9999999999999996,
          1.0999999999999996,
          1.1999999999999993,
          1.2999999999999994,
          1.3999999999999995,
          1.4999999999999996,
          1.5999999999999996,
          1.6999999999999993,
          1.7999999999999994,
          1.8999999999999995,
          1.9999999999999991,
          2.099999999999999,
          2.1999999999999993,
          2.2999999999999994,
          2.3999999999999995,
          2.499999999999999,
          2.599999999999999,
          2.6999999999999993,
          2.799999999999999,
          2.899999999999999,
          2.999999999999999,
          3.0999999999999988,
          3.1999999999999993,
          3.299999999999999,
          3.3999999999999986,
          3.499999999999999,
          3.5999999999999988,
          3.6999999999999993,
          3.799999999999999,
          3.8999999999999986,
          3.999999999999999,
          4.099999999999999,
          4.199999999999999,
          4.299999999999999,
          4.399999999999999,
          4.499999999999999,
          4.599999999999999,
          4.699999999999998,
          4.799999999999999,
          4.899999999999999,
          4.999999999999998,
          5.099999999999999,
          5.199999999999998,
          5.299999999999999,
          5.399999999999999,
          5.499999999999998,
          5.599999999999999,
          5.699999999999998,
          5.799999999999999,
          5.899999999999999,
          5.999999999999998,
          6.099999999999999,
          6.199999999999998,
          6.299999999999998,
          6.399999999999999,
          6.499999999999998,
          6.599999999999998,
          6.699999999999998,
          6.799999999999998,
          6.899999999999999,
          6.899999999999999,
          6.799999999999998,
          6.699999999999998,
          6.599999999999998,
          6.499999999999998,
          6.399999999999999,
          6.299999999999998,
          6.199999999999998,
          6.099999999999999,
          5.999999999999998,
          5.899999999999999,
          5.799999999999999,
          5.699999999999998,
          5.599999999999999,
          5.499999999999998,
          5.399999999999999,
          5.299999999999999,
          5.199999999999998,
          5.099999999999999,
          4.999999999999998,
          4.899999999999999,
          4.799999999999999,
          4.699999999999998,
          4.599999999999999,
          4.499999999999999,
          4.399999999999999,
          4.299999999999999,
          4.199999999999999,
          4.099999999999999,
          3.999999999999999,
          3.8999999999999986,
          3.799999999999999,
          3.6999999999999993,
          3.5999999999999988,
          3.499999999999999,
          3.3999999999999986,
          3.299999999999999,
          3.1999999999999993,
          3.0999999999999988,
          2.999999999999999,
          2.899999999999999,
          2.799999999999999,
          2.6999999999999993,
          2.599999999999999,
          2.499999999999999,
          2.3999999999999995,
          2.2999999999999994,
          2.1999999999999993,
          2.099999999999999,
          1.9999999999999991,
          1.8999999999999995,
          1.7999999999999994,
          1.6999999999999993,
          1.5999999999999996,
          1.4999999999999996,
          1.3999999999999995,
          1.2999999999999994,
          1.1999999999999993,
          1.0999999999999996,
          0.9999999999999996,
          0.8999999999999995,
          0.7999999999999996,
          0.6999999999999997,
          0.5999999999999996,
          0.49999999999999956,
          0.3999999999999997,
          0.2999999999999998,
          0.19999999999999973,
          0.09999999999999964,
          -2.220446049250313e-16,
          -0.1000000000000002,
          -0.20000000000000018,
          -0.30000000000000016,
          -0.40000000000000013,
          -0.5000000000000001,
          -0.6000000000000001,
          -0.7000000000000001,
          -0.8,
          -0.9,
          -1
         ],
         "y": [
          5.783146541075556,
          5.582374377829373,
          5.2846461908870985,
          4.894938053428119,
          4.423500944384199,
          3.885709657181491,
          3.3015232565985184,
          2.6945643165540596,
          2.0908602377580006,
          1.5173302631741183,
          1.0015356566874924,
          0.5902128449562025,
          0.2495826058392454,
          0.0015669164995849743,
          -0.10337675760001182,
          -0.08516048377954154,
          0.04840636900270008,
          0.28433756309933644,
          0.6040120892561615,
          0.9844799663468138,
          1.4015430613792041,
          1.936757366652551,
          2.4903260544294104,
          3.032545358402237,
          3.5365204846349485,
          3.9781675246631565,
          4.337422640319518,
          4.5991080128088875,
          4.753418954944316,
          4.79603348509625,
          4.727876380938758,
          4.554593903961277,
          4.285811516259267,
          3.9342544116938214,
          3.514809960593355,
          3.0436034653175223,
          2.5371457706847202,
          2.0115953823966115,
          1.4821609315376367,
          0.9626539893205751,
          0.4651894745232134,
          0.0015495816194891813,
          -0.10449839981743941,
          -0.17662556065646512,
          -0.22229365403611062,
          -0.2482282877787918,
          -0.26146070643317765,
          -0.26888000973482906,
          -0.27684561170873123,
          -0.29087473626958216,
          -0.3154131487997264,
          -0.35369189572969983,
          -0.4076680498767188,
          -0.4780433801788808,
          -0.5643515234368998,
          -0.6651016132922822,
          -0.7779638164594952,
          -0.8984506391450152,
          -0.6685621055926877,
          -0.43202450586690244,
          -0.195173442519605,
          0.03764970192299388,
          0.26264826132399977,
          0.47663321234735867,
          0.6770637758308999,
          0.8620628903206424,
          1.030406956844529,
          1.1814908988228288,
          1.3152711467913485,
          1.4321905566522966,
          1.533090382124926,
          1.619115139571907,
          1.6916164453255513,
          1.7520616284448718,
          1.8019521323998138,
          1.8427554871938547,
          1.8758530963891504,
          1.9025044363103738,
          1.923826729666368,
          1.9407879372312795,
          -2.0420621828743375,
          -2.0497998643359763,
          -2.057725787595543,
          -2.0653309461543214,
          -2.0719180337054848,
          -2.076588704337333,
          -2.0782446100852825,
          -2.075605759984165,
          -2.0672485605447095,
          -2.051664240450116,
          -2.0273364139695014,
          -1.9928345147690698,
          -1.946917945226764,
          -1.8886442134658012,
          -1.817473204880268,
          -1.7333591489090532,
          -1.6368218514221764,
          -1.5289893926170874,
          -1.4116057324104871,
          -1.2869984825011997,
          -1.1580044637099003,
          -1.0278540649532326,
          -0.9015490255696007,
          -1.1211700842067711,
          -1.3266583432672852,
          -1.5109461673310491,
          -1.6684974734987752,
          -1.7938984522053083,
          -1.8819799581343926,
          -1.927939748226137,
          -1.927464683589987,
          -1.8768548456741143,
          -1.7731522513549378,
          -1.6142769161913946,
          -1.3991722972417602,
          -1.1279605419281997,
          -0.8021054856085428,
          -0.4245787043404268,
          -0.0015488047944899768,
          0.14150418718129426,
          0.3228513034679653,
          0.544619288864777,
          0.8048118784878252,
          1.0986143691910955,
          1.418327711373168,
          1.753491074759022,
          2.091213152428516,
          2.416718493374381,
          2.714098897088539,
          2.9672416311951655,
          3.1608872893928384,
          3.281752277876238,
          3.3196362493303035,
          3.268425380314791,
          3.1269000674979974,
          2.899261736325829,
          2.595308539435156,
          2.2302131505451137,
          1.8238838285743877,
          1.3984446762893001,
          0.907910114080599,
          0.48628075934702314,
          0.15702976792875534,
          -0.06308816089433013,
          -0.1636729155586355,
          -0.14138418278370146,
          -0.0015314587926025251,
          0.22449146768377626,
          0.5625142224891067,
          0.9984372769555273,
          1.4535832188594857,
          1.9239794217920712,
          2.3840250376500944,
          2.8084016330328736,
          3.174959193095476,
          3.4658708919827825,
          3.6684017765733157,
          3.775269131815616,
          3.7846031845188786,
          3.699549098286795
         ]
        },
        {
         "fill": "toself",
         "fillcolor": "rgba(189,195,199,0.5)",
         "hoverinfo": "skip",
         "line": {
          "color": "rgba(200,200,200,0)"
         },
         "name": "mean plus/minus 3*standard deviation",
         "showlegend": true,
         "type": "scatter",
         "visible": true,
         "x": [
          -1,
          -0.9,
          -0.8,
          -0.7000000000000001,
          -0.6000000000000001,
          -0.5000000000000001,
          -0.40000000000000013,
          -0.30000000000000016,
          -0.20000000000000018,
          -0.1000000000000002,
          -2.220446049250313e-16,
          0.09999999999999964,
          0.19999999999999973,
          0.2999999999999998,
          0.3999999999999997,
          0.49999999999999956,
          0.5999999999999996,
          0.6999999999999997,
          0.7999999999999996,
          0.8999999999999995,
          0.9999999999999996,
          1.0999999999999996,
          1.1999999999999993,
          1.2999999999999994,
          1.3999999999999995,
          1.4999999999999996,
          1.5999999999999996,
          1.6999999999999993,
          1.7999999999999994,
          1.8999999999999995,
          1.9999999999999991,
          2.099999999999999,
          2.1999999999999993,
          2.2999999999999994,
          2.3999999999999995,
          2.499999999999999,
          2.599999999999999,
          2.6999999999999993,
          2.799999999999999,
          2.899999999999999,
          2.999999999999999,
          3.0999999999999988,
          3.1999999999999993,
          3.299999999999999,
          3.3999999999999986,
          3.499999999999999,
          3.5999999999999988,
          3.6999999999999993,
          3.799999999999999,
          3.8999999999999986,
          3.999999999999999,
          4.099999999999999,
          4.199999999999999,
          4.299999999999999,
          4.399999999999999,
          4.499999999999999,
          4.599999999999999,
          4.699999999999998,
          4.799999999999999,
          4.899999999999999,
          4.999999999999998,
          5.099999999999999,
          5.199999999999998,
          5.299999999999999,
          5.399999999999999,
          5.499999999999998,
          5.599999999999999,
          5.699999999999998,
          5.799999999999999,
          5.899999999999999,
          5.999999999999998,
          6.099999999999999,
          6.199999999999998,
          6.299999999999998,
          6.399999999999999,
          6.499999999999998,
          6.599999999999998,
          6.699999999999998,
          6.799999999999998,
          6.899999999999999,
          6.899999999999999,
          6.799999999999998,
          6.699999999999998,
          6.599999999999998,
          6.499999999999998,
          6.399999999999999,
          6.299999999999998,
          6.199999999999998,
          6.099999999999999,
          5.999999999999998,
          5.899999999999999,
          5.799999999999999,
          5.699999999999998,
          5.599999999999999,
          5.499999999999998,
          5.399999999999999,
          5.299999999999999,
          5.199999999999998,
          5.099999999999999,
          4.999999999999998,
          4.899999999999999,
          4.799999999999999,
          4.699999999999998,
          4.599999999999999,
          4.499999999999999,
          4.399999999999999,
          4.299999999999999,
          4.199999999999999,
          4.099999999999999,
          3.999999999999999,
          3.8999999999999986,
          3.799999999999999,
          3.6999999999999993,
          3.5999999999999988,
          3.499999999999999,
          3.3999999999999986,
          3.299999999999999,
          3.1999999999999993,
          3.0999999999999988,
          2.999999999999999,
          2.899999999999999,
          2.799999999999999,
          2.6999999999999993,
          2.599999999999999,
          2.499999999999999,
          2.3999999999999995,
          2.2999999999999994,
          2.1999999999999993,
          2.099999999999999,
          1.9999999999999991,
          1.8999999999999995,
          1.7999999999999994,
          1.6999999999999993,
          1.5999999999999996,
          1.4999999999999996,
          1.3999999999999995,
          1.2999999999999994,
          1.1999999999999993,
          1.0999999999999996,
          0.9999999999999996,
          0.8999999999999995,
          0.7999999999999996,
          0.6999999999999997,
          0.5999999999999996,
          0.49999999999999956,
          0.3999999999999997,
          0.2999999999999998,
          0.19999999999999973,
          0.09999999999999964,
          -2.220446049250313e-16,
          -0.1000000000000002,
          -0.20000000000000018,
          -0.30000000000000016,
          -0.40000000000000013,
          -0.5000000000000001,
          -0.6000000000000001,
          -0.7000000000000001,
          -0.8,
          -0.9,
          -1
         ],
         "y": [
          6.304045901772747,
          6.031817176156997,
          5.661990455654969,
          5.201572122641819,
          4.662908457484553,
          4.063397273202995,
          3.4248036624899294,
          2.7721991362800513,
          2.1325804417494827,
          1.5332670242527764,
          1.0023102516204838,
          0.5971375005729764,
          0.25585539037811267,
          0.002341510322631849,
          -0.0938749013040894,
          -0.06553237583476805,
          0.07628000147695763,
          0.3161645118919817,
          0.6334449217334461,
          1.0036224294133675,
          1.40231765765168,
          1.964975751172092,
          2.5553542804004845,
          3.141854563144007,
          3.695835171712228,
          4.190984388954447,
          4.6046719553207005,
          4.918975953678533,
          5.121335624211335,
          5.204820034022103,
          5.168035068374656,
          5.014717655679461,
          4.75308477198049,
          4.395014726510148,
          3.9551396820519384,
          3.449922403803611,
          2.8967786210581266,
          2.313291258373808,
          1.7165463422058516,
          1.1226046607837277,
          0.5461107963586932,
          0.002324178222983971,
          -0.02447832368669256,
          -0.02025557941844569,
          0.00412306793691164,
          0.03950771458695035,
          0.07674334600637667,
          0.1071880506701981,
          0.12315669678261454,
          0.118272750560519,
          0.08771850105687617,
          0.028380119871473264,
          -0.06111044929457132,
          -0.18042985684890722,
          -0.32770286246336244,
          -0.49971243079853145,
          -0.6921622495226762,
          -0.8976760425388688,
          -0.5787391157525514,
          -0.25052951640615295,
          0.07778281747579363,
          0.39996356050636417,
          0.7105576748092715,
          1.0049969782897423,
          1.2796695070158883,
          1.53194691412087,
          1.7601697494221116,
          1.9635931098352268,
          2.142297562181453,
          2.2970722993077457,
          2.4292790377686866,
          2.540706064601061,
          2.6334219966529804,
          2.7096381880774105,
          2.771587341584101,
          2.8214238674186896,
          2.8611491070250183,
          2.8925619922868533,
          2.917233378166954,
          2.9365004672576838,
          -3.0377747129007417,
          -3.043206512836563,
          -3.0477833435720223,
          -3.0506269567901896,
          -3.05058641393032,
          -3.0462239135216196,
          -3.0358211697178215,
          -3.017411311311594,
          -2.988839485573864,
          -2.947852896093876,
          -2.892218156624951,
          -2.8198609301591744,
          -2.7290201562391623,
          -2.6184070060433835,
          -2.4873572286804952,
          -2.335964880094042,
          -2.16518561736456,
          -1.9768988061023591,
          -1.7739195909938577,
          -1.5599547424965983,
          -1.33949945317065,
          -1.1176770547933688,
          -0.9023236221757471,
          -1.2069716511435902,
          -1.492047525761036,
          -1.7475948283045866,
          -1.966110996828749,
          -2.1404560527874557,
          -2.2640519737355653,
          -2.3310713980827393,
          -2.3366121704200884,
          -2.27685715416546,
          -2.149220311759965,
          -1.952480968630949,
          -1.6869082996075022,
          -1.3543772639012222,
          -0.9584754668465622,
          -0.5045987804711737,
          -0.0023234013979847663,
          0.060582865345814474,
          0.16290063200481286,
          0.3102338781965621,
          0.5031160025106287,
          0.7389815188176891,
          1.0120087728870797,
          1.3131613533004385,
          1.6304528376121898,
          1.9494452376531588,
          2.2539751453703545,
          2.5270829437592672,
          2.752100740466985,
          2.9138356086092183,
          2.9997683084606575,
          3.001176065313609,
          2.914083203206707,
          2.739947049248549,
          2.485999334693386,
          2.1651849245740395,
          1.7956654440548467,
          1.3976700800168242,
          0.8887676510140453,
          0.4568479268697386,
          0.1252028191361101,
          -0.09096179336858767,
          -0.183301023503409,
          -0.15088603907962386,
          -0.0023060526156494,
          0.21821868314490897,
          0.5555895668723327,
          0.997662682022536,
          1.4376464577808277,
          1.8822592178005888,
          2.3063902179241027,
          2.6851212271414626,
          2.997271577073972,
          3.2264633788824284,
          3.361767707359615,
          3.397924867047745,
          3.335160386191255,
          3.1786497375896046
         ]
        },
        {
         "line": {
          "color": "blue",
          "width": 2
         },
         "name": "Predicted function",
         "showlegend": true,
         "type": "scatter",
         "visible": true,
         "x": [
          -1,
          -0.9,
          -0.8,
          -0.7000000000000001,
          -0.6000000000000001,
          -0.5000000000000001,
          -0.40000000000000013,
          -0.30000000000000016,
          -0.20000000000000018,
          -0.1000000000000002,
          -2.220446049250313e-16,
          0.09999999999999964,
          0.19999999999999973,
          0.2999999999999998,
          0.3999999999999997,
          0.49999999999999956,
          0.5999999999999996,
          0.6999999999999997,
          0.7999999999999996,
          0.8999999999999995,
          0.9999999999999996,
          1.0999999999999996,
          1.1999999999999993,
          1.2999999999999994,
          1.3999999999999995,
          1.4999999999999996,
          1.5999999999999996,
          1.6999999999999993,
          1.7999999999999994,
          1.8999999999999995,
          1.9999999999999991,
          2.099999999999999,
          2.1999999999999993,
          2.2999999999999994,
          2.3999999999999995,
          2.499999999999999,
          2.599999999999999,
          2.6999999999999993,
          2.799999999999999,
          2.899999999999999,
          2.999999999999999,
          3.0999999999999988,
          3.1999999999999993,
          3.299999999999999,
          3.3999999999999986,
          3.499999999999999,
          3.5999999999999988,
          3.6999999999999993,
          3.799999999999999,
          3.8999999999999986,
          3.999999999999999,
          4.099999999999999,
          4.199999999999999,
          4.299999999999999,
          4.399999999999999,
          4.499999999999999,
          4.599999999999999,
          4.699999999999998,
          4.799999999999999,
          4.899999999999999,
          4.999999999999998,
          5.099999999999999,
          5.199999999999998,
          5.299999999999999,
          5.399999999999999,
          5.499999999999998,
          5.599999999999999,
          5.699999999999998,
          5.799999999999999,
          5.899999999999999,
          5.999999999999998,
          6.099999999999999,
          6.199999999999998,
          6.299999999999998,
          6.399999999999999,
          6.499999999999998,
          6.599999999999998,
          6.699999999999998,
          6.799999999999998,
          6.899999999999999
         ],
         "y": [
          4.741347819681176,
          4.683488781174126,
          4.529957661351357,
          4.281669915000717,
          3.944685918183491,
          3.5303344251384834,
          3.054962444815696,
          2.539294677102077,
          2.007419829775036,
          1.485456741016802,
          0.9999864668215099,
          0.5763635337226546,
          0.23703703676151083,
          0.000017728853491224598,
          -0.12238047019185663,
          -0.12441669966908851,
          -0.007340895945815024,
          0.2206836655140459,
          0.5451464243015923,
          0.9461950402137064,
          1.3999938688342521,
          1.8803205976134694,
          2.360269602487262,
          2.8139269489186964,
          3.2178911104803887,
          3.552533796080577,
          3.8029240103171547,
          3.9593721310695953,
          4.017585616410277,
          3.978460387244544,
          3.8475590060669616,
          3.6343464005249078,
          3.351265004816824,
          3.0127337820611686,
          2.6341505176761886,
          2.230965588345345,
          1.8178800699379078,
          1.4082036304422183,
          1.0133901102012068,
          0.6427526463942702,
          0.30334683085225383,
          3.8841249960217847e-7,
          -0.2645385520789331,
          -0.4893655231325039,
          -0.6751270979821552,
          -0.823700292510276,
          -0.9378688113122862,
          -1.0210161305448835,
          -1.0768502286914228,
          -1.1091697099297846,
          -1.1216764485129316,
          -1.1178359269320461,
          -1.1007832510410136,
          -1.073270426838828,
          -1.0376488453839745,
          -0.9958799782797837,
          -0.9495669503331332,
          -0.899999832357308,
          -0.8482080852729601,
          -0.7950144847884014,
          -0.7410859625104024,
          -0.6869780152437467,
          -0.6331705656465438,
          -0.5800943195374089,
          -0.5281476865390766,
          -0.4777051572798128,
          -0.429118628310636,
          -0.3827135232019676,
          -0.33878168398886055,
          -0.2975729286586024,
          -0.2592869291625949,
          -0.22406671048640117,
          -0.19199465732930687,
          -0.1630914908202054,
          -0.13731828596875958,
          -0.11458127325581506,
          -0.09473892488258556,
          -0.07761067564258464,
          -0.06298656733480423,
          -0.05063712282152905
         ]
        },
        {
         "marker": {
          "color": "red",
          "size": 8
         },
         "mode": "markers",
         "name": "Observed points",
         "showlegend": true,
         "type": "scatter",
         "visible": true,
         "x": [
          0,
          0.3,
          1,
          3.1,
          4.7
         ],
         "y": [
          1,
          0,
          1.4,
          0,
          -0.9
         ]
        }
       ],
       "layout": {
        "autosize": false,
        "height": 600,
        "legend": {
         "x": 0.95,
         "xanchor": "right",
         "y": 0.9,
         "yanchor": "top"
        },
        "plot_bgcolor": "rgba(0,0,0,0)",
        "template": {
         "data": {
          "bar": [
           {
            "error_x": {
             "color": "#2a3f5f"
            },
            "error_y": {
             "color": "#2a3f5f"
            },
            "marker": {
             "line": {
              "color": "#E5ECF6",
              "width": 0.5
             },
             "pattern": {
              "fillmode": "overlay",
              "size": 10,
              "solidity": 0.2
             }
            },
            "type": "bar"
           }
          ],
          "barpolar": [
           {
            "marker": {
             "line": {
              "color": "#E5ECF6",
              "width": 0.5
             },
             "pattern": {
              "fillmode": "overlay",
              "size": 10,
              "solidity": 0.2
             }
            },
            "type": "barpolar"
           }
          ],
          "carpet": [
           {
            "aaxis": {
             "endlinecolor": "#2a3f5f",
             "gridcolor": "white",
             "linecolor": "white",
             "minorgridcolor": "white",
             "startlinecolor": "#2a3f5f"
            },
            "baxis": {
             "endlinecolor": "#2a3f5f",
             "gridcolor": "white",
             "linecolor": "white",
             "minorgridcolor": "white",
             "startlinecolor": "#2a3f5f"
            },
            "type": "carpet"
           }
          ],
          "choropleth": [
           {
            "colorbar": {
             "outlinewidth": 0,
             "ticks": ""
            },
            "type": "choropleth"
           }
          ],
          "contour": [
           {
            "colorbar": {
             "outlinewidth": 0,
             "ticks": ""
            },
            "colorscale": [
             [
              0,
              "#0d0887"
             ],
             [
              0.1111111111111111,
              "#46039f"
             ],
             [
              0.2222222222222222,
              "#7201a8"
             ],
             [
              0.3333333333333333,
              "#9c179e"
             ],
             [
              0.4444444444444444,
              "#bd3786"
             ],
             [
              0.5555555555555556,
              "#d8576b"
             ],
             [
              0.6666666666666666,
              "#ed7953"
             ],
             [
              0.7777777777777778,
              "#fb9f3a"
             ],
             [
              0.8888888888888888,
              "#fdca26"
             ],
             [
              1,
              "#f0f921"
             ]
            ],
            "type": "contour"
           }
          ],
          "contourcarpet": [
           {
            "colorbar": {
             "outlinewidth": 0,
             "ticks": ""
            },
            "type": "contourcarpet"
           }
          ],
          "heatmap": [
           {
            "colorbar": {
             "outlinewidth": 0,
             "ticks": ""
            },
            "colorscale": [
             [
              0,
              "#0d0887"
             ],
             [
              0.1111111111111111,
              "#46039f"
             ],
             [
              0.2222222222222222,
              "#7201a8"
             ],
             [
              0.3333333333333333,
              "#9c179e"
             ],
             [
              0.4444444444444444,
              "#bd3786"
             ],
             [
              0.5555555555555556,
              "#d8576b"
             ],
             [
              0.6666666666666666,
              "#ed7953"
             ],
             [
              0.7777777777777778,
              "#fb9f3a"
             ],
             [
              0.8888888888888888,
              "#fdca26"
             ],
             [
              1,
              "#f0f921"
             ]
            ],
            "type": "heatmap"
           }
          ],
          "heatmapgl": [
           {
            "colorbar": {
             "outlinewidth": 0,
             "ticks": ""
            },
            "colorscale": [
             [
              0,
              "#0d0887"
             ],
             [
              0.1111111111111111,
              "#46039f"
             ],
             [
              0.2222222222222222,
              "#7201a8"
             ],
             [
              0.3333333333333333,
              "#9c179e"
             ],
             [
              0.4444444444444444,
              "#bd3786"
             ],
             [
              0.5555555555555556,
              "#d8576b"
             ],
             [
              0.6666666666666666,
              "#ed7953"
             ],
             [
              0.7777777777777778,
              "#fb9f3a"
             ],
             [
              0.8888888888888888,
              "#fdca26"
             ],
             [
              1,
              "#f0f921"
             ]
            ],
            "type": "heatmapgl"
           }
          ],
          "histogram": [
           {
            "marker": {
             "pattern": {
              "fillmode": "overlay",
              "size": 10,
              "solidity": 0.2
             }
            },
            "type": "histogram"
           }
          ],
          "histogram2d": [
           {
            "colorbar": {
             "outlinewidth": 0,
             "ticks": ""
            },
            "colorscale": [
             [
              0,
              "#0d0887"
             ],
             [
              0.1111111111111111,
              "#46039f"
             ],
             [
              0.2222222222222222,
              "#7201a8"
             ],
             [
              0.3333333333333333,
              "#9c179e"
             ],
             [
              0.4444444444444444,
              "#bd3786"
             ],
             [
              0.5555555555555556,
              "#d8576b"
             ],
             [
              0.6666666666666666,
              "#ed7953"
             ],
             [
              0.7777777777777778,
              "#fb9f3a"
             ],
             [
              0.8888888888888888,
              "#fdca26"
             ],
             [
              1,
              "#f0f921"
             ]
            ],
            "type": "histogram2d"
           }
          ],
          "histogram2dcontour": [
           {
            "colorbar": {
             "outlinewidth": 0,
             "ticks": ""
            },
            "colorscale": [
             [
              0,
              "#0d0887"
             ],
             [
              0.1111111111111111,
              "#46039f"
             ],
             [
              0.2222222222222222,
              "#7201a8"
             ],
             [
              0.3333333333333333,
              "#9c179e"
             ],
             [
              0.4444444444444444,
              "#bd3786"
             ],
             [
              0.5555555555555556,
              "#d8576b"
             ],
             [
              0.6666666666666666,
              "#ed7953"
             ],
             [
              0.7777777777777778,
              "#fb9f3a"
             ],
             [
              0.8888888888888888,
              "#fdca26"
             ],
             [
              1,
              "#f0f921"
             ]
            ],
            "type": "histogram2dcontour"
           }
          ],
          "mesh3d": [
           {
            "colorbar": {
             "outlinewidth": 0,
             "ticks": ""
            },
            "type": "mesh3d"
           }
          ],
          "parcoords": [
           {
            "line": {
             "colorbar": {
              "outlinewidth": 0,
              "ticks": ""
             }
            },
            "type": "parcoords"
           }
          ],
          "pie": [
           {
            "automargin": true,
            "type": "pie"
           }
          ],
          "scatter": [
           {
            "fillpattern": {
             "fillmode": "overlay",
             "size": 10,
             "solidity": 0.2
            },
            "type": "scatter"
           }
          ],
          "scatter3d": [
           {
            "line": {
             "colorbar": {
              "outlinewidth": 0,
              "ticks": ""
             }
            },
            "marker": {
             "colorbar": {
              "outlinewidth": 0,
              "ticks": ""
             }
            },
            "type": "scatter3d"
           }
          ],
          "scattercarpet": [
           {
            "marker": {
             "colorbar": {
              "outlinewidth": 0,
              "ticks": ""
             }
            },
            "type": "scattercarpet"
           }
          ],
          "scattergeo": [
           {
            "marker": {
             "colorbar": {
              "outlinewidth": 0,
              "ticks": ""
             }
            },
            "type": "scattergeo"
           }
          ],
          "scattergl": [
           {
            "marker": {
             "colorbar": {
              "outlinewidth": 0,
              "ticks": ""
             }
            },
            "type": "scattergl"
           }
          ],
          "scattermapbox": [
           {
            "marker": {
             "colorbar": {
              "outlinewidth": 0,
              "ticks": ""
             }
            },
            "type": "scattermapbox"
           }
          ],
          "scatterpolar": [
           {
            "marker": {
             "colorbar": {
              "outlinewidth": 0,
              "ticks": ""
             }
            },
            "type": "scatterpolar"
           }
          ],
          "scatterpolargl": [
           {
            "marker": {
             "colorbar": {
              "outlinewidth": 0,
              "ticks": ""
             }
            },
            "type": "scatterpolargl"
           }
          ],
          "scatterternary": [
           {
            "marker": {
             "colorbar": {
              "outlinewidth": 0,
              "ticks": ""
             }
            },
            "type": "scatterternary"
           }
          ],
          "surface": [
           {
            "colorbar": {
             "outlinewidth": 0,
             "ticks": ""
            },
            "colorscale": [
             [
              0,
              "#0d0887"
             ],
             [
              0.1111111111111111,
              "#46039f"
             ],
             [
              0.2222222222222222,
              "#7201a8"
             ],
             [
              0.3333333333333333,
              "#9c179e"
             ],
             [
              0.4444444444444444,
              "#bd3786"
             ],
             [
              0.5555555555555556,
              "#d8576b"
             ],
             [
              0.6666666666666666,
              "#ed7953"
             ],
             [
              0.7777777777777778,
              "#fb9f3a"
             ],
             [
              0.8888888888888888,
              "#fdca26"
             ],
             [
              1,
              "#f0f921"
             ]
            ],
            "type": "surface"
           }
          ],
          "table": [
           {
            "cells": {
             "fill": {
              "color": "#EBF0F8"
             },
             "line": {
              "color": "white"
             }
            },
            "header": {
             "fill": {
              "color": "#C8D4E3"
             },
             "line": {
              "color": "white"
             }
            },
            "type": "table"
           }
          ]
         },
         "layout": {
          "annotationdefaults": {
           "arrowcolor": "#2a3f5f",
           "arrowhead": 0,
           "arrowwidth": 1
          },
          "autotypenumbers": "strict",
          "coloraxis": {
           "colorbar": {
            "outlinewidth": 0,
            "ticks": ""
           }
          },
          "colorscale": {
           "diverging": [
            [
             0,
             "#8e0152"
            ],
            [
             0.1,
             "#c51b7d"
            ],
            [
             0.2,
             "#de77ae"
            ],
            [
             0.3,
             "#f1b6da"
            ],
            [
             0.4,
             "#fde0ef"
            ],
            [
             0.5,
             "#f7f7f7"
            ],
            [
             0.6,
             "#e6f5d0"
            ],
            [
             0.7,
             "#b8e186"
            ],
            [
             0.8,
             "#7fbc41"
            ],
            [
             0.9,
             "#4d9221"
            ],
            [
             1,
             "#276419"
            ]
           ],
           "sequential": [
            [
             0,
             "#0d0887"
            ],
            [
             0.1111111111111111,
             "#46039f"
            ],
            [
             0.2222222222222222,
             "#7201a8"
            ],
            [
             0.3333333333333333,
             "#9c179e"
            ],
            [
             0.4444444444444444,
             "#bd3786"
            ],
            [
             0.5555555555555556,
             "#d8576b"
            ],
            [
             0.6666666666666666,
             "#ed7953"
            ],
            [
             0.7777777777777778,
             "#fb9f3a"
            ],
            [
             0.8888888888888888,
             "#fdca26"
            ],
            [
             1,
             "#f0f921"
            ]
           ],
           "sequentialminus": [
            [
             0,
             "#0d0887"
            ],
            [
             0.1111111111111111,
             "#46039f"
            ],
            [
             0.2222222222222222,
             "#7201a8"
            ],
            [
             0.3333333333333333,
             "#9c179e"
            ],
            [
             0.4444444444444444,
             "#bd3786"
            ],
            [
             0.5555555555555556,
             "#d8576b"
            ],
            [
             0.6666666666666666,
             "#ed7953"
            ],
            [
             0.7777777777777778,
             "#fb9f3a"
            ],
            [
             0.8888888888888888,
             "#fdca26"
            ],
            [
             1,
             "#f0f921"
            ]
           ]
          },
          "colorway": [
           "#636efa",
           "#EF553B",
           "#00cc96",
           "#ab63fa",
           "#FFA15A",
           "#19d3f3",
           "#FF6692",
           "#B6E880",
           "#FF97FF",
           "#FECB52"
          ],
          "font": {
           "color": "#2a3f5f"
          },
          "geo": {
           "bgcolor": "white",
           "lakecolor": "white",
           "landcolor": "#E5ECF6",
           "showlakes": true,
           "showland": true,
           "subunitcolor": "white"
          },
          "hoverlabel": {
           "align": "left"
          },
          "hovermode": "closest",
          "mapbox": {
           "style": "light"
          },
          "paper_bgcolor": "white",
          "plot_bgcolor": "#E5ECF6",
          "polar": {
           "angularaxis": {
            "gridcolor": "white",
            "linecolor": "white",
            "ticks": ""
           },
           "bgcolor": "#E5ECF6",
           "radialaxis": {
            "gridcolor": "white",
            "linecolor": "white",
            "ticks": ""
           }
          },
          "scene": {
           "xaxis": {
            "backgroundcolor": "#E5ECF6",
            "gridcolor": "white",
            "gridwidth": 2,
            "linecolor": "white",
            "showbackground": true,
            "ticks": "",
            "zerolinecolor": "white"
           },
           "yaxis": {
            "backgroundcolor": "#E5ECF6",
            "gridcolor": "white",
            "gridwidth": 2,
            "linecolor": "white",
            "showbackground": true,
            "ticks": "",
            "zerolinecolor": "white"
           },
           "zaxis": {
            "backgroundcolor": "#E5ECF6",
            "gridcolor": "white",
            "gridwidth": 2,
            "linecolor": "white",
            "showbackground": true,
            "ticks": "",
            "zerolinecolor": "white"
           }
          },
          "shapedefaults": {
           "line": {
            "color": "#2a3f5f"
           }
          },
          "ternary": {
           "aaxis": {
            "gridcolor": "white",
            "linecolor": "white",
            "ticks": ""
           },
           "baxis": {
            "gridcolor": "white",
            "linecolor": "white",
            "ticks": ""
           },
           "bgcolor": "#E5ECF6",
           "caxis": {
            "gridcolor": "white",
            "linecolor": "white",
            "ticks": ""
           }
          },
          "title": {
           "x": 0.05
          },
          "xaxis": {
           "automargin": true,
           "gridcolor": "white",
           "linecolor": "white",
           "ticks": "",
           "title": {
            "standoff": 15
           },
           "zerolinecolor": "white",
           "zerolinewidth": 2
          },
          "yaxis": {
           "automargin": true,
           "gridcolor": "white",
           "linecolor": "white",
           "ticks": "",
           "title": {
            "standoff": 15
           },
           "zerolinecolor": "white",
           "zerolinewidth": 2
          }
         }
        },
        "title": {
         "text": "GPR with length 1, sigma 0 and noise 0",
         "x": 0.5,
         "xanchor": "center"
        },
        "width": 800,
        "xaxis": {
         "linecolor": "black",
         "linewidth": 1,
         "showline": true,
         "title": {
          "text": "input values"
         }
        },
        "yaxis": {
         "linecolor": "black",
         "linewidth": 1,
         "showline": true,
         "title": {
          "text": "output values"
         }
        }
       }
      }
     },
     "metadata": {},
     "output_type": "display_data"
    }
   ],
   "source": [
    "model = GPR(x_values, y_values)\n",
    "data = plot_GPR(data_x=x_values, data_y=y_values, x=x, model=model)\n",
    "fig4 = go.Figure(data=data)\n",
    "fig4 = update_layout_of_graph(fig=fig4,\n",
    "                              title='GPR with length 1, sigma 0 and noise 0')\n",
    "\n",
    "fig4.show()"
   ]
  },
  {
   "cell_type": "markdown",
   "id": "b409d823",
   "metadata": {},
   "source": [
    "A cool feature of the GPR is that it is sort of a probability distribution over function - so we can literally 'draw' random functions!"
   ]
  },
  {
   "cell_type": "code",
   "execution_count": 20,
   "id": "045e7091",
   "metadata": {},
   "outputs": [
    {
     "data": {
      "application/vnd.jupyter.widget-view+json": {
       "model_id": "35453660617b433f9c03dd687bb696be",
       "version_major": 2,
       "version_minor": 0
      },
      "text/plain": [
       "VBox(children=(FigureWidget({\n",
       "    'data': [{'marker': {'color': 'red', 'size': 8},\n",
       "              'mode': 'mark…"
      ]
     },
     "execution_count": 20,
     "metadata": {},
     "output_type": "execute_result"
    }
   ],
   "source": [
    "model = GPR(x_values, y_values)\n",
    "\n",
    "mean = model.predict(x)\n",
    "covariance_matrix = model._memory['covariance_matrix']\n",
    "\n",
    "fig1 = go.FigureWidget(data=[dot_scatter(x_dots=x_values, y_dots=y_values)])\n",
    "fig1 = update_layout_of_graph(\n",
    "    fig1,\n",
    "    title='Random drawings (i.e. random functions) of the Gaussian process')\n",
    "\n",
    "button = widgets.Button(description='Add random drawing')\n",
    "\n",
    "\n",
    "def update(_):\n",
    "    with fig1.batch_update():\n",
    "        fig1.add_trace(\n",
    "            line_scatter(x_lines=x,\n",
    "                         y_lines=np.random.multivariate_normal(\n",
    "                             mean, covariance_matrix),\n",
    "                         name_line='random function',\n",
    "                         showlegend=False))\n",
    "        fig1.add_trace(\n",
    "            dot_scatter(x_dots=x_values, y_dots=y_values, showlegend=False))\n",
    "\n",
    "\n",
    "button.on_click(update)\n",
    "widgets.VBox([fig1, button])"
   ]
  },
  {
   "cell_type": "markdown",
   "id": "876ee73f",
   "metadata": {},
   "source": [
    "Doing predictions with a GPR is usually done by taking the mean function as our best guess. Since GPR's are a probabilistic model, we get in addition some sort of certainty of our prediction. (But be careful how to interpret this uncertainty area! Believing that every 'new' point must be in the uncertainty area is simply wrong!)"
   ]
  },
  {
   "cell_type": "code",
   "execution_count": 21,
   "id": "36354bda",
   "metadata": {},
   "outputs": [
    {
     "data": {
      "application/vnd.jupyter.widget-view+json": {
       "model_id": "4b69b0c2612d481599066f903ddf2224",
       "version_major": 2,
       "version_minor": 0
      },
      "text/plain": [
       "VBox(children=(FigureWidget({\n",
       "    'data': [{'fill': 'toself',\n",
       "              'fillcolor': 'rgba(189,195,199,0.5…"
      ]
     },
     "execution_count": 21,
     "metadata": {},
     "output_type": "execute_result"
    }
   ],
   "source": [
    "model = GPR(x_values[:1], y_values[:1])\n",
    "\n",
    "data = plot_GPR(data_x=x_values[:1], data_y=y_values[:1], x=x, model=model)\n",
    "\n",
    "fig2 = go.FigureWidget(data=data)\n",
    "fig2 = update_layout_of_graph(fig2, title='Prediction (i.e. mean) of GPR')\n",
    "\n",
    "button = widgets.Button(description='Add data point')\n",
    "\n",
    "number_of_points = 1\n",
    "\n",
    "# we update the y values of our 4 scatter plots \n",
    "def update(_):\n",
    "    with fig2.batch_update():\n",
    "        global number_of_points\n",
    "        if number_of_points < len(x_values):\n",
    "            number_of_points += 1\n",
    "            model = GPR(x_values[:number_of_points],\n",
    "                        y_values[:number_of_points])\n",
    "            mean = model.predict(x)\n",
    "            fig2.data[3].y = mean\n",
    "            for i in range(1, 4):\n",
    "                y_upper = mean + i * np.sqrt(model._memory['variance'])\n",
    "                y_lower = mean - i * np.sqrt(model._memory['variance'])\n",
    "                fig2.data[i - 1].y = np.concatenate((y_upper, y_lower[::-1]))\n",
    "\n",
    "            fig2.data[4].x = x_values[:number_of_points]\n",
    "            fig2.data[4].y = y_values[:number_of_points]\n",
    "\n",
    "\n",
    "button.on_click(update)\n",
    "widgets.VBox([fig2, button])"
   ]
  },
  {
   "cell_type": "markdown",
   "id": "ce23fd04",
   "metadata": {},
   "source": [
    "You can test the GPR with different data. Try using multi-dimensional input!"
   ]
  },
  {
   "cell_type": "markdown",
   "id": "1d17146a",
   "metadata": {},
   "source": [
    "### Visualization of effect of free parameters"
   ]
  },
  {
   "cell_type": "markdown",
   "id": "e7e03650",
   "metadata": {},
   "source": [
    "Awesome! Now that we can make predictions with our GPR, lets visualize how the GPR changes if we change the free parameters, i.e. length-scale, variance and white noise."
   ]
  },
  {
   "cell_type": "code",
   "execution_count": 19,
   "id": "cd6e6019",
   "metadata": {},
   "outputs": [
    {
     "data": {
      "application/vnd.jupyter.widget-view+json": {
       "model_id": "e266fd9df7964c2eb69f6d7cd4dc4a20",
       "version_major": 2,
       "version_minor": 0
      },
      "text/plain": [
       "interactive(children=(FloatSlider(value=1.0, description='sigma', max=3.0, min=0.01, step=0.01), FloatSlider(v…"
      ]
     },
     "metadata": {},
     "output_type": "display_data"
    },
    {
     "data": {
      "application/vnd.jupyter.widget-view+json": {
       "model_id": "95c426ad895d410da92b2684955ee4d0",
       "version_major": 2,
       "version_minor": 0
      },
      "text/plain": [
       "FigureWidget({\n",
       "    'data': [{'fill': 'toself',\n",
       "              'fillcolor': 'rgba(189,195,199,0.5)',\n",
       "              'hoverinfo': 'skip',\n",
       "              'line': {'color': 'rgba(200,200,200,0)'},\n",
       "              'name': 'mean plus/minus 1*standard deviation',\n",
       "              'showlegend': True,\n",
       "              'type': 'scatter',\n",
       "              'uid': '331f6c4c-1ca3-4812-b518-2e58c5270191',\n",
       "              'visible': True,\n",
       "              'x': array([-1.00000000e+00, -9.00000000e-01, -8.00000000e-01, -7.00000000e-01,\n",
       "                          -6.00000000e-01, -5.00000000e-01, -4.00000000e-01, -3.00000000e-01,\n",
       "                          -2.00000000e-01, -1.00000000e-01, -2.22044605e-16,  1.00000000e-01,\n",
       "                           2.00000000e-01,  3.00000000e-01,  4.00000000e-01,  5.00000000e-01,\n",
       "                           6.00000000e-01,  7.00000000e-01,  8.00000000e-01,  9.00000000e-01,\n",
       "                           1.00000000e+00,  1.10000000e+00,  1.20000000e+00,  1.30000000e+00,\n",
       "                           1.40000000e+00,  1.50000000e+00,  1.60000000e+00,  1.70000000e+00,\n",
       "                           1.80000000e+00,  1.90000000e+00,  2.00000000e+00,  2.10000000e+00,\n",
       "                           2.20000000e+00,  2.30000000e+00,  2.40000000e+00,  2.50000000e+00,\n",
       "                           2.60000000e+00,  2.70000000e+00,  2.80000000e+00,  2.90000000e+00,\n",
       "                           3.00000000e+00,  3.10000000e+00,  3.20000000e+00,  3.30000000e+00,\n",
       "                           3.40000000e+00,  3.50000000e+00,  3.60000000e+00,  3.70000000e+00,\n",
       "                           3.80000000e+00,  3.90000000e+00,  4.00000000e+00,  4.10000000e+00,\n",
       "                           4.20000000e+00,  4.30000000e+00,  4.40000000e+00,  4.50000000e+00,\n",
       "                           4.60000000e+00,  4.70000000e+00,  4.80000000e+00,  4.90000000e+00,\n",
       "                           5.00000000e+00,  5.10000000e+00,  5.20000000e+00,  5.30000000e+00,\n",
       "                           5.40000000e+00,  5.50000000e+00,  5.60000000e+00,  5.70000000e+00,\n",
       "                           5.80000000e+00,  5.90000000e+00,  6.00000000e+00,  6.10000000e+00,\n",
       "                           6.20000000e+00,  6.30000000e+00,  6.40000000e+00,  6.50000000e+00,\n",
       "                           6.60000000e+00,  6.70000000e+00,  6.80000000e+00,  6.90000000e+00,\n",
       "                           6.90000000e+00,  6.80000000e+00,  6.70000000e+00,  6.60000000e+00,\n",
       "                           6.50000000e+00,  6.40000000e+00,  6.30000000e+00,  6.20000000e+00,\n",
       "                           6.10000000e+00,  6.00000000e+00,  5.90000000e+00,  5.80000000e+00,\n",
       "                           5.70000000e+00,  5.60000000e+00,  5.50000000e+00,  5.40000000e+00,\n",
       "                           5.30000000e+00,  5.20000000e+00,  5.10000000e+00,  5.00000000e+00,\n",
       "                           4.90000000e+00,  4.80000000e+00,  4.70000000e+00,  4.60000000e+00,\n",
       "                           4.50000000e+00,  4.40000000e+00,  4.30000000e+00,  4.20000000e+00,\n",
       "                           4.10000000e+00,  4.00000000e+00,  3.90000000e+00,  3.80000000e+00,\n",
       "                           3.70000000e+00,  3.60000000e+00,  3.50000000e+00,  3.40000000e+00,\n",
       "                           3.30000000e+00,  3.20000000e+00,  3.10000000e+00,  3.00000000e+00,\n",
       "                           2.90000000e+00,  2.80000000e+00,  2.70000000e+00,  2.60000000e+00,\n",
       "                           2.50000000e+00,  2.40000000e+00,  2.30000000e+00,  2.20000000e+00,\n",
       "                           2.10000000e+00,  2.00000000e+00,  1.90000000e+00,  1.80000000e+00,\n",
       "                           1.70000000e+00,  1.60000000e+00,  1.50000000e+00,  1.40000000e+00,\n",
       "                           1.30000000e+00,  1.20000000e+00,  1.10000000e+00,  1.00000000e+00,\n",
       "                           9.00000000e-01,  8.00000000e-01,  7.00000000e-01,  6.00000000e-01,\n",
       "                           5.00000000e-01,  4.00000000e-01,  3.00000000e-01,  2.00000000e-01,\n",
       "                           1.00000000e-01, -2.22044605e-16, -1.00000000e-01, -2.00000000e-01,\n",
       "                          -3.00000000e-01, -4.00000000e-01, -5.00000000e-01, -6.00000000e-01,\n",
       "                          -7.00000000e-01, -8.00000000e-01, -9.00000000e-01, -1.00000000e+00]),\n",
       "              'y': array([ 1.26579121e+00,  1.36376971e+00,  1.47094014e+00,  1.57455128e+00,\n",
       "                           1.65713378e+00,  1.69905461e+00,  1.68264574e+00,  1.59713247e+00,\n",
       "                           1.44314189e+00,  1.23553256e+00,  1.00365533e+00,  7.87566997e-01,\n",
       "                           6.26529213e-01,  5.45603135e-01,  5.54299706e-01,  6.47731509e-01,\n",
       "                           8.05818731e-01,  9.97108752e-01,  1.18824758e+00,  1.35815995e+00,\n",
       "                           1.51230636e+00,  1.66447221e+00,  1.79175335e+00,  1.86155676e+00,\n",
       "                           1.86314359e+00,  1.80430009e+00,  1.70259587e+00,  1.57852401e+00,\n",
       "                           1.45061720e+00,  1.33249365e+00,  1.23168814e+00,  1.14987254e+00,\n",
       "                           1.08392134e+00,  1.02732984e+00,  9.71700409e-01,  9.08234497e-01,\n",
       "                           8.29285462e-01,  7.30042484e-01,  6.10512802e-01,  4.78649038e-01,\n",
       "                           3.57948818e-01,  3.01092285e-01,  3.50842846e-01,  4.62158780e-01,\n",
       "                           5.79782039e-01,  6.76962065e-01,  7.41516894e-01,  7.68012046e-01,\n",
       "                           7.54569898e-01,  7.01147946e-01,  6.08665752e-01,  4.79006012e-01,\n",
       "                           3.15832928e-01,  1.25935661e-01, -7.91617150e-02, -2.80741735e-01,\n",
       "                          -4.46252467e-01, -5.16667508e-01, -4.46249758e-01, -2.80619605e-01,\n",
       "                          -7.86574898e-02,  1.27411302e-01,  3.19550441e-01,  4.87516990e-01,\n",
       "                           6.26698090e-01,  7.36729235e-01,  8.20114951e-01,  8.80907753e-01,\n",
       "                           9.23643392e-01,  9.52637049e-01,  9.71615297e-01,  9.83587118e-01,\n",
       "                           9.90854622e-01,  9.95094308e-01,  9.97468613e-01,  9.98744110e-01,\n",
       "                           9.99401143e-01,  9.99725622e-01,  9.99879252e-01,  9.99948993e-01,\n",
       "                          -1.00005130e+00, -1.00012103e+00, -1.00027458e+00, -1.00059867e+00,\n",
       "                          -1.00125405e+00, -1.00252301e+00, -1.00487352e+00, -1.00903348e+00,\n",
       "                          -1.01605526e+00, -1.02733085e+00, -1.04449647e+00, -1.06915550e+00,\n",
       "                          -1.10237159e+00, -1.14395809e+00, -1.19171183e+00, -1.24086025e+00,\n",
       "                          -1.28404213e+00, -1.31208129e+00, -1.31568514e+00, -1.28817987e+00,\n",
       "                          -1.22996321e+00, -1.15773004e+00, -1.11969112e+00, -1.15766003e+00,\n",
       "                          -1.22968748e+00, -1.28739611e+00, -1.31374132e+00, -1.30761893e+00,\n",
       "                          -1.27439614e+00, -1.22116762e+00, -1.15379759e+00, -1.07526347e+00,\n",
       "                          -9.85390097e-01, -8.81934952e-01, -7.62714902e-01, -6.28452341e-01,\n",
       "                          -4.86786940e-01, -3.60564705e-01, -3.01931331e-01, -3.53531333e-01,\n",
       "                          -4.70693730e-01, -5.99005974e-01, -7.13040589e-01, -8.02300396e-01,\n",
       "                          -8.63176523e-01, -8.95407628e-01, -8.99826424e-01, -8.76728080e-01,\n",
       "                          -8.24921113e-01, -7.41601207e-01, -6.23082579e-01, -4.66292920e-01,\n",
       "                          -2.70818190e-01, -4.11402887e-02,  2.11452470e-01,  4.67873762e-01,\n",
       "                           7.01534845e-01,  8.79543437e-01,  9.63521439e-01,  9.15057990e-01,\n",
       "                           7.32600318e-01,  4.78135694e-01,  2.25229560e-01,  2.81146547e-02,\n",
       "                          -7.97718424e-02, -8.63942570e-02, -1.47320345e-03,  1.45275349e-01,\n",
       "                           3.09681327e-01,  4.47194484e-01,  5.27384398e-01,  5.35010606e-01,\n",
       "                           4.68057515e-01,  3.36751980e-01,  1.60215978e-01, -3.86949655e-02,\n",
       "                          -2.38423810e-01, -4.22234537e-01, -5.79730073e-01, -7.06611264e-01])},\n",
       "             {'fill': 'toself',\n",
       "              'fillcolor': 'rgba(189,195,199,0.5)',\n",
       "              'hoverinfo': 'skip',\n",
       "              'line': {'color': 'rgba(200,200,200,0)'},\n",
       "              'name': 'mean plus/minus 2*standard deviation',\n",
       "              'showlegend': True,\n",
       "              'type': 'scatter',\n",
       "              'uid': '9e8c8e8a-8446-490f-8282-5894e6b9625a',\n",
       "              'visible': True,\n",
       "              'x': array([-1.00000000e+00, -9.00000000e-01, -8.00000000e-01, -7.00000000e-01,\n",
       "                          -6.00000000e-01, -5.00000000e-01, -4.00000000e-01, -3.00000000e-01,\n",
       "                          -2.00000000e-01, -1.00000000e-01, -2.22044605e-16,  1.00000000e-01,\n",
       "                           2.00000000e-01,  3.00000000e-01,  4.00000000e-01,  5.00000000e-01,\n",
       "                           6.00000000e-01,  7.00000000e-01,  8.00000000e-01,  9.00000000e-01,\n",
       "                           1.00000000e+00,  1.10000000e+00,  1.20000000e+00,  1.30000000e+00,\n",
       "                           1.40000000e+00,  1.50000000e+00,  1.60000000e+00,  1.70000000e+00,\n",
       "                           1.80000000e+00,  1.90000000e+00,  2.00000000e+00,  2.10000000e+00,\n",
       "                           2.20000000e+00,  2.30000000e+00,  2.40000000e+00,  2.50000000e+00,\n",
       "                           2.60000000e+00,  2.70000000e+00,  2.80000000e+00,  2.90000000e+00,\n",
       "                           3.00000000e+00,  3.10000000e+00,  3.20000000e+00,  3.30000000e+00,\n",
       "                           3.40000000e+00,  3.50000000e+00,  3.60000000e+00,  3.70000000e+00,\n",
       "                           3.80000000e+00,  3.90000000e+00,  4.00000000e+00,  4.10000000e+00,\n",
       "                           4.20000000e+00,  4.30000000e+00,  4.40000000e+00,  4.50000000e+00,\n",
       "                           4.60000000e+00,  4.70000000e+00,  4.80000000e+00,  4.90000000e+00,\n",
       "                           5.00000000e+00,  5.10000000e+00,  5.20000000e+00,  5.30000000e+00,\n",
       "                           5.40000000e+00,  5.50000000e+00,  5.60000000e+00,  5.70000000e+00,\n",
       "                           5.80000000e+00,  5.90000000e+00,  6.00000000e+00,  6.10000000e+00,\n",
       "                           6.20000000e+00,  6.30000000e+00,  6.40000000e+00,  6.50000000e+00,\n",
       "                           6.60000000e+00,  6.70000000e+00,  6.80000000e+00,  6.90000000e+00,\n",
       "                           6.90000000e+00,  6.80000000e+00,  6.70000000e+00,  6.60000000e+00,\n",
       "                           6.50000000e+00,  6.40000000e+00,  6.30000000e+00,  6.20000000e+00,\n",
       "                           6.10000000e+00,  6.00000000e+00,  5.90000000e+00,  5.80000000e+00,\n",
       "                           5.70000000e+00,  5.60000000e+00,  5.50000000e+00,  5.40000000e+00,\n",
       "                           5.30000000e+00,  5.20000000e+00,  5.10000000e+00,  5.00000000e+00,\n",
       "                           4.90000000e+00,  4.80000000e+00,  4.70000000e+00,  4.60000000e+00,\n",
       "                           4.50000000e+00,  4.40000000e+00,  4.30000000e+00,  4.20000000e+00,\n",
       "                           4.10000000e+00,  4.00000000e+00,  3.90000000e+00,  3.80000000e+00,\n",
       "                           3.70000000e+00,  3.60000000e+00,  3.50000000e+00,  3.40000000e+00,\n",
       "                           3.30000000e+00,  3.20000000e+00,  3.10000000e+00,  3.00000000e+00,\n",
       "                           2.90000000e+00,  2.80000000e+00,  2.70000000e+00,  2.60000000e+00,\n",
       "                           2.50000000e+00,  2.40000000e+00,  2.30000000e+00,  2.20000000e+00,\n",
       "                           2.10000000e+00,  2.00000000e+00,  1.90000000e+00,  1.80000000e+00,\n",
       "                           1.70000000e+00,  1.60000000e+00,  1.50000000e+00,  1.40000000e+00,\n",
       "                           1.30000000e+00,  1.20000000e+00,  1.10000000e+00,  1.00000000e+00,\n",
       "                           9.00000000e-01,  8.00000000e-01,  7.00000000e-01,  6.00000000e-01,\n",
       "                           5.00000000e-01,  4.00000000e-01,  3.00000000e-01,  2.00000000e-01,\n",
       "                           1.00000000e-01, -2.22044605e-16, -1.00000000e-01, -2.00000000e-01,\n",
       "                          -3.00000000e-01, -4.00000000e-01, -5.00000000e-01, -6.00000000e-01,\n",
       "                          -7.00000000e-01, -8.00000000e-01, -9.00000000e-01, -1.00000000e+00]),\n",
       "              'y': array([ 2.25199245,  2.3355196 ,  2.41752748,  2.48103883,  2.50504815,\n",
       "                           2.46847393,  2.35559261,  2.16166994,  1.89720753,  1.58960664,\n",
       "                           1.28188575,  1.02650983,  0.86715614,  0.8191413 ,  0.87464669,\n",
       "                           1.01148318,  1.19467077,  1.38304835,  1.54330352,  1.67093977,\n",
       "                           1.81093055,  2.01494759,  2.2478583 ,  2.44156772,  2.5607785 ,\n",
       "                           2.6007239 ,  2.57446395,  2.50319511,  2.40907226,  2.31028177,\n",
       "                           2.21833282,  2.13726937,  2.06424605,  1.99090798,  1.90525443,\n",
       "                           1.79394001,  1.64507839,  1.45158402,  1.21527219,  0.95332042,\n",
       "                           0.71368889,  0.60260409,  0.70654662,  0.93663164,  1.18389923,\n",
       "                           1.39680055,  1.55324282,  1.64471312,  1.66948658,  1.62862071,\n",
       "                           1.52358244,  1.35570709,  1.12755886,  0.84577415,  0.52495548,\n",
       "                           0.19373114, -0.09054868, -0.2151557 , -0.09050962,  0.1940522 ,\n",
       "                           0.5261037 ,  0.84895952,  1.13536631,  1.37329655,  1.56047726,\n",
       "                           1.70094977,  1.80215147,  1.87254742,  1.92004284,  1.95120381,\n",
       "                           1.97108837,  1.98340831,  1.99079867,  1.99507822,  1.99746443,\n",
       "                           1.99874319,  1.99940105,  1.99972572,  1.99987939,  1.99994914,\n",
       "                          -2.00005145, -2.00012117, -2.00027467, -2.00059858, -2.00125313,\n",
       "                          -2.00251883, -2.00485744, -2.00897753, -2.01587645, -2.02680392,\n",
       "                          -2.04306322, -2.06555495, -2.09401126, -2.12599461, -2.15593236,\n",
       "                          -2.17463942, -2.16982169, -2.12789716, -2.03723336, -1.89294106,\n",
       "                          -1.70463502, -1.51347017, -1.42120293, -1.51336382, -1.70416035,\n",
       "                          -1.89151331, -2.03357981, -2.11934485, -2.15109721, -2.1360843 ,\n",
       "                          -2.08127035, -1.99018015, -1.86209117, -1.69366087, -1.48255339,\n",
       "                          -1.23256953, -0.9612598 , -0.71626848, -0.60344314, -0.70927141,\n",
       "                          -0.94536511, -1.20376536, -1.43458213, -1.61809332, -1.74888203,\n",
       "                          -1.82896165, -1.86340456, -1.85705279, -1.81231794, -1.72824588,\n",
       "                          -1.6008707 , -1.42474798, -1.19548929, -0.91300837, -0.58497134,\n",
       "                          -0.22976115,  0.12152389,  0.42343848,  0.61304605,  0.6164338 ,\n",
       "                           0.4198205 ,  0.12307975, -0.16071004, -0.36073738, -0.44352352,\n",
       "                          -0.40674124, -0.27501137, -0.09535158,  0.07073849,  0.16896406,\n",
       "                           0.17331032,  0.08094496, -0.09647996, -0.3361949 , -0.60920334,\n",
       "                          -0.88660934, -1.14491136, -1.36882188, -1.55147996, -1.6928125 ])},\n",
       "             {'fill': 'toself',\n",
       "              'fillcolor': 'rgba(189,195,199,0.5)',\n",
       "              'hoverinfo': 'skip',\n",
       "              'line': {'color': 'rgba(200,200,200,0)'},\n",
       "              'name': 'mean plus/minus 3*standard deviation',\n",
       "              'showlegend': True,\n",
       "              'type': 'scatter',\n",
       "              'uid': '72601191-6e50-4c51-b76e-b3b9b9f66852',\n",
       "              'visible': True,\n",
       "              'x': array([-1.00000000e+00, -9.00000000e-01, -8.00000000e-01, -7.00000000e-01,\n",
       "                          -6.00000000e-01, -5.00000000e-01, -4.00000000e-01, -3.00000000e-01,\n",
       "                          -2.00000000e-01, -1.00000000e-01, -2.22044605e-16,  1.00000000e-01,\n",
       "                           2.00000000e-01,  3.00000000e-01,  4.00000000e-01,  5.00000000e-01,\n",
       "                           6.00000000e-01,  7.00000000e-01,  8.00000000e-01,  9.00000000e-01,\n",
       "                           1.00000000e+00,  1.10000000e+00,  1.20000000e+00,  1.30000000e+00,\n",
       "                           1.40000000e+00,  1.50000000e+00,  1.60000000e+00,  1.70000000e+00,\n",
       "                           1.80000000e+00,  1.90000000e+00,  2.00000000e+00,  2.10000000e+00,\n",
       "                           2.20000000e+00,  2.30000000e+00,  2.40000000e+00,  2.50000000e+00,\n",
       "                           2.60000000e+00,  2.70000000e+00,  2.80000000e+00,  2.90000000e+00,\n",
       "                           3.00000000e+00,  3.10000000e+00,  3.20000000e+00,  3.30000000e+00,\n",
       "                           3.40000000e+00,  3.50000000e+00,  3.60000000e+00,  3.70000000e+00,\n",
       "                           3.80000000e+00,  3.90000000e+00,  4.00000000e+00,  4.10000000e+00,\n",
       "                           4.20000000e+00,  4.30000000e+00,  4.40000000e+00,  4.50000000e+00,\n",
       "                           4.60000000e+00,  4.70000000e+00,  4.80000000e+00,  4.90000000e+00,\n",
       "                           5.00000000e+00,  5.10000000e+00,  5.20000000e+00,  5.30000000e+00,\n",
       "                           5.40000000e+00,  5.50000000e+00,  5.60000000e+00,  5.70000000e+00,\n",
       "                           5.80000000e+00,  5.90000000e+00,  6.00000000e+00,  6.10000000e+00,\n",
       "                           6.20000000e+00,  6.30000000e+00,  6.40000000e+00,  6.50000000e+00,\n",
       "                           6.60000000e+00,  6.70000000e+00,  6.80000000e+00,  6.90000000e+00,\n",
       "                           6.90000000e+00,  6.80000000e+00,  6.70000000e+00,  6.60000000e+00,\n",
       "                           6.50000000e+00,  6.40000000e+00,  6.30000000e+00,  6.20000000e+00,\n",
       "                           6.10000000e+00,  6.00000000e+00,  5.90000000e+00,  5.80000000e+00,\n",
       "                           5.70000000e+00,  5.60000000e+00,  5.50000000e+00,  5.40000000e+00,\n",
       "                           5.30000000e+00,  5.20000000e+00,  5.10000000e+00,  5.00000000e+00,\n",
       "                           4.90000000e+00,  4.80000000e+00,  4.70000000e+00,  4.60000000e+00,\n",
       "                           4.50000000e+00,  4.40000000e+00,  4.30000000e+00,  4.20000000e+00,\n",
       "                           4.10000000e+00,  4.00000000e+00,  3.90000000e+00,  3.80000000e+00,\n",
       "                           3.70000000e+00,  3.60000000e+00,  3.50000000e+00,  3.40000000e+00,\n",
       "                           3.30000000e+00,  3.20000000e+00,  3.10000000e+00,  3.00000000e+00,\n",
       "                           2.90000000e+00,  2.80000000e+00,  2.70000000e+00,  2.60000000e+00,\n",
       "                           2.50000000e+00,  2.40000000e+00,  2.30000000e+00,  2.20000000e+00,\n",
       "                           2.10000000e+00,  2.00000000e+00,  1.90000000e+00,  1.80000000e+00,\n",
       "                           1.70000000e+00,  1.60000000e+00,  1.50000000e+00,  1.40000000e+00,\n",
       "                           1.30000000e+00,  1.20000000e+00,  1.10000000e+00,  1.00000000e+00,\n",
       "                           9.00000000e-01,  8.00000000e-01,  7.00000000e-01,  6.00000000e-01,\n",
       "                           5.00000000e-01,  4.00000000e-01,  3.00000000e-01,  2.00000000e-01,\n",
       "                           1.00000000e-01, -2.22044605e-16, -1.00000000e-01, -2.00000000e-01,\n",
       "                          -3.00000000e-01, -4.00000000e-01, -5.00000000e-01, -6.00000000e-01,\n",
       "                          -7.00000000e-01, -8.00000000e-01, -9.00000000e-01, -1.00000000e+00]),\n",
       "              'y': array([ 3.23819369,  3.30726949,  3.36411482,  3.38752637,  3.35296252,\n",
       "                           3.23789325,  3.02853949,  2.72620742,  2.35127317,  1.94368073,\n",
       "                           1.56011617,  1.26545267,  1.10778308,  1.09267947,  1.19499367,\n",
       "                           1.37523486,  1.58352281,  1.76898794,  1.89835946,  1.98371959,\n",
       "                           2.10955474,  2.36542297,  2.70396326,  3.02157867,  3.25841341,\n",
       "                           3.39714771,  3.44633203,  3.4278662 ,  3.36752732,  3.28806989,\n",
       "                           3.20497749,  3.1246662 ,  3.04457075,  2.95448611,  2.83880845,\n",
       "                           2.67964552,  2.46087132,  2.17312556,  1.82003158,  1.42799181,\n",
       "                           1.06942897,  0.9041159 ,  1.0622504 ,  1.4111045 ,  1.78801642,\n",
       "                           2.11663903,  2.36496874,  2.52141419,  2.58440326,  2.55609348,\n",
       "                           2.43849912,  2.23240816,  1.93928478,  1.56561264,  1.12907268,\n",
       "                           0.66820401,  0.2651551 ,  0.08635611,  0.26523052,  0.668724  ,\n",
       "                           1.13086489,  1.57050775,  1.95118218,  2.25907611,  2.49425643,\n",
       "                           2.6651703 ,  2.78418799,  2.86418709,  2.91644229,  2.94977056,\n",
       "                           2.97056144,  2.98322949,  2.99074272,  2.99506214,  2.99746024,\n",
       "                           2.99874227,  2.99940096,  2.99972582,  2.99987953,  2.99994929,\n",
       "                          -3.0000516 , -3.00012131, -3.00027477, -3.00059848, -3.00125221,\n",
       "                          -3.00251464, -3.00484136, -3.00892158, -3.01569764, -3.026277  ,\n",
       "                          -3.04162998, -3.0619544 , -3.08565093, -3.10803113, -3.12015289,\n",
       "                          -3.10841859, -3.05560125, -2.94371303, -2.75878159, -2.49770225,\n",
       "                          -2.17930682, -1.86921031, -1.72271474, -1.8690676 , -2.17863322,\n",
       "                          -2.49563051, -2.7534183 , -2.93107078, -3.02779828, -3.05100098,\n",
       "                          -3.00874312, -2.90509683, -2.73879224, -2.5053868 , -2.20239187,\n",
       "                          -1.83668672, -1.43573266, -1.07197226, -0.90495495, -1.06501148,\n",
       "                          -1.4200365 , -1.80852475, -2.15612366, -2.43388625, -2.63458754,\n",
       "                          -2.76251567, -2.82698269, -2.8373775 , -2.79971477, -2.71489056,\n",
       "                          -2.57865881, -2.38320304, -2.12016039, -1.78487645, -1.38139515,\n",
       "                          -0.92739606, -0.45848707, -0.03266647,  0.26257067,  0.31780962,\n",
       "                           0.10704068, -0.23197619, -0.54664963, -0.74958942, -0.80727519,\n",
       "                          -0.72708822, -0.54854954, -0.33597851, -0.16820434, -0.10926636,\n",
       "                          -0.18076377, -0.37312068, -0.66101744, -1.00914178, -1.37862266,\n",
       "                          -1.73452371, -2.0513989 , -2.31540921, -2.52322986, -2.67901374])},\n",
       "             {'line': {'color': 'blue', 'width': 2},\n",
       "              'name': 'Predicted function',\n",
       "              'showlegend': True,\n",
       "              'type': 'scatter',\n",
       "              'uid': '8e7c7239-e2f2-4375-a9c7-76e26d65f59a',\n",
       "              'visible': True,\n",
       "              'x': array([-1.00000000e+00, -9.00000000e-01, -8.00000000e-01, -7.00000000e-01,\n",
       "                          -6.00000000e-01, -5.00000000e-01, -4.00000000e-01, -3.00000000e-01,\n",
       "                          -2.00000000e-01, -1.00000000e-01, -2.22044605e-16,  1.00000000e-01,\n",
       "                           2.00000000e-01,  3.00000000e-01,  4.00000000e-01,  5.00000000e-01,\n",
       "                           6.00000000e-01,  7.00000000e-01,  8.00000000e-01,  9.00000000e-01,\n",
       "                           1.00000000e+00,  1.10000000e+00,  1.20000000e+00,  1.30000000e+00,\n",
       "                           1.40000000e+00,  1.50000000e+00,  1.60000000e+00,  1.70000000e+00,\n",
       "                           1.80000000e+00,  1.90000000e+00,  2.00000000e+00,  2.10000000e+00,\n",
       "                           2.20000000e+00,  2.30000000e+00,  2.40000000e+00,  2.50000000e+00,\n",
       "                           2.60000000e+00,  2.70000000e+00,  2.80000000e+00,  2.90000000e+00,\n",
       "                           3.00000000e+00,  3.10000000e+00,  3.20000000e+00,  3.30000000e+00,\n",
       "                           3.40000000e+00,  3.50000000e+00,  3.60000000e+00,  3.70000000e+00,\n",
       "                           3.80000000e+00,  3.90000000e+00,  4.00000000e+00,  4.10000000e+00,\n",
       "                           4.20000000e+00,  4.30000000e+00,  4.40000000e+00,  4.50000000e+00,\n",
       "                           4.60000000e+00,  4.70000000e+00,  4.80000000e+00,  4.90000000e+00,\n",
       "                           5.00000000e+00,  5.10000000e+00,  5.20000000e+00,  5.30000000e+00,\n",
       "                           5.40000000e+00,  5.50000000e+00,  5.60000000e+00,  5.70000000e+00,\n",
       "                           5.80000000e+00,  5.90000000e+00,  6.00000000e+00,  6.10000000e+00,\n",
       "                           6.20000000e+00,  6.30000000e+00,  6.40000000e+00,  6.50000000e+00,\n",
       "                           6.60000000e+00,  6.70000000e+00,  6.80000000e+00,  6.90000000e+00]),\n",
       "              'y': array([ 2.79589974e-01,  3.92019819e-01,  5.24352802e-01,  6.68063735e-01,\n",
       "                           8.09219406e-01,  9.29635297e-01,  1.00969886e+00,  1.03259499e+00,\n",
       "                           9.89076248e-01,  8.81458480e-01,  7.25424906e-01,  5.48624162e-01,\n",
       "                           3.85902281e-01,  2.72064966e-01,  2.33952725e-01,  2.83979833e-01,\n",
       "                           4.16966693e-01,  6.11169156e-01,  8.33191635e-01,  1.04538014e+00,\n",
       "                           1.21368218e+00,  1.31399682e+00,  1.33564839e+00,  1.28154580e+00,\n",
       "                           1.16550867e+00,  1.00787628e+00,  8.30727790e-01,  6.53852908e-01,\n",
       "                           4.92162139e-01,  3.54705537e-01,  2.45043468e-01,  1.62475716e-01,\n",
       "                           1.03596628e-01,  6.37517092e-02,  3.81463906e-02,  2.25289868e-02,\n",
       "                           1.34925328e-02,  8.50094742e-03,  5.75341412e-03,  3.97765436e-03,\n",
       "                           2.20874272e-03, -4.19522665e-04, -4.86092943e-03, -1.23140799e-02,\n",
       "                          -2.43351511e-02, -4.28764185e-02, -7.02090287e-02, -1.08689025e-01,\n",
       "                          -1.60346785e-01, -2.26324821e-01, -3.06250932e-01, -3.97695062e-01,\n",
       "                          -4.95892999e-01, -5.93902829e-01, -6.83278914e-01, -7.55214606e-01,\n",
       "                          -8.01956250e-01, -8.18179316e-01, -8.01989896e-01, -7.55291409e-01,\n",
       "                          -6.83418681e-01, -5.94136920e-01, -4.96265427e-01, -3.98262569e-01,\n",
       "                          -3.07081081e-01, -2.27491297e-01, -1.61921568e-01, -1.10731917e-01,\n",
       "                          -7.27560555e-02, -4.59297085e-02, -2.78577766e-02, -1.62340707e-02,\n",
       "                          -9.08942968e-03, -4.88960814e-03, -2.52720049e-03, -1.25497063e-03,\n",
       "                          -5.98763949e-04, -2.74476994e-04, -1.20888356e-04, -5.11553686e-05])},\n",
       "             {'marker': {'color': 'red', 'size': 8},\n",
       "              'mode': 'markers',\n",
       "              'name': 'Observed points',\n",
       "              'showlegend': True,\n",
       "              'type': 'scatter',\n",
       "              'uid': '6d9dd41e-73f8-4902-b585-59d97ea21a0d',\n",
       "              'visible': True,\n",
       "              'x': array([0. , 0.3, 1. , 3.1, 4.7]),\n",
       "              'y': array([ 1. ,  0. ,  1.4,  0. , -0.9])}],\n",
       "    'layout': {'autosize': False,\n",
       "               'height': 600,\n",
       "               'legend': {'x': 0.95, 'xanchor': 'right', 'y': 0.9, 'yanchor': 'top'},\n",
       "               'plot_bgcolor': 'rgba(0,0,0,0)',\n",
       "               'template': '...',\n",
       "               'title': {'text': 'GPR with varying length, sigma and white noise', 'x': 0.5, 'xanchor': 'center'},\n",
       "               'width': 800,\n",
       "               'xaxis': {'linecolor': 'black', 'linewidth': 1, 'showline': True, 'title': {'text': 'input values'}},\n",
       "               'yaxis': {'linecolor': 'black', 'linewidth': 1, 'showline': True, 'title': {'text': 'output values'}}}\n",
       "})"
      ]
     },
     "execution_count": 19,
     "metadata": {},
     "output_type": "execute_result"
    }
   ],
   "source": [
    "model = GPR(x_values,\n",
    "            y_values,\n",
    "            covariance_function=SquaredExponentialKernel(length=0.5),\n",
    "            white_noise_sigma=0.1)\n",
    "\n",
    "data = plot_GPR(x_values, y_values, model=model, x=x)\n",
    "\n",
    "fig3 = go.FigureWidget(data=data)\n",
    "\n",
    "\n",
    "# we update the y values of our 4 scatter plots \n",
    "@interact(sigma=(0.01, 3, 0.01), length=(0.01, 3, 0.01), noise=(0, 3, 0.1))\n",
    "def update(sigma=1, length=0.5, noise=0.1):\n",
    "    with fig3.batch_update():\n",
    "        model = GPR(x_values,\n",
    "                    y_values,\n",
    "                    covariance_function=SquaredExponentialKernel(\n",
    "                        sigma_f=sigma, length=length),\n",
    "                    white_noise_sigma=noise)\n",
    "\n",
    "        mean = model.predict(x)\n",
    "        y_upper = mean + np.sqrt(model._memory['variance'])\n",
    "        y_lower = mean - np.sqrt(model._memory['variance'])\n",
    "\n",
    "        \n",
    "        for i in range(1, 4):\n",
    "            y_upper = mean + i * np.sqrt(model._memory['variance'])\n",
    "            y_lower = mean - i * np.sqrt(model._memory['variance'])\n",
    "            fig3.data[i-1].y = np.concatenate((y_upper, y_lower[::-1]))\n",
    "        \n",
    "        fig3.data[3].y = mean\n",
    "\n",
    "\n",
    "fig3 = update_layout_of_graph(\n",
    "    fig3, title=\"GPR with varying length, sigma and white noise\")\n",
    "fig3"
   ]
  },
  {
   "cell_type": "markdown",
   "id": "188b1f24",
   "metadata": {},
   "source": [
    "Pretty impressive how many function 'shapes' we can generate with a GPR!\n",
    "\n",
    "But now we naturally raise the question:\n",
    "\n",
    "_What are the best parameters for our GPR and problem?_"
   ]
  }
 ],
 "metadata": {
  "kernelspec": {
   "display_name": "Python 3 (ipykernel)",
   "language": "python",
   "name": "python3"
  },
  "language_info": {
   "codemirror_mode": {
    "name": "ipython",
    "version": 3
   },
   "file_extension": ".py",
   "mimetype": "text/x-python",
   "name": "python",
   "nbconvert_exporter": "python",
   "pygments_lexer": "ipython3",
   "version": "3.11.4"
  },
  "toc": {
   "base_numbering": 1,
   "nav_menu": {},
   "number_sections": true,
   "sideBar": true,
   "skip_h1_title": false,
   "title_cell": "Table of Contents",
   "title_sidebar": "Contents",
   "toc_cell": false,
   "toc_position": {},
   "toc_section_display": true,
   "toc_window_display": false
  },
  "varInspector": {
   "cols": {
    "lenName": 16,
    "lenType": 16,
    "lenVar": 40
   },
   "kernels_config": {
    "python": {
     "delete_cmd_postfix": "",
     "delete_cmd_prefix": "del ",
     "library": "var_list.py",
     "varRefreshCmd": "print(var_dic_list())"
    },
    "r": {
     "delete_cmd_postfix": ") ",
     "delete_cmd_prefix": "rm(",
     "library": "var_list.r",
     "varRefreshCmd": "cat(var_dic_list()) "
    }
   },
   "types_to_exclude": [
    "module",
    "function",
    "builtin_function_or_method",
    "instance",
    "_Feature"
   ],
   "window_display": false
  }
 },
 "nbformat": 4,
 "nbformat_minor": 5
}
